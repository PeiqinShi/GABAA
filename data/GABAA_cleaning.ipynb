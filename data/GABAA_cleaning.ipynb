{
 "cells": [
  {
   "cell_type": "code",
   "execution_count": 1,
   "id": "e03d3c81",
   "metadata": {},
   "outputs": [],
   "source": [
    "import pandas as pd\n",
    "from data_processing.refinement import refineComplete"
   ]
  },
  {
   "cell_type": "code",
   "execution_count": 10,
   "id": "591e2121",
   "metadata": {},
   "outputs": [],
   "source": [
    "gaba_agonist = pd.read_csv('refined_taoshu_agonist.csv')['smiles'].tolist()"
   ]
  },
  {
   "cell_type": "code",
   "execution_count": 4,
   "id": "057f9841",
   "metadata": {},
   "outputs": [],
   "source": [
    "gaba_antagonist = pd.read_csv('GABAA_antagonist.csv')['SMILES'].tolist()"
   ]
  },
  {
   "cell_type": "code",
   "execution_count": 3,
   "id": "496c3f92",
   "metadata": {},
   "outputs": [],
   "source": [
    "chembl_agonist = pd.read_csv('Chembl_gabaa_agonist.csv')['SMILES'].tolist()"
   ]
  },
  {
   "cell_type": "code",
   "execution_count": 4,
   "id": "16bee634",
   "metadata": {},
   "outputs": [],
   "source": [
    "chembl_antagonist = pd.read_csv('Chembl_gabaa_antagonist.csv')['SMILES'].tolist()"
   ]
  },
  {
   "cell_type": "code",
   "execution_count": null,
   "id": "6ad37def",
   "metadata": {},
   "outputs": [],
   "source": [
    "chembl_inhibition = pd.read_csv('gaba_nonagonist.csv')['SMILES'].tolist()"
   ]
  },
  {
   "cell_type": "code",
   "execution_count": 32,
   "id": "98dd3a00",
   "metadata": {},
   "outputs": [],
   "source": [
    "mce_agonist = pd.read_csv('./处理前的数据/gabaa_MCE.csv')[16:31]['SMILES'].tolist()"
   ]
  },
  {
   "cell_type": "code",
   "execution_count": 33,
   "id": "19afc12a",
   "metadata": {},
   "outputs": [],
   "source": [
    "mce_antagonist = pd.read_csv('./处理前的数据/gabaa_MCE.csv')[0:16]['SMILES'].tolist()"
   ]
  },
  {
   "cell_type": "markdown",
   "id": "60af5166",
   "metadata": {},
   "source": [
    "# gaba_agonist"
   ]
  },
  {
   "cell_type": "code",
   "execution_count": 11,
   "id": "fd18a2e8",
   "metadata": {
    "scrolled": true
   },
   "outputs": [
    {
     "name": "stdout",
     "output_type": "stream",
     "text": [
      "=============================================================================\n",
      "VALIDATION\n",
      "-----------------------------------------------------------------------------\n",
      "570/570 structures were successfully validated\n",
      "-----------------------------------------------------------------------------\n",
      "No duplicate was found (in 570 validated structures)\n",
      "=============================================================================\n",
      "CLEANING\n",
      "-----------------------------------------------------------------------------\n",
      "570/570 structures were successfully cleaned\n",
      "-----------------------------------------------------------------------------\n",
      "No duplicate was found (in 570 cleaned structures)\n",
      "=============================================================================\n"
     ]
    },
    {
     "name": "stderr",
     "output_type": "stream",
     "text": [
      "[14:11:06] Can't kekulize mol.  Unkekulized atoms: 9 10 25 29\n",
      "[14:11:06] Can't kekulize mol.  Unkekulized atoms: 9 10 25 29\n",
      "[14:11:06] Can't kekulize mol.  Unkekulized atoms: 9 10 25 29\n",
      "[14:11:06] Can't kekulize mol.  Unkekulized atoms: 9 10 25 29\n",
      "[14:11:06] Can't kekulize mol.  Unkekulized atoms: 9 10 25 29\n",
      "[14:11:06] Can't kekulize mol.  Unkekulized atoms: 9 10 25 29\n",
      "[14:11:06] Can't kekulize mol.  Unkekulized atoms: 9 10 25 29\n",
      "[14:11:06] Can't kekulize mol.  Unkekulized atoms: 9 10 25 29\n",
      "[14:11:07] Tautomer enumeration stopped at 166 tautomers: max transforms reached\n",
      "[14:11:08] Can't kekulize mol.  Unkekulized atoms: 10 14\n",
      "[14:11:08] Can't kekulize mol.  Unkekulized atoms: 10 14\n",
      "[14:11:08] Can't kekulize mol.  Unkekulized atoms: 17 21\n",
      "[14:11:08] Can't kekulize mol.  Unkekulized atoms: 17 21\n",
      "[14:11:08] Can't kekulize mol.  Unkekulized atoms: 17 21\n",
      "[14:11:08] Can't kekulize mol.  Unkekulized atoms: 17 21\n",
      "[14:11:08] Can't kekulize mol.  Unkekulized atoms: 10 14\n",
      "[14:11:08] Can't kekulize mol.  Unkekulized atoms: 11 15\n",
      "[14:11:08] Can't kekulize mol.  Unkekulized atoms: 11 15\n",
      "[14:11:08] Can't kekulize mol.  Unkekulized atoms: 11 15\n",
      "[14:11:08] Can't kekulize mol.  Unkekulized atoms: 11 15\n",
      "[14:11:08] Can't kekulize mol.  Unkekulized atoms: 11 15\n",
      "[14:11:08] Can't kekulize mol.  Unkekulized atoms: 11 15\n",
      "[14:11:09] Can't kekulize mol.  Unkekulized atoms: 11 15\n",
      "[14:11:09] Can't kekulize mol.  Unkekulized atoms: 11 15\n",
      "[14:11:09] Can't kekulize mol.  Unkekulized atoms: 11 15\n",
      "[14:11:09] Can't kekulize mol.  Unkekulized atoms: 11 15\n",
      "[14:11:09] Can't kekulize mol.  Unkekulized atoms: 11 15\n",
      "[14:11:09] Can't kekulize mol.  Unkekulized atoms: 11 15\n",
      "[14:11:09] Can't kekulize mol.  Unkekulized atoms: 11 15\n",
      "[14:11:09] Can't kekulize mol.  Unkekulized atoms: 11 15\n",
      "[14:11:09] Can't kekulize mol.  Unkekulized atoms: 11 15\n",
      "[14:11:09] Can't kekulize mol.  Unkekulized atoms: 11 15\n",
      "[14:11:09] Can't kekulize mol.  Unkekulized atoms: 4 8 19 32\n",
      "[14:11:09] Can't kekulize mol.  Unkekulized atoms: 4 8 19 32\n",
      "[14:11:09] Can't kekulize mol.  Unkekulized atoms: 4 8 19 32\n",
      "[14:11:09] Can't kekulize mol.  Unkekulized atoms: 4 8 19 32\n",
      "[14:11:11] Can't kekulize mol.  Unkekulized atoms: 10 11 14\n",
      "[14:11:12] Can't kekulize mol.  Unkekulized atoms: 8 12\n",
      "[14:11:13] Can't kekulize mol.  Unkekulized atoms: 2 6\n",
      "[14:11:14] Can't kekulize mol.  Unkekulized atoms: 9 10 25 29\n",
      "[14:11:14] Can't kekulize mol.  Unkekulized atoms: 9 10 25 29\n",
      "[14:11:14] Can't kekulize mol.  Unkekulized atoms: 9 10 25 29\n",
      "[14:11:14] Can't kekulize mol.  Unkekulized atoms: 9 10 25 29\n",
      "[14:11:14] Can't kekulize mol.  Unkekulized atoms: 9 10 25 29\n",
      "[14:11:14] Can't kekulize mol.  Unkekulized atoms: 9 10 25 29\n",
      "[14:11:14] Can't kekulize mol.  Unkekulized atoms: 9 10 25 29\n",
      "[14:11:14] Can't kekulize mol.  Unkekulized atoms: 9 10 25 29\n",
      "[14:11:14] Tautomer enumeration stopped at 166 tautomers: max transforms reached\n",
      "[14:11:15] Can't kekulize mol.  Unkekulized atoms: 10 14\n",
      "[14:11:15] Can't kekulize mol.  Unkekulized atoms: 10 14\n",
      "[14:11:15] Can't kekulize mol.  Unkekulized atoms: 17 21\n",
      "[14:11:15] Can't kekulize mol.  Unkekulized atoms: 17 21\n",
      "[14:11:15] Can't kekulize mol.  Unkekulized atoms: 17 21\n",
      "[14:11:15] Can't kekulize mol.  Unkekulized atoms: 17 21\n",
      "[14:11:16] Can't kekulize mol.  Unkekulized atoms: 10 14\n",
      "[14:11:16] Can't kekulize mol.  Unkekulized atoms: 11 15\n",
      "[14:11:16] Can't kekulize mol.  Unkekulized atoms: 11 15\n",
      "[14:11:16] Can't kekulize mol.  Unkekulized atoms: 11 15\n",
      "[14:11:16] Can't kekulize mol.  Unkekulized atoms: 11 15\n",
      "[14:11:16] Can't kekulize mol.  Unkekulized atoms: 11 15\n",
      "[14:11:16] Can't kekulize mol.  Unkekulized atoms: 11 15\n",
      "[14:11:16] Can't kekulize mol.  Unkekulized atoms: 11 15\n",
      "[14:11:16] Can't kekulize mol.  Unkekulized atoms: 11 15\n",
      "[14:11:16] Can't kekulize mol.  Unkekulized atoms: 11 15\n",
      "[14:11:16] Can't kekulize mol.  Unkekulized atoms: 11 15\n",
      "[14:11:16] Can't kekulize mol.  Unkekulized atoms: 11 15\n",
      "[14:11:16] Can't kekulize mol.  Unkekulized atoms: 11 15\n",
      "[14:11:16] Can't kekulize mol.  Unkekulized atoms: 11 15\n",
      "[14:11:16] Can't kekulize mol.  Unkekulized atoms: 11 15\n",
      "[14:11:16] Can't kekulize mol.  Unkekulized atoms: 11 15\n",
      "[14:11:16] Can't kekulize mol.  Unkekulized atoms: 11 15\n",
      "[14:11:16] Can't kekulize mol.  Unkekulized atoms: 4 8 19 32\n",
      "[14:11:16] Can't kekulize mol.  Unkekulized atoms: 4 8 19 32\n",
      "[14:11:16] Can't kekulize mol.  Unkekulized atoms: 4 8 19 32\n",
      "[14:11:16] Can't kekulize mol.  Unkekulized atoms: 4 8 19 32\n",
      "[14:11:18] Can't kekulize mol.  Unkekulized atoms: 10 11 14\n",
      "[14:11:19] Can't kekulize mol.  Unkekulized atoms: 8 12\n",
      "[14:11:20] Can't kekulize mol.  Unkekulized atoms: 2 6\n",
      "[14:11:23] Can't kekulize mol.  Unkekulized atoms: 9 10 25 29\n",
      "[14:11:23] Can't kekulize mol.  Unkekulized atoms: 9 10 25 29\n",
      "[14:11:23] Can't kekulize mol.  Unkekulized atoms: 9 10 25 29\n",
      "[14:11:23] Can't kekulize mol.  Unkekulized atoms: 9 10 25 29\n",
      "[14:11:23] Can't kekulize mol.  Unkekulized atoms: 9 10 25 29\n",
      "[14:11:23] Can't kekulize mol.  Unkekulized atoms: 9 10 25 29\n",
      "[14:11:23] Can't kekulize mol.  Unkekulized atoms: 9 10 25 29\n",
      "[14:11:23] Can't kekulize mol.  Unkekulized atoms: 9 10 25 29\n",
      "[14:11:24] Tautomer enumeration stopped at 166 tautomers: max transforms reached\n",
      "[14:11:25] Can't kekulize mol.  Unkekulized atoms: 10 14\n",
      "[14:11:25] Can't kekulize mol.  Unkekulized atoms: 10 14\n",
      "[14:11:25] Can't kekulize mol.  Unkekulized atoms: 17 21\n",
      "[14:11:25] Can't kekulize mol.  Unkekulized atoms: 17 21\n",
      "[14:11:25] Can't kekulize mol.  Unkekulized atoms: 17 21\n",
      "[14:11:25] Can't kekulize mol.  Unkekulized atoms: 17 21\n",
      "[14:11:25] Can't kekulize mol.  Unkekulized atoms: 10 14\n",
      "[14:11:25] Can't kekulize mol.  Unkekulized atoms: 11 15\n",
      "[14:11:26] Can't kekulize mol.  Unkekulized atoms: 11 15\n",
      "[14:11:26] Can't kekulize mol.  Unkekulized atoms: 11 15\n",
      "[14:11:26] Can't kekulize mol.  Unkekulized atoms: 11 15\n",
      "[14:11:26] Can't kekulize mol.  Unkekulized atoms: 11 15\n",
      "[14:11:26] Can't kekulize mol.  Unkekulized atoms: 11 15\n",
      "[14:11:26] Can't kekulize mol.  Unkekulized atoms: 11 15\n",
      "[14:11:26] Can't kekulize mol.  Unkekulized atoms: 11 15\n",
      "[14:11:26] Can't kekulize mol.  Unkekulized atoms: 11 15\n",
      "[14:11:26] Can't kekulize mol.  Unkekulized atoms: 11 15\n",
      "[14:11:26] Can't kekulize mol.  Unkekulized atoms: 11 15\n",
      "[14:11:26] Can't kekulize mol.  Unkekulized atoms: 11 15\n",
      "[14:11:26] Can't kekulize mol.  Unkekulized atoms: 11 15\n",
      "[14:11:26] Can't kekulize mol.  Unkekulized atoms: 11 15\n",
      "[14:11:26] Can't kekulize mol.  Unkekulized atoms: 11 15\n",
      "[14:11:26] Can't kekulize mol.  Unkekulized atoms: 11 15\n",
      "[14:11:26] Can't kekulize mol.  Unkekulized atoms: 4 8 19 32\n",
      "[14:11:26] Can't kekulize mol.  Unkekulized atoms: 4 8 19 32\n",
      "[14:11:26] Can't kekulize mol.  Unkekulized atoms: 4 8 19 32\n",
      "[14:11:26] Can't kekulize mol.  Unkekulized atoms: 4 8 19 32\n",
      "[14:11:28] Can't kekulize mol.  Unkekulized atoms: 10 11 14\n",
      "[14:11:29] Can't kekulize mol.  Unkekulized atoms: 8 12\n",
      "[14:11:30] Can't kekulize mol.  Unkekulized atoms: 2 6\n",
      "[14:11:31] Can't kekulize mol.  Unkekulized atoms: 9 10 25 29\n",
      "[14:11:31] Can't kekulize mol.  Unkekulized atoms: 9 10 25 29\n",
      "[14:11:31] Can't kekulize mol.  Unkekulized atoms: 9 10 25 29\n",
      "[14:11:31] Can't kekulize mol.  Unkekulized atoms: 9 10 25 29\n",
      "[14:11:31] Can't kekulize mol.  Unkekulized atoms: 9 10 25 29\n",
      "[14:11:31] Can't kekulize mol.  Unkekulized atoms: 9 10 25 29\n",
      "[14:11:31] Can't kekulize mol.  Unkekulized atoms: 9 10 25 29\n",
      "[14:11:31] Can't kekulize mol.  Unkekulized atoms: 9 10 25 29\n",
      "[14:11:32] Tautomer enumeration stopped at 166 tautomers: max transforms reached\n",
      "[14:11:33] Can't kekulize mol.  Unkekulized atoms: 10 14\n",
      "[14:11:33] Can't kekulize mol.  Unkekulized atoms: 10 14\n",
      "[14:11:33] Can't kekulize mol.  Unkekulized atoms: 17 21\n",
      "[14:11:33] Can't kekulize mol.  Unkekulized atoms: 17 21\n",
      "[14:11:33] Can't kekulize mol.  Unkekulized atoms: 17 21\n",
      "[14:11:33] Can't kekulize mol.  Unkekulized atoms: 17 21\n",
      "[14:11:33] Can't kekulize mol.  Unkekulized atoms: 10 14\n",
      "[14:11:33] Can't kekulize mol.  Unkekulized atoms: 11 15\n",
      "[14:11:33] Can't kekulize mol.  Unkekulized atoms: 11 15\n",
      "[14:11:33] Can't kekulize mol.  Unkekulized atoms: 11 15\n",
      "[14:11:33] Can't kekulize mol.  Unkekulized atoms: 11 15\n",
      "[14:11:33] Can't kekulize mol.  Unkekulized atoms: 11 15\n",
      "[14:11:33] Can't kekulize mol.  Unkekulized atoms: 11 15\n",
      "[14:11:33] Can't kekulize mol.  Unkekulized atoms: 11 15\n",
      "[14:11:33] Can't kekulize mol.  Unkekulized atoms: 11 15\n",
      "[14:11:33] Can't kekulize mol.  Unkekulized atoms: 11 15\n",
      "[14:11:33] Can't kekulize mol.  Unkekulized atoms: 11 15\n",
      "[14:11:33] Can't kekulize mol.  Unkekulized atoms: 11 15\n",
      "[14:11:33] Can't kekulize mol.  Unkekulized atoms: 11 15\n",
      "[14:11:33] Can't kekulize mol.  Unkekulized atoms: 11 15\n",
      "[14:11:33] Can't kekulize mol.  Unkekulized atoms: 11 15\n"
     ]
    },
    {
     "name": "stderr",
     "output_type": "stream",
     "text": [
      "[14:11:33] Can't kekulize mol.  Unkekulized atoms: 11 15\n",
      "[14:11:33] Can't kekulize mol.  Unkekulized atoms: 11 15\n",
      "[14:11:34] Can't kekulize mol.  Unkekulized atoms: 4 8 19 32\n",
      "[14:11:34] Can't kekulize mol.  Unkekulized atoms: 4 8 19 32\n",
      "[14:11:34] Can't kekulize mol.  Unkekulized atoms: 4 8 19 32\n",
      "[14:11:34] Can't kekulize mol.  Unkekulized atoms: 4 8 19 32\n",
      "[14:11:36] Can't kekulize mol.  Unkekulized atoms: 10 11 14\n",
      "[14:11:37] Can't kekulize mol.  Unkekulized atoms: 8 12\n",
      "[14:11:38] Can't kekulize mol.  Unkekulized atoms: 2 6\n",
      "[14:11:41] Can't kekulize mol.  Unkekulized atoms: 9 10 25 29\n",
      "[14:11:41] Can't kekulize mol.  Unkekulized atoms: 9 10 25 29\n",
      "[14:11:41] Can't kekulize mol.  Unkekulized atoms: 9 10 25 29\n",
      "[14:11:41] Can't kekulize mol.  Unkekulized atoms: 9 10 25 29\n",
      "[14:11:41] Can't kekulize mol.  Unkekulized atoms: 9 10 25 29\n",
      "[14:11:41] Can't kekulize mol.  Unkekulized atoms: 9 10 25 29\n",
      "[14:11:41] Can't kekulize mol.  Unkekulized atoms: 9 10 25 29\n",
      "[14:11:41] Can't kekulize mol.  Unkekulized atoms: 9 10 25 29\n",
      "[14:11:41] Tautomer enumeration stopped at 166 tautomers: max transforms reached\n",
      "[14:11:43] Can't kekulize mol.  Unkekulized atoms: 10 14\n",
      "[14:11:43] Can't kekulize mol.  Unkekulized atoms: 10 14\n",
      "[14:11:43] Can't kekulize mol.  Unkekulized atoms: 17 21\n",
      "[14:11:43] Can't kekulize mol.  Unkekulized atoms: 17 21\n",
      "[14:11:43] Can't kekulize mol.  Unkekulized atoms: 17 21\n",
      "[14:11:43] Can't kekulize mol.  Unkekulized atoms: 17 21\n",
      "[14:11:43] Can't kekulize mol.  Unkekulized atoms: 10 14\n",
      "[14:11:43] Can't kekulize mol.  Unkekulized atoms: 11 15\n",
      "[14:11:43] Can't kekulize mol.  Unkekulized atoms: 11 15\n",
      "[14:11:43] Can't kekulize mol.  Unkekulized atoms: 11 15\n",
      "[14:11:43] Can't kekulize mol.  Unkekulized atoms: 11 15\n",
      "[14:11:43] Can't kekulize mol.  Unkekulized atoms: 11 15\n",
      "[14:11:43] Can't kekulize mol.  Unkekulized atoms: 11 15\n",
      "[14:11:43] Can't kekulize mol.  Unkekulized atoms: 11 15\n",
      "[14:11:43] Can't kekulize mol.  Unkekulized atoms: 11 15\n",
      "[14:11:43] Can't kekulize mol.  Unkekulized atoms: 11 15\n",
      "[14:11:43] Can't kekulize mol.  Unkekulized atoms: 11 15\n",
      "[14:11:43] Can't kekulize mol.  Unkekulized atoms: 11 15\n",
      "[14:11:43] Can't kekulize mol.  Unkekulized atoms: 11 15\n",
      "[14:11:43] Can't kekulize mol.  Unkekulized atoms: 11 15\n",
      "[14:11:43] Can't kekulize mol.  Unkekulized atoms: 11 15\n",
      "[14:11:43] Can't kekulize mol.  Unkekulized atoms: 11 15\n",
      "[14:11:43] Can't kekulize mol.  Unkekulized atoms: 11 15\n",
      "[14:11:44] Can't kekulize mol.  Unkekulized atoms: 4 8 19 32\n",
      "[14:11:44] Can't kekulize mol.  Unkekulized atoms: 4 8 19 32\n",
      "[14:11:44] Can't kekulize mol.  Unkekulized atoms: 4 8 19 32\n",
      "[14:11:44] Can't kekulize mol.  Unkekulized atoms: 4 8 19 32\n",
      "[14:11:46] Can't kekulize mol.  Unkekulized atoms: 10 11 14\n",
      "[14:11:47] Can't kekulize mol.  Unkekulized atoms: 8 12\n",
      "[14:11:48] Can't kekulize mol.  Unkekulized atoms: 2 6\n",
      "[14:11:48] Can't kekulize mol.  Unkekulized atoms: 9 10 25 29\n",
      "[14:11:48] Can't kekulize mol.  Unkekulized atoms: 9 10 25 29\n",
      "[14:11:48] Can't kekulize mol.  Unkekulized atoms: 9 10 25 29\n",
      "[14:11:48] Can't kekulize mol.  Unkekulized atoms: 9 10 25 29\n",
      "[14:11:48] Can't kekulize mol.  Unkekulized atoms: 9 10 25 29\n",
      "[14:11:48] Can't kekulize mol.  Unkekulized atoms: 9 10 25 29\n",
      "[14:11:48] Can't kekulize mol.  Unkekulized atoms: 9 10 25 29\n",
      "[14:11:48] Can't kekulize mol.  Unkekulized atoms: 9 10 25 29\n",
      "[14:11:49] Tautomer enumeration stopped at 166 tautomers: max transforms reached\n",
      "[14:11:50] Can't kekulize mol.  Unkekulized atoms: 10 14\n",
      "[14:11:50] Can't kekulize mol.  Unkekulized atoms: 10 14\n",
      "[14:11:50] Can't kekulize mol.  Unkekulized atoms: 17 21\n",
      "[14:11:50] Can't kekulize mol.  Unkekulized atoms: 17 21\n",
      "[14:11:50] Can't kekulize mol.  Unkekulized atoms: 17 21\n",
      "[14:11:50] Can't kekulize mol.  Unkekulized atoms: 17 21\n",
      "[14:11:50] Can't kekulize mol.  Unkekulized atoms: 10 14\n",
      "[14:11:50] Can't kekulize mol.  Unkekulized atoms: 11 15\n",
      "[14:11:50] Can't kekulize mol.  Unkekulized atoms: 11 15\n",
      "[14:11:50] Can't kekulize mol.  Unkekulized atoms: 11 15\n",
      "[14:11:50] Can't kekulize mol.  Unkekulized atoms: 11 15\n",
      "[14:11:50] Can't kekulize mol.  Unkekulized atoms: 11 15\n",
      "[14:11:50] Can't kekulize mol.  Unkekulized atoms: 11 15\n",
      "[14:11:50] Can't kekulize mol.  Unkekulized atoms: 11 15\n",
      "[14:11:50] Can't kekulize mol.  Unkekulized atoms: 11 15\n",
      "[14:11:50] Can't kekulize mol.  Unkekulized atoms: 11 15\n",
      "[14:11:50] Can't kekulize mol.  Unkekulized atoms: 11 15\n",
      "[14:11:50] Can't kekulize mol.  Unkekulized atoms: 11 15\n",
      "[14:11:50] Can't kekulize mol.  Unkekulized atoms: 11 15\n",
      "[14:11:50] Can't kekulize mol.  Unkekulized atoms: 11 15\n",
      "[14:11:50] Can't kekulize mol.  Unkekulized atoms: 11 15\n",
      "[14:11:50] Can't kekulize mol.  Unkekulized atoms: 11 15\n",
      "[14:11:50] Can't kekulize mol.  Unkekulized atoms: 11 15\n",
      "[14:11:51] Can't kekulize mol.  Unkekulized atoms: 4 8 19 32\n",
      "[14:11:51] Can't kekulize mol.  Unkekulized atoms: 4 8 19 32\n",
      "[14:11:51] Can't kekulize mol.  Unkekulized atoms: 4 8 19 32\n",
      "[14:11:51] Can't kekulize mol.  Unkekulized atoms: 4 8 19 32\n",
      "[14:11:53] Can't kekulize mol.  Unkekulized atoms: 10 11 14\n",
      "[14:11:54] Can't kekulize mol.  Unkekulized atoms: 8 12\n",
      "[14:11:55] Can't kekulize mol.  Unkekulized atoms: 2 6\n",
      "[14:11:57] Can't kekulize mol.  Unkekulized atoms: 9 10 25 29\n",
      "[14:11:57] Can't kekulize mol.  Unkekulized atoms: 9 10 25 29\n",
      "[14:11:57] Can't kekulize mol.  Unkekulized atoms: 9 10 25 29\n",
      "[14:11:57] Can't kekulize mol.  Unkekulized atoms: 9 10 25 29\n",
      "[14:11:57] Can't kekulize mol.  Unkekulized atoms: 9 10 25 29\n",
      "[14:11:57] Can't kekulize mol.  Unkekulized atoms: 9 10 25 29\n",
      "[14:11:57] Can't kekulize mol.  Unkekulized atoms: 9 10 25 29\n",
      "[14:11:57] Can't kekulize mol.  Unkekulized atoms: 9 10 25 29\n",
      "[14:11:58] Tautomer enumeration stopped at 166 tautomers: max transforms reached\n",
      "[14:11:59] Can't kekulize mol.  Unkekulized atoms: 10 14\n",
      "[14:11:59] Can't kekulize mol.  Unkekulized atoms: 10 14\n",
      "[14:11:59] Can't kekulize mol.  Unkekulized atoms: 17 21\n",
      "[14:11:59] Can't kekulize mol.  Unkekulized atoms: 17 21\n",
      "[14:11:59] Can't kekulize mol.  Unkekulized atoms: 17 21\n",
      "[14:11:59] Can't kekulize mol.  Unkekulized atoms: 17 21\n",
      "[14:11:59] Can't kekulize mol.  Unkekulized atoms: 10 14\n",
      "[14:11:59] Can't kekulize mol.  Unkekulized atoms: 11 15\n",
      "[14:11:59] Can't kekulize mol.  Unkekulized atoms: 11 15\n",
      "[14:11:59] Can't kekulize mol.  Unkekulized atoms: 11 15\n",
      "[14:11:59] Can't kekulize mol.  Unkekulized atoms: 11 15\n",
      "[14:11:59] Can't kekulize mol.  Unkekulized atoms: 11 15\n",
      "[14:11:59] Can't kekulize mol.  Unkekulized atoms: 11 15\n",
      "[14:11:59] Can't kekulize mol.  Unkekulized atoms: 11 15\n",
      "[14:11:59] Can't kekulize mol.  Unkekulized atoms: 11 15\n",
      "[14:11:59] Can't kekulize mol.  Unkekulized atoms: 11 15\n",
      "[14:11:59] Can't kekulize mol.  Unkekulized atoms: 11 15\n",
      "[14:11:59] Can't kekulize mol.  Unkekulized atoms: 11 15\n",
      "[14:11:59] Can't kekulize mol.  Unkekulized atoms: 11 15\n",
      "[14:11:59] Can't kekulize mol.  Unkekulized atoms: 11 15\n",
      "[14:11:59] Can't kekulize mol.  Unkekulized atoms: 11 15\n",
      "[14:11:59] Can't kekulize mol.  Unkekulized atoms: 11 15\n",
      "[14:12:00] Can't kekulize mol.  Unkekulized atoms: 11 15\n",
      "[14:12:00] Can't kekulize mol.  Unkekulized atoms: 4 8 19 32\n",
      "[14:12:00] Can't kekulize mol.  Unkekulized atoms: 4 8 19 32\n",
      "[14:12:00] Can't kekulize mol.  Unkekulized atoms: 4 8 19 32\n",
      "[14:12:00] Can't kekulize mol.  Unkekulized atoms: 4 8 19 32\n",
      "[14:12:02] Can't kekulize mol.  Unkekulized atoms: 10 11 14\n",
      "[14:12:03] Can't kekulize mol.  Unkekulized atoms: 8 12\n",
      "[14:12:04] Can't kekulize mol.  Unkekulized atoms: 2 6\n",
      "[14:12:05] Can't kekulize mol.  Unkekulized atoms: 9 10 25 29\n",
      "[14:12:05] Can't kekulize mol.  Unkekulized atoms: 9 10 25 29\n",
      "[14:12:05] Can't kekulize mol.  Unkekulized atoms: 9 10 25 29\n",
      "[14:12:05] Can't kekulize mol.  Unkekulized atoms: 9 10 25 29\n",
      "[14:12:05] Can't kekulize mol.  Unkekulized atoms: 9 10 25 29\n",
      "[14:12:05] Can't kekulize mol.  Unkekulized atoms: 9 10 25 29\n",
      "[14:12:05] Can't kekulize mol.  Unkekulized atoms: 9 10 25 29\n",
      "[14:12:05] Can't kekulize mol.  Unkekulized atoms: 9 10 25 29\n",
      "[14:12:05] Tautomer enumeration stopped at 166 tautomers: max transforms reached\n",
      "[14:12:06] Can't kekulize mol.  Unkekulized atoms: 10 14\n",
      "[14:12:06] Can't kekulize mol.  Unkekulized atoms: 10 14\n",
      "[14:12:07] Can't kekulize mol.  Unkekulized atoms: 17 21\n",
      "[14:12:07] Can't kekulize mol.  Unkekulized atoms: 17 21\n",
      "[14:12:07] Can't kekulize mol.  Unkekulized atoms: 17 21\n",
      "[14:12:07] Can't kekulize mol.  Unkekulized atoms: 17 21\n"
     ]
    },
    {
     "name": "stderr",
     "output_type": "stream",
     "text": [
      "[14:12:07] Can't kekulize mol.  Unkekulized atoms: 10 14\n",
      "[14:12:07] Can't kekulize mol.  Unkekulized atoms: 11 15\n",
      "[14:12:07] Can't kekulize mol.  Unkekulized atoms: 11 15\n",
      "[14:12:07] Can't kekulize mol.  Unkekulized atoms: 11 15\n",
      "[14:12:07] Can't kekulize mol.  Unkekulized atoms: 11 15\n",
      "[14:12:07] Can't kekulize mol.  Unkekulized atoms: 11 15\n",
      "[14:12:07] Can't kekulize mol.  Unkekulized atoms: 11 15\n",
      "[14:12:07] Can't kekulize mol.  Unkekulized atoms: 11 15\n",
      "[14:12:07] Can't kekulize mol.  Unkekulized atoms: 11 15\n",
      "[14:12:07] Can't kekulize mol.  Unkekulized atoms: 11 15\n",
      "[14:12:07] Can't kekulize mol.  Unkekulized atoms: 11 15\n",
      "[14:12:07] Can't kekulize mol.  Unkekulized atoms: 11 15\n",
      "[14:12:07] Can't kekulize mol.  Unkekulized atoms: 11 15\n",
      "[14:12:07] Can't kekulize mol.  Unkekulized atoms: 11 15\n",
      "[14:12:07] Can't kekulize mol.  Unkekulized atoms: 11 15\n",
      "[14:12:07] Can't kekulize mol.  Unkekulized atoms: 11 15\n",
      "[14:12:07] Can't kekulize mol.  Unkekulized atoms: 11 15\n",
      "[14:12:08] Can't kekulize mol.  Unkekulized atoms: 4 8 19 32\n",
      "[14:12:08] Can't kekulize mol.  Unkekulized atoms: 4 8 19 32\n",
      "[14:12:08] Can't kekulize mol.  Unkekulized atoms: 4 8 19 32\n",
      "[14:12:08] Can't kekulize mol.  Unkekulized atoms: 4 8 19 32\n",
      "[14:12:10] Can't kekulize mol.  Unkekulized atoms: 10 11 14\n",
      "[14:12:11] Can't kekulize mol.  Unkekulized atoms: 8 12\n",
      "[14:12:12] Can't kekulize mol.  Unkekulized atoms: 2 6\n"
     ]
    },
    {
     "name": "stdout",
     "output_type": "stream",
     "text": [
      "NORMALIZATION\n",
      "-----------------------------------------------------------------------------\n",
      "570/570 structures were successfully normalized\n",
      "-----------------------------------------------------------------------------\n",
      "No duplicate was found (in 570 normalized structures)\n",
      "=============================================================================\n",
      "REFINEMENT SUMMARY\n",
      "-----------------------------------------------------------------------------\n",
      "570/570 deduplicated structures were successfully refined\n",
      "-----------------------------------------------------------------------------\n",
      "No duplicate was found (in 570 refined structures)\n",
      "=============================================================================\n"
     ]
    }
   ],
   "source": [
    "refined_agonist = refineComplete(gaba_agonist)"
   ]
  },
  {
   "cell_type": "markdown",
   "id": "710aa708",
   "metadata": {},
   "source": [
    "# gaba_antagonist"
   ]
  },
  {
   "cell_type": "code",
   "execution_count": null,
   "id": "47fa04f6",
   "metadata": {},
   "outputs": [],
   "source": []
  },
  {
   "cell_type": "code",
   "execution_count": 7,
   "id": "3f717db2",
   "metadata": {},
   "outputs": [
    {
     "name": "stdout",
     "output_type": "stream",
     "text": [
      "=============================================================================\n",
      "VALIDATION\n",
      "-----------------------------------------------------------------------------\n",
      "502/505 structures were successfully validated\n",
      "3/505 structure(s) was/were unsuccessfully validated and need to be rechecked\n",
      "-----------------------------------------------------------------------------\n",
      "No duplicate was found (in 502 validated structures)\n",
      "=============================================================================\n",
      "CLEANING\n",
      "-----------------------------------------------------------------------------\n",
      "502/502 structures were successfully cleaned\n",
      "-----------------------------------------------------------------------------\n",
      "No duplicate was found (in 502 cleaned structures)\n",
      "=============================================================================\n",
      "NORMALIZATION\n",
      "-----------------------------------------------------------------------------\n",
      "501/502 structures were successfully normalized\n",
      "1/502 structure(s) were unsuccessfully normalized and need to be rechecked\n",
      "-----------------------------------------------------------------------------\n",
      "No duplicate was found (in 501 normalized structures)\n",
      "=============================================================================\n",
      "REFINEMENT SUMMARY\n",
      "-----------------------------------------------------------------------------\n",
      "501/505 deduplicated structures were successfully refined\n",
      "4/505 deduplicated structure(s) was/were unsuccessfully refined and need to be rechecked\n",
      "-----------------------------------------------------------------------------\n",
      "No duplicate was found (in 501 refined structures)\n",
      "=============================================================================\n"
     ]
    }
   ],
   "source": [
    "refined_antagonist = refineComplete(gaba_antagonist)"
   ]
  },
  {
   "cell_type": "markdown",
   "id": "536934f7",
   "metadata": {},
   "source": [
    "# Remove confilicted labels"
   ]
  },
  {
   "cell_type": "code",
   "execution_count": 8,
   "id": "6af25249",
   "metadata": {},
   "outputs": [],
   "source": [
    "agonist_labels = [1]*len(refined_agonist)\n",
    "antagonist_labels = [0]*len(refined_antagonist)"
   ]
  },
  {
   "cell_type": "code",
   "execution_count": 10,
   "id": "10c0434e",
   "metadata": {},
   "outputs": [],
   "source": [
    "refined_compounds = refined_agonist['SMILES'].tolist() + refined_antagonist['SMILES'].tolist()\n",
    "refined_labels = [1]*len(refined_agonist) + [0]*len(refined_antagonist)"
   ]
  },
  {
   "cell_type": "code",
   "execution_count": 11,
   "id": "e88f2fb6",
   "metadata": {},
   "outputs": [],
   "source": [
    "df = pd.DataFrame(zip(refined_compounds, refined_labels), columns=['smiles','label'])"
   ]
  },
  {
   "cell_type": "code",
   "execution_count": 12,
   "id": "92cda8f9",
   "metadata": {},
   "outputs": [
    {
     "data": {
      "text/html": [
       "<div>\n",
       "<style scoped>\n",
       "    .dataframe tbody tr th:only-of-type {\n",
       "        vertical-align: middle;\n",
       "    }\n",
       "\n",
       "    .dataframe tbody tr th {\n",
       "        vertical-align: top;\n",
       "    }\n",
       "\n",
       "    .dataframe thead th {\n",
       "        text-align: right;\n",
       "    }\n",
       "</style>\n",
       "<table border=\"1\" class=\"dataframe\">\n",
       "  <thead>\n",
       "    <tr style=\"text-align: right;\">\n",
       "      <th></th>\n",
       "      <th>smiles</th>\n",
       "      <th>label</th>\n",
       "    </tr>\n",
       "  </thead>\n",
       "  <tbody>\n",
       "    <tr>\n",
       "      <th>0</th>\n",
       "      <td>Cc1ccc(-c2nc(C#N)c(S(=O)(=O)N(C)CCO)o2)cc1</td>\n",
       "      <td>1</td>\n",
       "    </tr>\n",
       "    <tr>\n",
       "      <th>1</th>\n",
       "      <td>CCOC(=O)c1cn2c(n1)CCC2</td>\n",
       "      <td>1</td>\n",
       "    </tr>\n",
       "    <tr>\n",
       "      <th>2</th>\n",
       "      <td>N#Cc1ccc(CSc2nc(=O)cc(O)[nH]2)cc1</td>\n",
       "      <td>1</td>\n",
       "    </tr>\n",
       "    <tr>\n",
       "      <th>3</th>\n",
       "      <td>Fc1ccc(-c2nnnn2-c2ccc(Br)cn2)cc1</td>\n",
       "      <td>1</td>\n",
       "    </tr>\n",
       "    <tr>\n",
       "      <th>4</th>\n",
       "      <td>CCc1ccc(NC(=O)c2c(C(=O)Nc3ccc(C(=O)OC)cc3)sc3n...</td>\n",
       "      <td>1</td>\n",
       "    </tr>\n",
       "    <tr>\n",
       "      <th>...</th>\n",
       "      <td>...</td>\n",
       "      <td>...</td>\n",
       "    </tr>\n",
       "    <tr>\n",
       "      <th>1066</th>\n",
       "      <td>COc1ccc(-c2ccnc3nc(Cc4cc(F)cc(F)c4)nn23)cc1</td>\n",
       "      <td>0</td>\n",
       "    </tr>\n",
       "    <tr>\n",
       "      <th>1067</th>\n",
       "      <td>O=C(CCc1[nH]c(=O)n(Cc2cccc(F)c2)c1O)NCCCc1nnc2...</td>\n",
       "      <td>0</td>\n",
       "    </tr>\n",
       "    <tr>\n",
       "      <th>1068</th>\n",
       "      <td>Cc1c(C(=O)Cn2nc3c4c(cccc4c2=O)-c2ccccc2-3)c2cc...</td>\n",
       "      <td>0</td>\n",
       "    </tr>\n",
       "    <tr>\n",
       "      <th>1069</th>\n",
       "      <td>Cc1ccc(-n2cnnn2)cc1NC(=O)c1oc2ccc(Cl)cc2c1C</td>\n",
       "      <td>0</td>\n",
       "    </tr>\n",
       "    <tr>\n",
       "      <th>1070</th>\n",
       "      <td>Cc1ccc(-n2cnnn2)cc1NC(=O)c1oc2ccc(Br)cc2c1C</td>\n",
       "      <td>0</td>\n",
       "    </tr>\n",
       "  </tbody>\n",
       "</table>\n",
       "<p>1071 rows × 2 columns</p>\n",
       "</div>"
      ],
      "text/plain": [
       "                                                 smiles  label\n",
       "0            Cc1ccc(-c2nc(C#N)c(S(=O)(=O)N(C)CCO)o2)cc1      1\n",
       "1                                CCOC(=O)c1cn2c(n1)CCC2      1\n",
       "2                     N#Cc1ccc(CSc2nc(=O)cc(O)[nH]2)cc1      1\n",
       "3                      Fc1ccc(-c2nnnn2-c2ccc(Br)cn2)cc1      1\n",
       "4     CCc1ccc(NC(=O)c2c(C(=O)Nc3ccc(C(=O)OC)cc3)sc3n...      1\n",
       "...                                                 ...    ...\n",
       "1066        COc1ccc(-c2ccnc3nc(Cc4cc(F)cc(F)c4)nn23)cc1      0\n",
       "1067  O=C(CCc1[nH]c(=O)n(Cc2cccc(F)c2)c1O)NCCCc1nnc2...      0\n",
       "1068  Cc1c(C(=O)Cn2nc3c4c(cccc4c2=O)-c2ccccc2-3)c2cc...      0\n",
       "1069        Cc1ccc(-n2cnnn2)cc1NC(=O)c1oc2ccc(Cl)cc2c1C      0\n",
       "1070        Cc1ccc(-n2cnnn2)cc1NC(=O)c1oc2ccc(Br)cc2c1C      0\n",
       "\n",
       "[1071 rows x 2 columns]"
      ]
     },
     "execution_count": 12,
     "metadata": {},
     "output_type": "execute_result"
    }
   ],
   "source": [
    "df"
   ]
  },
  {
   "cell_type": "code",
   "execution_count": 16,
   "id": "290bc3f8",
   "metadata": {},
   "outputs": [],
   "source": [
    "df = df.drop_duplicates(subset=['smiles'], keep=False)"
   ]
  },
  {
   "cell_type": "code",
   "execution_count": 17,
   "id": "b3b2114a",
   "metadata": {},
   "outputs": [
    {
     "data": {
      "text/html": [
       "<div>\n",
       "<style scoped>\n",
       "    .dataframe tbody tr th:only-of-type {\n",
       "        vertical-align: middle;\n",
       "    }\n",
       "\n",
       "    .dataframe tbody tr th {\n",
       "        vertical-align: top;\n",
       "    }\n",
       "\n",
       "    .dataframe thead th {\n",
       "        text-align: right;\n",
       "    }\n",
       "</style>\n",
       "<table border=\"1\" class=\"dataframe\">\n",
       "  <thead>\n",
       "    <tr style=\"text-align: right;\">\n",
       "      <th></th>\n",
       "      <th>smiles</th>\n",
       "      <th>label</th>\n",
       "    </tr>\n",
       "  </thead>\n",
       "  <tbody>\n",
       "    <tr>\n",
       "      <th>0</th>\n",
       "      <td>Cc1ccc(-c2nc(C#N)c(S(=O)(=O)N(C)CCO)o2)cc1</td>\n",
       "      <td>1</td>\n",
       "    </tr>\n",
       "    <tr>\n",
       "      <th>1</th>\n",
       "      <td>CCOC(=O)c1cn2c(n1)CCC2</td>\n",
       "      <td>1</td>\n",
       "    </tr>\n",
       "    <tr>\n",
       "      <th>2</th>\n",
       "      <td>N#Cc1ccc(CSc2nc(=O)cc(O)[nH]2)cc1</td>\n",
       "      <td>1</td>\n",
       "    </tr>\n",
       "    <tr>\n",
       "      <th>3</th>\n",
       "      <td>Fc1ccc(-c2nnnn2-c2ccc(Br)cn2)cc1</td>\n",
       "      <td>1</td>\n",
       "    </tr>\n",
       "    <tr>\n",
       "      <th>4</th>\n",
       "      <td>CCc1ccc(NC(=O)c2c(C(=O)Nc3ccc(C(=O)OC)cc3)sc3n...</td>\n",
       "      <td>1</td>\n",
       "    </tr>\n",
       "    <tr>\n",
       "      <th>...</th>\n",
       "      <td>...</td>\n",
       "      <td>...</td>\n",
       "    </tr>\n",
       "    <tr>\n",
       "      <th>1066</th>\n",
       "      <td>COc1ccc(-c2ccnc3nc(Cc4cc(F)cc(F)c4)nn23)cc1</td>\n",
       "      <td>0</td>\n",
       "    </tr>\n",
       "    <tr>\n",
       "      <th>1067</th>\n",
       "      <td>O=C(CCc1[nH]c(=O)n(Cc2cccc(F)c2)c1O)NCCCc1nnc2...</td>\n",
       "      <td>0</td>\n",
       "    </tr>\n",
       "    <tr>\n",
       "      <th>1068</th>\n",
       "      <td>Cc1c(C(=O)Cn2nc3c4c(cccc4c2=O)-c2ccccc2-3)c2cc...</td>\n",
       "      <td>0</td>\n",
       "    </tr>\n",
       "    <tr>\n",
       "      <th>1069</th>\n",
       "      <td>Cc1ccc(-n2cnnn2)cc1NC(=O)c1oc2ccc(Cl)cc2c1C</td>\n",
       "      <td>0</td>\n",
       "    </tr>\n",
       "    <tr>\n",
       "      <th>1070</th>\n",
       "      <td>Cc1ccc(-n2cnnn2)cc1NC(=O)c1oc2ccc(Br)cc2c1C</td>\n",
       "      <td>0</td>\n",
       "    </tr>\n",
       "  </tbody>\n",
       "</table>\n",
       "<p>1071 rows × 2 columns</p>\n",
       "</div>"
      ],
      "text/plain": [
       "                                                 smiles  label\n",
       "0            Cc1ccc(-c2nc(C#N)c(S(=O)(=O)N(C)CCO)o2)cc1      1\n",
       "1                                CCOC(=O)c1cn2c(n1)CCC2      1\n",
       "2                     N#Cc1ccc(CSc2nc(=O)cc(O)[nH]2)cc1      1\n",
       "3                      Fc1ccc(-c2nnnn2-c2ccc(Br)cn2)cc1      1\n",
       "4     CCc1ccc(NC(=O)c2c(C(=O)Nc3ccc(C(=O)OC)cc3)sc3n...      1\n",
       "...                                                 ...    ...\n",
       "1066        COc1ccc(-c2ccnc3nc(Cc4cc(F)cc(F)c4)nn23)cc1      0\n",
       "1067  O=C(CCc1[nH]c(=O)n(Cc2cccc(F)c2)c1O)NCCCc1nnc2...      0\n",
       "1068  Cc1c(C(=O)Cn2nc3c4c(cccc4c2=O)-c2ccccc2-3)c2cc...      0\n",
       "1069        Cc1ccc(-n2cnnn2)cc1NC(=O)c1oc2ccc(Cl)cc2c1C      0\n",
       "1070        Cc1ccc(-n2cnnn2)cc1NC(=O)c1oc2ccc(Br)cc2c1C      0\n",
       "\n",
       "[1071 rows x 2 columns]"
      ]
     },
     "execution_count": 17,
     "metadata": {},
     "output_type": "execute_result"
    }
   ],
   "source": [
    "df"
   ]
  },
  {
   "cell_type": "markdown",
   "id": "ec248f8b",
   "metadata": {},
   "source": [
    "# Check number of compounds per class"
   ]
  },
  {
   "cell_type": "code",
   "execution_count": 20,
   "id": "037af0ee",
   "metadata": {},
   "outputs": [],
   "source": [
    "num_agonist = len(df[df['label']==1])\n",
    "num_antagonist = len(df[df['label']==0])"
   ]
  },
  {
   "cell_type": "code",
   "execution_count": 21,
   "id": "3195c717",
   "metadata": {},
   "outputs": [
    {
     "data": {
      "text/plain": [
       "570"
      ]
     },
     "execution_count": 21,
     "metadata": {},
     "output_type": "execute_result"
    }
   ],
   "source": [
    "num_agonist"
   ]
  },
  {
   "cell_type": "code",
   "execution_count": 22,
   "id": "f41bfa85",
   "metadata": {},
   "outputs": [
    {
     "data": {
      "text/plain": [
       "501"
      ]
     },
     "execution_count": 22,
     "metadata": {},
     "output_type": "execute_result"
    }
   ],
   "source": [
    "num_antagonist"
   ]
  },
  {
   "cell_type": "code",
   "execution_count": 13,
   "id": "3d784d43",
   "metadata": {},
   "outputs": [],
   "source": [
    "df.to_csv('refined_gabaa.csv')"
   ]
  },
  {
   "cell_type": "markdown",
   "id": "132c9c74",
   "metadata": {},
   "source": [
    "# chembl_agonist"
   ]
  },
  {
   "cell_type": "code",
   "execution_count": 4,
   "id": "958ee243",
   "metadata": {},
   "outputs": [
    {
     "name": "stdout",
     "output_type": "stream",
     "text": [
      "=============================================================================\n",
      "VALIDATION\n",
      "-----------------------------------------------------------------------------\n",
      "258/275 structures were successfully validated\n",
      "17/275 structure(s) was/were unsuccessfully validated and need to be rechecked\n",
      "-----------------------------------------------------------------------------\n",
      "No duplicate was found (in 258 validated structures)\n",
      "=============================================================================\n",
      "CLEANING\n",
      "-----------------------------------------------------------------------------\n",
      "258/258 structures were successfully cleaned\n",
      "-----------------------------------------------------------------------------\n",
      "No duplicate was found (in 258 cleaned structures)\n",
      "=============================================================================\n",
      "NORMALIZATION\n",
      "-----------------------------------------------------------------------------\n",
      "247/258 structures were successfully normalized\n",
      "11/258 structure(s) were unsuccessfully normalized and need to be rechecked\n",
      "-----------------------------------------------------------------------------\n",
      "No duplicate was found (in 247 normalized structures)\n",
      "=============================================================================\n",
      "REFINEMENT SUMMARY\n",
      "-----------------------------------------------------------------------------\n",
      "247/275 deduplicated structures were successfully refined\n",
      "28/275 deduplicated structure(s) was/were unsuccessfully refined and need to be rechecked\n",
      "-----------------------------------------------------------------------------\n",
      "No duplicate was found (in 247 refined structures)\n",
      "=============================================================================\n"
     ]
    }
   ],
   "source": [
    "refined_chembl_agonist = refineComplete(chembl_agonist)"
   ]
  },
  {
   "cell_type": "code",
   "execution_count": 5,
   "id": "d8a7ce1c",
   "metadata": {},
   "outputs": [
    {
     "data": {
      "text/html": [
       "<div>\n",
       "<style scoped>\n",
       "    .dataframe tbody tr th:only-of-type {\n",
       "        vertical-align: middle;\n",
       "    }\n",
       "\n",
       "    .dataframe tbody tr th {\n",
       "        vertical-align: top;\n",
       "    }\n",
       "\n",
       "    .dataframe thead th {\n",
       "        text-align: right;\n",
       "    }\n",
       "</style>\n",
       "<table border=\"1\" class=\"dataframe\">\n",
       "  <thead>\n",
       "    <tr style=\"text-align: right;\">\n",
       "      <th></th>\n",
       "      <th>SMILES</th>\n",
       "    </tr>\n",
       "  </thead>\n",
       "  <tbody>\n",
       "    <tr>\n",
       "      <th>0</th>\n",
       "      <td>COc1ccccc1-c1oc2ccc(C)cc2c(=O)c1O</td>\n",
       "    </tr>\n",
       "    <tr>\n",
       "      <th>1</th>\n",
       "      <td>Clc1ccc(-n2nc3c4c(ncc3c2OCc2ccccc2Cl)CCOC4)cc1</td>\n",
       "    </tr>\n",
       "    <tr>\n",
       "      <th>2</th>\n",
       "      <td>CC(=O)Nc1cccc(Nc2cc3c(cn2)ncn3CC2CC2)c1</td>\n",
       "    </tr>\n",
       "    <tr>\n",
       "      <th>3</th>\n",
       "      <td>CC(NC(=O)C(=O)c1c[nH]c2ccc([N+](=O)[O-])cc12)c...</td>\n",
       "    </tr>\n",
       "    <tr>\n",
       "      <th>4</th>\n",
       "      <td>NCCCC(=O)O</td>\n",
       "    </tr>\n",
       "    <tr>\n",
       "      <th>...</th>\n",
       "      <td>...</td>\n",
       "    </tr>\n",
       "    <tr>\n",
       "      <th>242</th>\n",
       "      <td>Cc1cc(-c2nnc3c4ccccc4c(OCc4cn(C)nn4)nn23)no1</td>\n",
       "    </tr>\n",
       "    <tr>\n",
       "      <th>243</th>\n",
       "      <td>O=C(Nc1c(-c2cccs2)nc2cc(Br)ccn12)c1ccc(Cl)cc1</td>\n",
       "    </tr>\n",
       "    <tr>\n",
       "      <th>244</th>\n",
       "      <td>O=C(Nc1c(C2CCCC2)nc2ccc(Br)cn12)c1ccccc1</td>\n",
       "    </tr>\n",
       "    <tr>\n",
       "      <th>245</th>\n",
       "      <td>COc1ccc(Nc2cc3c(cn2)ncn3CC2CC2)c(OC)c1</td>\n",
       "    </tr>\n",
       "    <tr>\n",
       "      <th>246</th>\n",
       "      <td>O=C(Nc1c(-c2cccs2)nc2ccc(C(F)(F)F)cn12)c1ccc(C...</td>\n",
       "    </tr>\n",
       "  </tbody>\n",
       "</table>\n",
       "<p>247 rows × 1 columns</p>\n",
       "</div>"
      ],
      "text/plain": [
       "                                                SMILES\n",
       "0                    COc1ccccc1-c1oc2ccc(C)cc2c(=O)c1O\n",
       "1       Clc1ccc(-n2nc3c4c(ncc3c2OCc2ccccc2Cl)CCOC4)cc1\n",
       "2              CC(=O)Nc1cccc(Nc2cc3c(cn2)ncn3CC2CC2)c1\n",
       "3    CC(NC(=O)C(=O)c1c[nH]c2ccc([N+](=O)[O-])cc12)c...\n",
       "4                                           NCCCC(=O)O\n",
       "..                                                 ...\n",
       "242       Cc1cc(-c2nnc3c4ccccc4c(OCc4cn(C)nn4)nn23)no1\n",
       "243      O=C(Nc1c(-c2cccs2)nc2cc(Br)ccn12)c1ccc(Cl)cc1\n",
       "244           O=C(Nc1c(C2CCCC2)nc2ccc(Br)cn12)c1ccccc1\n",
       "245             COc1ccc(Nc2cc3c(cn2)ncn3CC2CC2)c(OC)c1\n",
       "246  O=C(Nc1c(-c2cccs2)nc2ccc(C(F)(F)F)cn12)c1ccc(C...\n",
       "\n",
       "[247 rows x 1 columns]"
      ]
     },
     "execution_count": 5,
     "metadata": {},
     "output_type": "execute_result"
    }
   ],
   "source": [
    "chembl_agonist"
   ]
  },
  {
   "cell_type": "code",
   "execution_count": 6,
   "id": "2bbe731d",
   "metadata": {},
   "outputs": [],
   "source": [
    "refined_chembl_agonist.to_csv('refined_chembl_agonist.csv')"
   ]
  },
  {
   "cell_type": "markdown",
   "id": "9db13c08",
   "metadata": {},
   "source": [
    "# chembl_antagonist"
   ]
  },
  {
   "cell_type": "code",
   "execution_count": 8,
   "id": "4f7b3c23",
   "metadata": {},
   "outputs": [
    {
     "name": "stdout",
     "output_type": "stream",
     "text": [
      "=============================================================================\n",
      "VALIDATION\n",
      "-----------------------------------------------------------------------------\n",
      "100/133 structures were successfully validated\n",
      "33/133 structure(s) was/were unsuccessfully validated and need to be rechecked\n",
      "-----------------------------------------------------------------------------\n",
      "There are 98 unique structures filtered from 100 initial validated structures\n",
      "=============================================================================\n",
      "CLEANING\n",
      "-----------------------------------------------------------------------------\n",
      "98/98 structures were successfully cleaned\n",
      "-----------------------------------------------------------------------------\n",
      "No duplicate was found (in 98 cleaned structures)\n",
      "=============================================================================\n",
      "NORMALIZATION\n",
      "-----------------------------------------------------------------------------\n",
      "95/98 structures were successfully normalized\n",
      "3/98 structure(s) were unsuccessfully normalized and need to be rechecked\n",
      "-----------------------------------------------------------------------------\n",
      "No duplicate was found (in 95 normalized structures)\n",
      "=============================================================================\n",
      "REFINEMENT SUMMARY\n",
      "-----------------------------------------------------------------------------\n",
      "95/131 deduplicated structures were successfully refined\n",
      "36/131 deduplicated structure(s) was/were unsuccessfully refined and need to be rechecked\n",
      "-----------------------------------------------------------------------------\n",
      "No duplicate was found (in 95 refined structures)\n",
      "=============================================================================\n"
     ]
    }
   ],
   "source": [
    "refined_chembl_antagonist = refineComplete(chembl_antagonist)"
   ]
  },
  {
   "cell_type": "code",
   "execution_count": 9,
   "id": "f2df62bd",
   "metadata": {},
   "outputs": [],
   "source": [
    "refined_chembl_antagonist.to_csv('refined_chembl_antagonist.csv')"
   ]
  },
  {
   "cell_type": "markdown",
   "id": "f2afa5fe",
   "metadata": {},
   "source": [
    "# MCE_agonist"
   ]
  },
  {
   "cell_type": "code",
   "execution_count": 35,
   "id": "96859f09",
   "metadata": {},
   "outputs": [
    {
     "name": "stdout",
     "output_type": "stream",
     "text": [
      "=============================================================================\n",
      "VALIDATION\n",
      "-----------------------------------------------------------------------------\n",
      "11/14 structures were successfully validated\n",
      "3/14 structure(s) was/were unsuccessfully validated and need to be rechecked\n",
      "-----------------------------------------------------------------------------\n",
      "There are 10 unique structures filtered from 11 initial validated structures\n",
      "=============================================================================\n",
      "CLEANING\n",
      "-----------------------------------------------------------------------------\n",
      "10/10 structures were successfully cleaned\n",
      "-----------------------------------------------------------------------------\n",
      "No duplicate was found (in 10 cleaned structures)\n",
      "=============================================================================\n",
      "NORMALIZATION\n",
      "-----------------------------------------------------------------------------\n",
      "10/10 structures were successfully normalized\n",
      "-----------------------------------------------------------------------------\n",
      "No duplicate was found (in 10 normalized structures)\n",
      "=============================================================================\n",
      "REFINEMENT SUMMARY\n",
      "-----------------------------------------------------------------------------\n",
      "10/13 deduplicated structures were successfully refined\n",
      "3/13 deduplicated structure(s) was/were unsuccessfully refined and need to be rechecked\n",
      "-----------------------------------------------------------------------------\n",
      "No duplicate was found (in 10 refined structures)\n",
      "=============================================================================\n"
     ]
    }
   ],
   "source": [
    "refined_mce_agonist = refineComplete(mce_agonist)"
   ]
  },
  {
   "cell_type": "code",
   "execution_count": 11,
   "id": "9f80d15a",
   "metadata": {},
   "outputs": [],
   "source": [
    "refined_mce_agonist.to_csv('refined_mce_agonist.csv')"
   ]
  },
  {
   "cell_type": "code",
   "execution_count": 34,
   "id": "0de9597f",
   "metadata": {},
   "outputs": [
    {
     "name": "stdout",
     "output_type": "stream",
     "text": [
      "=============================================================================\n",
      "VALIDATION\n",
      "-----------------------------------------------------------------------------\n",
      "15/16 structures were successfully validated\n",
      "1/16 structure(s) was/were unsuccessfully validated and need to be rechecked\n",
      "-----------------------------------------------------------------------------\n",
      "No duplicate was found (in 15 validated structures)\n",
      "=============================================================================\n",
      "CLEANING\n",
      "-----------------------------------------------------------------------------\n",
      "13/15 structures were successfully cleaned\n",
      "2/15 structure(s) was/were unsuccessfully cleaned and need to be rechecked\n",
      "-----------------------------------------------------------------------------\n",
      "No duplicate was found (in 13 cleaned structures)\n",
      "=============================================================================\n",
      "NORMALIZATION\n",
      "-----------------------------------------------------------------------------\n",
      "13/13 structures were successfully normalized\n",
      "-----------------------------------------------------------------------------\n",
      "No duplicate was found (in 13 normalized structures)\n",
      "=============================================================================\n",
      "REFINEMENT SUMMARY\n",
      "-----------------------------------------------------------------------------\n",
      "13/16 deduplicated structures were successfully refined\n",
      "3/16 deduplicated structure(s) was/were unsuccessfully refined and need to be rechecked\n",
      "-----------------------------------------------------------------------------\n",
      "No duplicate was found (in 13 refined structures)\n",
      "=============================================================================\n"
     ]
    }
   ],
   "source": [
    "refined_mce_antagonist = refineComplete(mce_antagonist)"
   ]
  },
  {
   "cell_type": "code",
   "execution_count": 13,
   "id": "a35a8271",
   "metadata": {},
   "outputs": [],
   "source": [
    "refined_mce_antagonist.to_csv('refined_mce_antagonist.csv')"
   ]
  },
  {
   "cell_type": "markdown",
   "id": "0c6bfdf9",
   "metadata": {},
   "source": [
    "# chembl_inhibition"
   ]
  },
  {
   "cell_type": "code",
   "execution_count": 6,
   "id": "af28d952",
   "metadata": {},
   "outputs": [
    {
     "name": "stdout",
     "output_type": "stream",
     "text": [
      "=============================================================================\n",
      "VALIDATION\n",
      "-----------------------------------------------------------------------------\n",
      "19/20 structures were successfully validated\n",
      "1/20 structure(s) was/were unsuccessfully validated and need to be rechecked\n",
      "-----------------------------------------------------------------------------\n",
      "No duplicate was found (in 19 validated structures)\n",
      "=============================================================================\n",
      "CLEANING\n",
      "-----------------------------------------------------------------------------\n",
      "19/19 structures were successfully cleaned\n",
      "-----------------------------------------------------------------------------\n",
      "No duplicate was found (in 19 cleaned structures)\n",
      "=============================================================================\n"
     ]
    },
    {
     "name": "stderr",
     "output_type": "stream",
     "text": [
      "[13:58:08] Can't kekulize mol.  Unkekulized atoms: 6 15 16 17\n",
      "[13:58:08] Can't kekulize mol.  Unkekulized atoms: 8 9 12 22\n",
      "[13:58:08] Can't kekulize mol.  Unkekulized atoms: 6 15 16 17\n",
      "[13:58:08] Can't kekulize mol.  Unkekulized atoms: 8 9 12 22\n",
      "[13:58:08] Can't kekulize mol.  Unkekulized atoms: 6 15 16 17\n",
      "[13:58:08] Can't kekulize mol.  Unkekulized atoms: 8 9 12 22\n",
      "[13:58:08] Can't kekulize mol.  Unkekulized atoms: 6 15 16 17\n",
      "[13:58:08] Can't kekulize mol.  Unkekulized atoms: 8 9 12 22\n",
      "[13:58:09] Can't kekulize mol.  Unkekulized atoms: 6 15 16 17\n",
      "[13:58:09] Can't kekulize mol.  Unkekulized atoms: 8 9 12 22\n",
      "[13:58:09] Can't kekulize mol.  Unkekulized atoms: 6 15 16 17\n",
      "[13:58:09] Can't kekulize mol.  Unkekulized atoms: 8 9 12 22\n",
      "[13:58:09] Can't kekulize mol.  Unkekulized atoms: 6 15 16 17\n",
      "[13:58:09] Can't kekulize mol.  Unkekulized atoms: 8 9 12 22\n",
      "[13:58:09] Can't kekulize mol.  Unkekulized atoms: 6 15 16 17\n"
     ]
    },
    {
     "name": "stdout",
     "output_type": "stream",
     "text": [
      "NORMALIZATION\n",
      "-----------------------------------------------------------------------------\n",
      "19/19 structures were successfully normalized\n",
      "-----------------------------------------------------------------------------\n",
      "No duplicate was found (in 19 normalized structures)\n",
      "=============================================================================\n",
      "REFINEMENT SUMMARY\n",
      "-----------------------------------------------------------------------------\n",
      "19/20 deduplicated structures were successfully refined\n",
      "1/20 deduplicated structure(s) was/were unsuccessfully refined and need to be rechecked\n",
      "-----------------------------------------------------------------------------\n",
      "No duplicate was found (in 19 refined structures)\n",
      "=============================================================================\n"
     ]
    },
    {
     "name": "stderr",
     "output_type": "stream",
     "text": [
      "[13:58:09] Can't kekulize mol.  Unkekulized atoms: 8 9 12 22\n"
     ]
    }
   ],
   "source": [
    "refined_inhibition = refineComplete(chembl_inhibition[0:20])"
   ]
  },
  {
   "cell_type": "code",
   "execution_count": 7,
   "id": "4e14bc35",
   "metadata": {},
   "outputs": [
    {
     "data": {
      "text/html": [
       "<div>\n",
       "<style scoped>\n",
       "    .dataframe tbody tr th:only-of-type {\n",
       "        vertical-align: middle;\n",
       "    }\n",
       "\n",
       "    .dataframe tbody tr th {\n",
       "        vertical-align: top;\n",
       "    }\n",
       "\n",
       "    .dataframe thead th {\n",
       "        text-align: right;\n",
       "    }\n",
       "</style>\n",
       "<table border=\"1\" class=\"dataframe\">\n",
       "  <thead>\n",
       "    <tr style=\"text-align: right;\">\n",
       "      <th></th>\n",
       "      <th>SMILES</th>\n",
       "    </tr>\n",
       "  </thead>\n",
       "  <tbody>\n",
       "    <tr>\n",
       "      <th>0</th>\n",
       "      <td>CSc1nn(-c2c(Cl)cc(C(F)(F)F)cc2Cl)c(N)c1-c1ccccc1C</td>\n",
       "    </tr>\n",
       "    <tr>\n",
       "      <th>1</th>\n",
       "      <td>[O-][n+]1nc2c(-c3nc[nH]n3)cnn2c2cc(Cl)ccc21</td>\n",
       "    </tr>\n",
       "    <tr>\n",
       "      <th>2</th>\n",
       "      <td>CC(=O)C1CCC2C3CCC4CC(O)CCC4(C)C3CCC12C</td>\n",
       "    </tr>\n",
       "    <tr>\n",
       "      <th>3</th>\n",
       "      <td>O=C(NC1CCCCC1)C1Cc2c(sc3ccccc23)CN1</td>\n",
       "    </tr>\n",
       "    <tr>\n",
       "      <th>4</th>\n",
       "      <td>CCCCNc1c(C(=O)OCC)c(C)nc2c1cnn2CC</td>\n",
       "    </tr>\n",
       "    <tr>\n",
       "      <th>5</th>\n",
       "      <td>Cc1cc2c(C3CCCCC3)[nH]c(=O)nc2c(C#N)c1C</td>\n",
       "    </tr>\n",
       "    <tr>\n",
       "      <th>6</th>\n",
       "      <td>CC(=O)C1CCC2C3CCC4CC(O)(C#Cc5ccc(C=O)cc5)CCC4(...</td>\n",
       "    </tr>\n",
       "    <tr>\n",
       "      <th>7</th>\n",
       "      <td>O=C(NCCc1ccc(Cl)cc1)C(=O)c1c[nH]c2ccccc12</td>\n",
       "    </tr>\n",
       "    <tr>\n",
       "      <th>8</th>\n",
       "      <td>COc1ccc(CCNC(=O)C(=O)c2c[nH]c3ccccc23)cc1OC</td>\n",
       "    </tr>\n",
       "    <tr>\n",
       "      <th>9</th>\n",
       "      <td>CCCCCn1ncc2c(N)c(C(=O)NCCC)cnc21</td>\n",
       "    </tr>\n",
       "    <tr>\n",
       "      <th>10</th>\n",
       "      <td>C#CCCCCn1ncc2c(N)c(C(=O)OCC=C)c(C)nc21</td>\n",
       "    </tr>\n",
       "    <tr>\n",
       "      <th>11</th>\n",
       "      <td>O=c1c2cnc3ccccc3c2[nH]n1-c1ccccc1</td>\n",
       "    </tr>\n",
       "    <tr>\n",
       "      <th>12</th>\n",
       "      <td>Cc1cc2c(c(C#N)c1C)NC(=O)NC2C</td>\n",
       "    </tr>\n",
       "    <tr>\n",
       "      <th>13</th>\n",
       "      <td>CC(C)c1cccc(C(C)C)c1OC(=O)CN1CCCC1</td>\n",
       "    </tr>\n",
       "    <tr>\n",
       "      <th>14</th>\n",
       "      <td>CN1C(=O)CN=C(c2ccccc2)c2cc(Cl)ccc21</td>\n",
       "    </tr>\n",
       "    <tr>\n",
       "      <th>15</th>\n",
       "      <td>Cc1cc2c(c(C#N)c1C)N=CNC2C1CCCCC1</td>\n",
       "    </tr>\n",
       "    <tr>\n",
       "      <th>16</th>\n",
       "      <td>COc1ccc(-c2c(SC)nn(-c3c(Cl)cc(C(F)(F)F)cc3Cl)c...</td>\n",
       "    </tr>\n",
       "    <tr>\n",
       "      <th>17</th>\n",
       "      <td>N#Cc1ccc(-c2nnc3c4ccccc4c(N4CCCC4)nn23)cc1</td>\n",
       "    </tr>\n",
       "    <tr>\n",
       "      <th>18</th>\n",
       "      <td>CCCC(=O)c1c(C)nc2c(c1N)c1ccccc1n2C</td>\n",
       "    </tr>\n",
       "  </tbody>\n",
       "</table>\n",
       "</div>"
      ],
      "text/plain": [
       "                                               SMILES\n",
       "0   CSc1nn(-c2c(Cl)cc(C(F)(F)F)cc2Cl)c(N)c1-c1ccccc1C\n",
       "1         [O-][n+]1nc2c(-c3nc[nH]n3)cnn2c2cc(Cl)ccc21\n",
       "2              CC(=O)C1CCC2C3CCC4CC(O)CCC4(C)C3CCC12C\n",
       "3                 O=C(NC1CCCCC1)C1Cc2c(sc3ccccc23)CN1\n",
       "4                   CCCCNc1c(C(=O)OCC)c(C)nc2c1cnn2CC\n",
       "5              Cc1cc2c(C3CCCCC3)[nH]c(=O)nc2c(C#N)c1C\n",
       "6   CC(=O)C1CCC2C3CCC4CC(O)(C#Cc5ccc(C=O)cc5)CCC4(...\n",
       "7           O=C(NCCc1ccc(Cl)cc1)C(=O)c1c[nH]c2ccccc12\n",
       "8         COc1ccc(CCNC(=O)C(=O)c2c[nH]c3ccccc23)cc1OC\n",
       "9                    CCCCCn1ncc2c(N)c(C(=O)NCCC)cnc21\n",
       "10             C#CCCCCn1ncc2c(N)c(C(=O)OCC=C)c(C)nc21\n",
       "11                  O=c1c2cnc3ccccc3c2[nH]n1-c1ccccc1\n",
       "12                       Cc1cc2c(c(C#N)c1C)NC(=O)NC2C\n",
       "13                 CC(C)c1cccc(C(C)C)c1OC(=O)CN1CCCC1\n",
       "14                CN1C(=O)CN=C(c2ccccc2)c2cc(Cl)ccc21\n",
       "15                   Cc1cc2c(c(C#N)c1C)N=CNC2C1CCCCC1\n",
       "16  COc1ccc(-c2c(SC)nn(-c3c(Cl)cc(C(F)(F)F)cc3Cl)c...\n",
       "17         N#Cc1ccc(-c2nnc3c4ccccc4c(N4CCCC4)nn23)cc1\n",
       "18                 CCCC(=O)c1c(C)nc2c(c1N)c1ccccc1n2C"
      ]
     },
     "execution_count": 7,
     "metadata": {},
     "output_type": "execute_result"
    }
   ],
   "source": [
    "refined_inhibition"
   ]
  },
  {
   "cell_type": "code",
   "execution_count": 20,
   "id": "88c19603",
   "metadata": {},
   "outputs": [],
   "source": [
    "refined_inhibition.to_csv('refined_chembl_inhibition.csv')"
   ]
  },
  {
   "cell_type": "code",
   "execution_count": null,
   "id": "6133b34f",
   "metadata": {},
   "outputs": [],
   "source": []
  }
 ],
 "metadata": {
  "kernelspec": {
   "display_name": "PI3K",
   "language": "python",
   "name": "pi3k"
  },
  "language_info": {
   "codemirror_mode": {
    "name": "ipython",
    "version": 3
   },
   "file_extension": ".py",
   "mimetype": "text/x-python",
   "name": "python",
   "nbconvert_exporter": "python",
   "pygments_lexer": "ipython3",
   "version": "3.7.11"
  }
 },
 "nbformat": 4,
 "nbformat_minor": 5
}
