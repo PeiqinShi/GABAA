{
 "cells": [
  {
   "cell_type": "code",
   "execution_count": 1,
   "id": "ecc7c8e8",
   "metadata": {},
   "outputs": [
    {
     "name": "stderr",
     "output_type": "stream",
     "text": [
      "Skipped loading some Tensorflow models, missing a dependency. No module named 'tensorflow'\n",
      "Skipped loading modules with pytorch-geometric dependency, missing a dependency. No module named 'torch_geometric'\n",
      "Skipped loading modules with pytorch-geometric dependency, missing a dependency. cannot import name 'DMPNN' from 'deepchem.models.torch_models' (D:\\anaconda\\envs\\PI3K\\lib\\site-packages\\deepchem\\models\\torch_models\\__init__.py)\n",
      "Skipped loading modules with pytorch-lightning dependency, missing a dependency. No module named 'pytorch_lightning'\n",
      "Skipped loading some Jax models, missing a dependency. No module named 'jax'\n"
     ]
    }
   ],
   "source": [
    "import deepchem as dc\n",
    "import pandas as pd\n",
    "import numpy as np\n",
    "from rdkit import Chem\n",
    "\n",
    "import sklearn\n",
    "from sklearn.ensemble import RandomForestClassifier\n",
    "from sklearn.model_selection import GridSearchCV,KFold\n",
    "\n",
    "from sklearn import metrics\n",
    "from sklearn.metrics import make_scorer\n",
    "from sklearn.metrics import roc_auc_score\n",
    "from sklearn.metrics import f1_score\n",
    "from sklearn.metrics import accuracy_score\n",
    "from sklearn.metrics import recall_score\n",
    "from sklearn.metrics import precision_score"
   ]
  },
  {
   "cell_type": "code",
   "execution_count": 2,
   "id": "9fccf3ea",
   "metadata": {},
   "outputs": [],
   "source": [
    "data = pd.read_csv('../../data/refined_gabaa.csv')"
   ]
  },
  {
   "cell_type": "code",
   "execution_count": 3,
   "id": "d32f358b",
   "metadata": {},
   "outputs": [
    {
     "data": {
      "text/html": [
       "<div>\n",
       "<style scoped>\n",
       "    .dataframe tbody tr th:only-of-type {\n",
       "        vertical-align: middle;\n",
       "    }\n",
       "\n",
       "    .dataframe tbody tr th {\n",
       "        vertical-align: top;\n",
       "    }\n",
       "\n",
       "    .dataframe thead th {\n",
       "        text-align: right;\n",
       "    }\n",
       "</style>\n",
       "<table border=\"1\" class=\"dataframe\">\n",
       "  <thead>\n",
       "    <tr style=\"text-align: right;\">\n",
       "      <th></th>\n",
       "      <th>smiles</th>\n",
       "      <th>label</th>\n",
       "    </tr>\n",
       "  </thead>\n",
       "  <tbody>\n",
       "    <tr>\n",
       "      <th>0</th>\n",
       "      <td>Cc1ccc(-c2nc(C#N)c(S(=O)(=O)N(C)CCO)o2)cc1</td>\n",
       "      <td>1</td>\n",
       "    </tr>\n",
       "    <tr>\n",
       "      <th>1</th>\n",
       "      <td>CCOC(=O)c1cn2c(n1)CCC2</td>\n",
       "      <td>1</td>\n",
       "    </tr>\n",
       "    <tr>\n",
       "      <th>2</th>\n",
       "      <td>N#Cc1ccc(CSc2nc(=O)cc(O)[nH]2)cc1</td>\n",
       "      <td>1</td>\n",
       "    </tr>\n",
       "    <tr>\n",
       "      <th>3</th>\n",
       "      <td>Fc1ccc(-c2nnnn2-c2ccc(Br)cn2)cc1</td>\n",
       "      <td>1</td>\n",
       "    </tr>\n",
       "    <tr>\n",
       "      <th>4</th>\n",
       "      <td>CCc1ccc(NC(=O)c2c(C(=O)Nc3ccc(C(=O)OC)cc3)sc3n...</td>\n",
       "      <td>1</td>\n",
       "    </tr>\n",
       "    <tr>\n",
       "      <th>...</th>\n",
       "      <td>...</td>\n",
       "      <td>...</td>\n",
       "    </tr>\n",
       "    <tr>\n",
       "      <th>1649</th>\n",
       "      <td>CC(=O)Oc1c(C(C)C)cccc1C(C)C</td>\n",
       "      <td>0</td>\n",
       "    </tr>\n",
       "    <tr>\n",
       "      <th>1650</th>\n",
       "      <td>COCCN(CCOC)c1nn2c(-c3ccc(O)cc3)nnc2c2ccccc12</td>\n",
       "      <td>0</td>\n",
       "    </tr>\n",
       "    <tr>\n",
       "      <th>1651</th>\n",
       "      <td>CCCCCn1ncc2c(N)c(C(=O)NCC)cnc21</td>\n",
       "      <td>0</td>\n",
       "    </tr>\n",
       "    <tr>\n",
       "      <th>1652</th>\n",
       "      <td>NC(=O)N1Cc2c(-c3noc(C4CC4)n3)ncn2-c2ccccc21</td>\n",
       "      <td>0</td>\n",
       "    </tr>\n",
       "    <tr>\n",
       "      <th>1653</th>\n",
       "      <td>C#CCOC(=O)c1c(C)nc2c(cnn2CCCCC)c1N</td>\n",
       "      <td>0</td>\n",
       "    </tr>\n",
       "  </tbody>\n",
       "</table>\n",
       "<p>1654 rows × 2 columns</p>\n",
       "</div>"
      ],
      "text/plain": [
       "                                                 smiles  label\n",
       "0            Cc1ccc(-c2nc(C#N)c(S(=O)(=O)N(C)CCO)o2)cc1      1\n",
       "1                                CCOC(=O)c1cn2c(n1)CCC2      1\n",
       "2                     N#Cc1ccc(CSc2nc(=O)cc(O)[nH]2)cc1      1\n",
       "3                      Fc1ccc(-c2nnnn2-c2ccc(Br)cn2)cc1      1\n",
       "4     CCc1ccc(NC(=O)c2c(C(=O)Nc3ccc(C(=O)OC)cc3)sc3n...      1\n",
       "...                                                 ...    ...\n",
       "1649                        CC(=O)Oc1c(C(C)C)cccc1C(C)C      0\n",
       "1650       COCCN(CCOC)c1nn2c(-c3ccc(O)cc3)nnc2c2ccccc12      0\n",
       "1651                    CCCCCn1ncc2c(N)c(C(=O)NCC)cnc21      0\n",
       "1652        NC(=O)N1Cc2c(-c3noc(C4CC4)n3)ncn2-c2ccccc21      0\n",
       "1653                 C#CCOC(=O)c1c(C)nc2c(cnn2CCCCC)c1N      0\n",
       "\n",
       "[1654 rows x 2 columns]"
      ]
     },
     "execution_count": 3,
     "metadata": {},
     "output_type": "execute_result"
    }
   ],
   "source": [
    "data"
   ]
  },
  {
   "cell_type": "markdown",
   "id": "1f013f32",
   "metadata": {},
   "source": [
    "### T-sen"
   ]
  },
  {
   "cell_type": "code",
   "execution_count": 16,
   "id": "2146cda0",
   "metadata": {},
   "outputs": [],
   "source": [
    "from sklearn.manifold import TSNE\n",
    "import matplotlib.pyplot as plt\n",
    "import deepchem as dc\n",
    "import pandas as pd\n",
    "import numpy as np\n",
    "import seaborn as sns"
   ]
  },
  {
   "cell_type": "code",
   "execution_count": 20,
   "id": "bda42c1a",
   "metadata": {},
   "outputs": [
    {
     "name": "stderr",
     "output_type": "stream",
     "text": [
      "D:\\anaconda\\envs\\PI3K\\lib\\site-packages\\sklearn\\manifold\\_t_sne.py:783: FutureWarning: The default initialization in TSNE will change from 'random' to 'pca' in 1.2.\n",
      "  FutureWarning,\n",
      "D:\\anaconda\\envs\\PI3K\\lib\\site-packages\\sklearn\\manifold\\_t_sne.py:793: FutureWarning: The default learning rate in TSNE will change from 200.0 to 'auto' in 1.2.\n",
      "  FutureWarning,\n"
     ]
    },
    {
     "data": {
      "text/plain": [
       "<AxesSubplot:>"
      ]
     },
     "execution_count": 20,
     "metadata": {},
     "output_type": "execute_result"
    },
    {
     "data": {
      "image/png": "[encoded data removed]",
      "text/plain": [
       "<Figure size 432x288 with 1 Axes>"
      ]
     },
     "metadata": {
      "needs_background": "light"
     },
     "output_type": "display_data"
    }
   ],
   "source": [
    "data_rdkit = np.concatenate((train_dataset.X, test_dataset.X), axis=0)\n",
    "\n",
    "# 运行t-SNE算法\n",
    "tsne = TSNE(n_components=2)\n",
    "transformed_data = tsne.fit_transform(data_rdkit)\n",
    "\n",
    "# 绘制结果\n",
    "sns.scatterplot(x=transformed_data[:, 0], y=transformed_data[:, 1], hue=['train']*827 + ['test']*827)"
   ]
  },
  {
   "cell_type": "markdown",
   "id": "fd9ea61e",
   "metadata": {},
   "source": [
    "# Feature extraction & Data splitting"
   ]
  },
  {
   "cell_type": "code",
   "execution_count": 4,
   "id": "bbaf0558",
   "metadata": {},
   "outputs": [],
   "source": [
    "featurizer = dc.feat.RDKitDescriptors()\n",
    "X = featurizer.featurize(data['smiles'])\n",
    "Y = data['label']\n",
    "dataset = dc.data.DiskDataset.from_numpy(X=X,y=Y,ids=data['smiles'])"
   ]
  },
  {
   "cell_type": "code",
   "execution_count": 5,
   "id": "aa1cc6e5",
   "metadata": {},
   "outputs": [],
   "source": [
    "splitter = dc.splits.ScaffoldSplitter()\n",
    "train_dataset,test_dataset = splitter.train_test_split(dataset=dataset,frac_train=0.7,seed=100)"
   ]
  },
  {
   "cell_type": "markdown",
   "id": "a9466420",
   "metadata": {},
   "source": [
    "# GridSearchCV"
   ]
  },
  {
   "cell_type": "code",
   "execution_count": 6,
   "id": "3b49417b",
   "metadata": {},
   "outputs": [],
   "source": [
    "scoring = {'AUC':make_scorer(roc_auc_score),\n",
    "           'F1':make_scorer(f1_score),\n",
    "           'ACC':make_scorer(accuracy_score),\n",
    "           'Recall':make_scorer(recall_score),\n",
    "           'Precision':make_scorer(precision_score)}\n",
    "\n",
    "rf_param_grid = {'n_estimators':[50,100,150,200,250,300,350,400],\n",
    "              'max_depth':[20,30,40,50,60,70,80,90,100,110],\n",
    "            'max_features':[\"auto\", \"sqrt\", \"log2\"]}\n",
    "    \n",
    "    \n",
    "rf_classifier = RandomForestClassifier()\n",
    "\n",
    "cv = KFold(n_splits=5, shuffle=True, random_state=100)\n",
    "\n",
    "\n",
    "rf_gs = GridSearchCV(\n",
    "                    rf_classifier,\n",
    "                   rf_param_grid,\n",
    "                 scoring = scoring,\n",
    "                  cv = cv,\n",
    "                 n_jobs = -1,\n",
    "               refit = 'AUC',\n",
    "           return_train_score = True)\n",
    "\n",
    "rf_gs_fit = rf_gs.fit(train_dataset.X, train_dataset.y.ravel())"
   ]
  },
  {
   "cell_type": "code",
   "execution_count": 7,
   "id": "06ee8bff",
   "metadata": {},
   "outputs": [],
   "source": [
    "val_AUC = rf_gs.best_score_\n",
    "val_F1 = rf_gs.cv_results_['mean_test_F1'][rf_gs.best_index_]\n",
    "val_ACC = rf_gs.cv_results_['mean_test_ACC'][rf_gs.best_index_]\n",
    "val_Recall = rf_gs.cv_results_['mean_test_Recall'][rf_gs.best_index_]\n",
    "val_Precision = rf_gs.cv_results_['mean_test_Precision'][rf_gs.best_index_]"
   ]
  },
  {
   "cell_type": "markdown",
   "id": "2d58b588",
   "metadata": {},
   "source": [
    "# GridSearchCV_Result"
   ]
  },
  {
   "cell_type": "code",
   "execution_count": 8,
   "id": "e2caeb3e",
   "metadata": {},
   "outputs": [
    {
     "name": "stdout",
     "output_type": "stream",
     "text": [
      "Best parameters:  {'max_depth': 20, 'max_features': 'sqrt', 'n_estimators': 350}\n",
      "Best score (AUC):  0.8800029432106831\n",
      "F1:  0.8478088779618451\n",
      "ACC:  0.8884870876250186\n",
      "Recall:  0.8434941211112046\n",
      "Precision:  0.8534955115629274\n"
     ]
    }
   ],
   "source": [
    "print('Best parameters: ', rf_gs.best_params_)\n",
    "print('Best score (AUC): ', rf_gs.best_score_)\n",
    "print('F1: ', rf_gs.cv_results_['mean_test_F1'][rf_gs.best_index_])\n",
    "print('ACC: ', rf_gs.cv_results_['mean_test_ACC'][rf_gs.best_index_])\n",
    "print('Recall: ',rf_gs.cv_results_['mean_test_Recall'][rf_gs.best_index_])\n",
    "print('Precision: ', rf_gs.cv_results_['mean_test_Precision'][rf_gs.best_index_])"
   ]
  },
  {
   "cell_type": "code",
   "execution_count": 9,
   "id": "fe84f2c8",
   "metadata": {},
   "outputs": [
    {
     "data": {
      "text/plain": [
       "RandomForestClassifier(max_depth=20, max_features='sqrt', n_estimators=350)"
      ]
     },
     "execution_count": 9,
     "metadata": {},
     "output_type": "execute_result"
    }
   ],
   "source": [
    "rf_model = rf_gs_fit.best_estimator_\n",
    "rf_model"
   ]
  },
  {
   "cell_type": "markdown",
   "id": "d0bb4b4e",
   "metadata": {},
   "source": [
    "# Evaluate model"
   ]
  },
  {
   "cell_type": "code",
   "execution_count": 10,
   "id": "87015b34",
   "metadata": {},
   "outputs": [],
   "source": [
    "y_test_pred_proba = rf_model.predict_proba(test_dataset.X)"
   ]
  },
  {
   "cell_type": "code",
   "execution_count": 11,
   "id": "390697bc",
   "metadata": {},
   "outputs": [],
   "source": [
    "rf_test_pred_list = []\n",
    "for test_score in y_test_pred_proba:\n",
    "    test_score = test_score[1]\n",
    "    rf_test_pred_list.append(test_score)"
   ]
  },
  {
   "cell_type": "code",
   "execution_count": 12,
   "id": "932325cb",
   "metadata": {},
   "outputs": [],
   "source": [
    "rf_test_pred_array = np.array(rf_test_pred_list)"
   ]
  },
  {
   "cell_type": "code",
   "execution_count": 13,
   "id": "354fca97",
   "metadata": {},
   "outputs": [],
   "source": [
    "test_AUC = roc_auc_score(test_dataset.y,rf_test_pred_list)\n",
    "test_F1 = f1_score(test_dataset.y,np.round(rf_test_pred_array))\n",
    "test_ACC = accuracy_score(test_dataset.y,np.round(rf_test_pred_array))\n",
    "test_Recall = recall_score(test_dataset.y,np.round(rf_test_pred_array))\n",
    "test_Precision = precision_score(test_dataset.y,np.round(rf_test_pred_array))"
   ]
  },
  {
   "cell_type": "markdown",
   "id": "fd501f3a",
   "metadata": {},
   "source": [
    "# Finall result"
   ]
  },
  {
   "cell_type": "code",
   "execution_count": 14,
   "id": "1dc26a3e",
   "metadata": {},
   "outputs": [],
   "source": [
    "rf_performance_dataset = {\n",
    "    'AUC':[val_AUC,test_AUC],\n",
    "    'F1_score':[val_F1,test_F1],\n",
    "    'ACC':[val_ACC,test_ACC],\n",
    "    'Recall':[val_Recall,test_Recall],\n",
    "    'Precision':[val_Precision,test_Precision],\n",
    "}"
   ]
  },
  {
   "cell_type": "code",
   "execution_count": 15,
   "id": "0b6c73fd",
   "metadata": {},
   "outputs": [
    {
     "data": {
      "text/html": [
       "<div>\n",
       "<style scoped>\n",
       "    .dataframe tbody tr th:only-of-type {\n",
       "        vertical-align: middle;\n",
       "    }\n",
       "\n",
       "    .dataframe tbody tr th {\n",
       "        vertical-align: top;\n",
       "    }\n",
       "\n",
       "    .dataframe thead th {\n",
       "        text-align: right;\n",
       "    }\n",
       "</style>\n",
       "<table border=\"1\" class=\"dataframe\">\n",
       "  <thead>\n",
       "    <tr style=\"text-align: right;\">\n",
       "      <th></th>\n",
       "      <th>AUC</th>\n",
       "      <th>F1_score</th>\n",
       "      <th>ACC</th>\n",
       "      <th>Recall</th>\n",
       "      <th>Precision</th>\n",
       "    </tr>\n",
       "  </thead>\n",
       "  <tbody>\n",
       "    <tr>\n",
       "      <th>val</th>\n",
       "      <td>0.880003</td>\n",
       "      <td>0.847809</td>\n",
       "      <td>0.888487</td>\n",
       "      <td>0.843494</td>\n",
       "      <td>0.853496</td>\n",
       "    </tr>\n",
       "    <tr>\n",
       "      <th>test</th>\n",
       "      <td>0.890482</td>\n",
       "      <td>0.814388</td>\n",
       "      <td>0.740443</td>\n",
       "      <td>0.705736</td>\n",
       "      <td>0.962585</td>\n",
       "    </tr>\n",
       "  </tbody>\n",
       "</table>\n",
       "</div>"
      ],
      "text/plain": [
       "           AUC  F1_score       ACC    Recall  Precision\n",
       "val   0.880003  0.847809  0.888487  0.843494   0.853496\n",
       "test  0.890482  0.814388  0.740443  0.705736   0.962585"
      ]
     },
     "execution_count": 15,
     "metadata": {},
     "output_type": "execute_result"
    }
   ],
   "source": [
    "rf_performance = pd.DataFrame(rf_performance_dataset,index=['val','test'])\n",
    "rf_performance"
   ]
  },
  {
   "cell_type": "code",
   "execution_count": null,
   "id": "4c289d29",
   "metadata": {},
   "outputs": [],
   "source": []
  }
 ],
 "metadata": {
  "kernelspec": {
   "display_name": "PI3K",
   "language": "python",
   "name": "pi3k"
  },
  "language_info": {
   "codemirror_mode": {
    "name": "ipython",
    "version": 3
   },
   "file_extension": ".py",
   "mimetype": "text/x-python",
   "name": "python",
   "nbconvert_exporter": "python",
   "pygments_lexer": "ipython3",
   "version": "3.7.11"
  }
 },
 "nbformat": 4,
 "nbformat_minor": 5
}
