{
 "cells": [
  {
   "cell_type": "code",
   "execution_count": 1,
   "id": "ecc7c8e8",
   "metadata": {},
   "outputs": [
    {
     "name": "stderr",
     "output_type": "stream",
     "text": [
      "Skipped loading some Tensorflow models, missing a dependency. No module named 'tensorflow'\n",
      "Skipped loading modules with pytorch-geometric dependency, missing a dependency. No module named 'torch_geometric'\n",
      "Skipped loading modules with pytorch-geometric dependency, missing a dependency. cannot import name 'DMPNN' from 'deepchem.models.torch_models' (D:\\anaconda\\envs\\PI3K\\lib\\site-packages\\deepchem\\models\\torch_models\\__init__.py)\n",
      "Skipped loading modules with pytorch-lightning dependency, missing a dependency. No module named 'pytorch_lightning'\n",
      "Skipped loading some Jax models, missing a dependency. No module named 'jax'\n"
     ]
    }
   ],
   "source": [
    "import deepchem as dc\n",
    "import pandas as pd\n",
    "import numpy as np\n",
    "from rdkit import Chem\n",
    "\n",
    "from sklearn.ensemble import RandomForestClassifier\n",
    "from sklearn.model_selection import GridSearchCV,KFold\n",
    "\n",
    "from sklearn.metrics import make_scorer\n",
    "from sklearn.metrics import confusion_matrix\n",
    "from sklearn.metrics import roc_auc_score\n",
    "from sklearn.metrics import accuracy_score\n",
    "from sklearn.metrics import precision_score\n",
    "from sklearn.metrics import recall_score"
   ]
  },
  {
   "cell_type": "code",
   "execution_count": 2,
   "id": "9fccf3ea",
   "metadata": {},
   "outputs": [],
   "source": [
    "data = pd.read_csv('../../data/GABAA.csv',encoding='gb18030')"
   ]
  },
  {
   "cell_type": "markdown",
   "id": "fd9ea61e",
   "metadata": {},
   "source": [
    "# Feature extraction & Data splitting"
   ]
  },
  {
   "cell_type": "code",
   "execution_count": 3,
   "id": "bbaf0558",
   "metadata": {},
   "outputs": [],
   "source": [
    "featurizer = dc.feat.CircularFingerprint(size=1024,radius=4)\n",
    "features = featurizer.featurize(data['smiles'])\n",
    "#dataset = dc.data.NumpyDataset(features,data['class'])"
   ]
  },
  {
   "cell_type": "code",
   "execution_count": 4,
   "id": "fa3cde3d",
   "metadata": {},
   "outputs": [],
   "source": [
    "from sklearn.feature_selection import VarianceThreshold\n",
    "\n",
    "# 初始化VarianceThreshold对象\n",
    "vt = VarianceThreshold(threshold = (.98 * (1 - .98)))\n",
    "\n",
    "# 进行特征选择\n",
    "X_new = vt.fit_transform(features)\n",
    "dataset = dc.data.NumpyDataset(X_new,data['class'])"
   ]
  },
  {
   "cell_type": "code",
   "execution_count": 5,
   "id": "aa1cc6e5",
   "metadata": {},
   "outputs": [],
   "source": [
    "splitter = dc.splits.RandomSplitter()\n",
    "train_dataset, test_dataset = splitter.train_test_split(dataset=dataset,frac_train=0.8,seed=500)"
   ]
  },
  {
   "cell_type": "code",
   "execution_count": 6,
   "id": "84189f21",
   "metadata": {},
   "outputs": [
    {
     "data": {
      "text/plain": [
       "<NumpyDataset X.shape: (321, 816), y.shape: (321,), w.shape: (321,), ids: [133 336 341 ... 93 19 298], task_names: [0]>"
      ]
     },
     "execution_count": 6,
     "metadata": {},
     "output_type": "execute_result"
    }
   ],
   "source": [
    "train_dataset"
   ]
  },
  {
   "cell_type": "markdown",
   "id": "a9466420",
   "metadata": {},
   "source": [
    "# GridSearchCV"
   ]
  },
  {
   "cell_type": "code",
   "execution_count": 10,
   "id": "3b49417b",
   "metadata": {},
   "outputs": [],
   "source": [
    "scoring = {\n",
    "         'AUC':make_scorer(roc_auc_score, needs_proba=True),\n",
    "          'ACC':make_scorer(accuracy_score),\n",
    "           'PRE':make_scorer(precision_score),\n",
    "           'REC':make_scorer(recall_score),\n",
    "            \n",
    "}\n",
    "\n",
    "classifier  =  RandomForestClassifier(random_state=442)\n",
    "\n",
    "rf_param_grid = {'n_estimators':[200,220,240,260,280,300,320],\n",
    "              'max_depth':[20,30,40,50,60],\n",
    "            'max_features':[\"auto\", \"sqrt\", \"log2\"]}\n",
    "\n",
    "rf_gs = GridSearchCV(\n",
    "                    classifier,\n",
    "                   rf_param_grid,\n",
    "                 scoring = scoring,\n",
    "                  cv = KFold(n_splits=5, shuffle=True, random_state=500),\n",
    "                 n_jobs = -1,\n",
    "               refit = 'AUC',\n",
    "               return_train_score = True)\n",
    "\n",
    "rf_gs_fit = rf_gs.fit(train_dataset.X, train_dataset.y.ravel())"
   ]
  },
  {
   "cell_type": "code",
   "execution_count": 11,
   "id": "87015b34",
   "metadata": {},
   "outputs": [],
   "source": [
    "val_AUC = rf_gs.best_score_\n",
    "val_ACC = rf_gs.cv_results_['mean_test_ACC'][rf_gs.best_index_]\n",
    "val_PRE = rf_gs.cv_results_['mean_test_PRE'][rf_gs.best_index_]\n",
    "val_REC = rf_gs.cv_results_['mean_test_REC'][rf_gs.best_index_]"
   ]
  },
  {
   "cell_type": "markdown",
   "id": "2d58b588",
   "metadata": {},
   "source": [
    "# GridSearchCV_Result"
   ]
  },
  {
   "cell_type": "code",
   "execution_count": 12,
   "id": "e2caeb3e",
   "metadata": {},
   "outputs": [
    {
     "name": "stdout",
     "output_type": "stream",
     "text": [
      "Best parameters:  {'max_depth': 20, 'max_features': 'log2', 'n_estimators': 300}\n",
      "Best score (AUC):  0.9037896873786424\n",
      "ACC:  0.8473557692307694\n",
      "PRE:  0.8222510577519065\n",
      "REC:  0.8881442612437835\n"
     ]
    }
   ],
   "source": [
    "print('Best parameters: ', rf_gs.best_params_)\n",
    "print('Best score (AUC): ', rf_gs.best_score_)\n",
    "print('ACC: ', rf_gs.cv_results_['mean_test_ACC'][rf_gs.best_index_])\n",
    "print('PRE: ', rf_gs.cv_results_['mean_test_PRE'][rf_gs.best_index_])\n",
    "print('REC: ',rf_gs.cv_results_['mean_test_REC'][rf_gs.best_index_])"
   ]
  },
  {
   "cell_type": "code",
   "execution_count": 13,
   "id": "fe84f2c8",
   "metadata": {},
   "outputs": [
    {
     "data": {
      "text/plain": [
       "RandomForestClassifier(max_depth=20, max_features='log2', n_estimators=300,\n",
       "                       random_state=442)"
      ]
     },
     "execution_count": 13,
     "metadata": {},
     "output_type": "execute_result"
    }
   ],
   "source": [
    "rf_model = rf_gs_fit.best_estimator_\n",
    "rf_model"
   ]
  },
  {
   "cell_type": "markdown",
   "id": "d0bb4b4e",
   "metadata": {},
   "source": [
    "# Evaluate model"
   ]
  },
  {
   "cell_type": "code",
   "execution_count": 14,
   "id": "520f38c4",
   "metadata": {},
   "outputs": [],
   "source": [
    "y_test_pred_proba = rf_model.predict_proba(test_dataset.X)\n",
    "y_test_pred = rf_model.predict(test_dataset.X)"
   ]
  },
  {
   "cell_type": "code",
   "execution_count": 15,
   "id": "07e754d3",
   "metadata": {},
   "outputs": [
    {
     "name": "stdout",
     "output_type": "stream",
     "text": [
      "TN: 28\n",
      "FP: 8\n",
      "FN: 7\n",
      "TP: 38\n"
     ]
    }
   ],
   "source": [
    "tn, fp, fn, tp = confusion_matrix(test_dataset.y, y_test_pred).ravel()\n",
    "print('TN:', tn)\n",
    "print('FP:', fp)\n",
    "print('FN:', fn)\n",
    "print('TP:', tp)"
   ]
  },
  {
   "cell_type": "code",
   "execution_count": 16,
   "id": "390697bc",
   "metadata": {},
   "outputs": [],
   "source": [
    "rf_test_pred_list = []\n",
    "for test_score in y_test_pred_proba:\n",
    "    test_score = test_score[1]\n",
    "    rf_test_pred_list.append(test_score)"
   ]
  },
  {
   "cell_type": "code",
   "execution_count": 17,
   "id": "932325cb",
   "metadata": {},
   "outputs": [],
   "source": [
    "rf_test_pred_array = np.array(rf_test_pred_list)"
   ]
  },
  {
   "cell_type": "code",
   "execution_count": 18,
   "id": "354fca97",
   "metadata": {},
   "outputs": [],
   "source": [
    "test_AUC = roc_auc_score(test_dataset.y,rf_test_pred_list)\n",
    "test_ACC = accuracy_score(test_dataset.y,np.round(rf_test_pred_array))\n",
    "test_PRE = precision_score(test_dataset.y,np.round(rf_test_pred_array))\n",
    "test_REC = recall_score(test_dataset.y,np.round(rf_test_pred_array))"
   ]
  },
  {
   "cell_type": "markdown",
   "id": "fd501f3a",
   "metadata": {},
   "source": [
    "# Finall result"
   ]
  },
  {
   "cell_type": "code",
   "execution_count": 19,
   "id": "1dc26a3e",
   "metadata": {},
   "outputs": [],
   "source": [
    "rf_performance_dataset = {\n",
    "    'AUC':[val_AUC,test_AUC],\n",
    "    'ACC':[val_ACC,test_ACC],\n",
    "    'PRE':[val_PRE,test_PRE],\n",
    "    'REC':[val_REC,test_REC]\n",
    "}"
   ]
  },
  {
   "cell_type": "code",
   "execution_count": 20,
   "id": "8063978b",
   "metadata": {},
   "outputs": [
    {
     "data": {
      "text/html": [
       "<div>\n",
       "<style scoped>\n",
       "    .dataframe tbody tr th:only-of-type {\n",
       "        vertical-align: middle;\n",
       "    }\n",
       "\n",
       "    .dataframe tbody tr th {\n",
       "        vertical-align: top;\n",
       "    }\n",
       "\n",
       "    .dataframe thead th {\n",
       "        text-align: right;\n",
       "    }\n",
       "</style>\n",
       "<table border=\"1\" class=\"dataframe\">\n",
       "  <thead>\n",
       "    <tr style=\"text-align: right;\">\n",
       "      <th></th>\n",
       "      <th>AUC</th>\n",
       "      <th>ACC</th>\n",
       "      <th>PRE</th>\n",
       "      <th>REC</th>\n",
       "    </tr>\n",
       "  </thead>\n",
       "  <tbody>\n",
       "    <tr>\n",
       "      <th>val</th>\n",
       "      <td>0.903790</td>\n",
       "      <td>0.847356</td>\n",
       "      <td>0.822251</td>\n",
       "      <td>0.888144</td>\n",
       "    </tr>\n",
       "    <tr>\n",
       "      <th>test</th>\n",
       "      <td>0.885185</td>\n",
       "      <td>0.814815</td>\n",
       "      <td>0.826087</td>\n",
       "      <td>0.844444</td>\n",
       "    </tr>\n",
       "  </tbody>\n",
       "</table>\n",
       "</div>"
      ],
      "text/plain": [
       "           AUC       ACC       PRE       REC\n",
       "val   0.903790  0.847356  0.822251  0.888144\n",
       "test  0.885185  0.814815  0.826087  0.844444"
      ]
     },
     "execution_count": 20,
     "metadata": {},
     "output_type": "execute_result"
    }
   ],
   "source": [
    "rf_performance = pd.DataFrame(rf_performance_dataset,index=['val','test'])\n",
    "rf_performance"
   ]
  },
  {
   "cell_type": "code",
   "execution_count": 15,
   "id": "0b6c73fd",
   "metadata": {},
   "outputs": [
    {
     "data": {
      "text/html": [
       "<div>\n",
       "<style scoped>\n",
       "    .dataframe tbody tr th:only-of-type {\n",
       "        vertical-align: middle;\n",
       "    }\n",
       "\n",
       "    .dataframe tbody tr th {\n",
       "        vertical-align: top;\n",
       "    }\n",
       "\n",
       "    .dataframe thead th {\n",
       "        text-align: right;\n",
       "    }\n",
       "</style>\n",
       "<table border=\"1\" class=\"dataframe\">\n",
       "  <thead>\n",
       "    <tr style=\"text-align: right;\">\n",
       "      <th></th>\n",
       "      <th>AUC</th>\n",
       "      <th>ACC</th>\n",
       "      <th>PRE</th>\n",
       "      <th>REC</th>\n",
       "    </tr>\n",
       "  </thead>\n",
       "  <tbody>\n",
       "    <tr>\n",
       "      <th>val</th>\n",
       "      <td>0.900952</td>\n",
       "      <td>0.841202</td>\n",
       "      <td>0.823383</td>\n",
       "      <td>0.868291</td>\n",
       "    </tr>\n",
       "    <tr>\n",
       "      <th>test</th>\n",
       "      <td>0.882099</td>\n",
       "      <td>0.790123</td>\n",
       "      <td>0.833333</td>\n",
       "      <td>0.777778</td>\n",
       "    </tr>\n",
       "  </tbody>\n",
       "</table>\n",
       "</div>"
      ],
      "text/plain": [
       "           AUC       ACC       PRE       REC\n",
       "val   0.900952  0.841202  0.823383  0.868291\n",
       "test  0.882099  0.790123  0.833333  0.777778"
      ]
     },
     "execution_count": 15,
     "metadata": {},
     "output_type": "execute_result"
    }
   ],
   "source": [
    "rf_performance = pd.DataFrame(rf_performance_dataset,index=['val','test'])\n",
    "rf_performance"
   ]
  },
  {
   "cell_type": "code",
   "execution_count": null,
   "id": "bb1d445a",
   "metadata": {},
   "outputs": [],
   "source": []
  }
 ],
 "metadata": {
  "kernelspec": {
   "display_name": "PI3K",
   "language": "python",
   "name": "pi3k"
  },
  "language_info": {
   "codemirror_mode": {
    "name": "ipython",
    "version": 3
   },
   "file_extension": ".py",
   "mimetype": "text/x-python",
   "name": "python",
   "nbconvert_exporter": "python",
   "pygments_lexer": "ipython3",
   "version": "3.7.11"
  }
 },
 "nbformat": 4,
 "nbformat_minor": 5
}
