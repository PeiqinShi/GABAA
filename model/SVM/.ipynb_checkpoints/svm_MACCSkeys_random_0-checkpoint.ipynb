{
 "cells": [
  {
   "cell_type": "code",
   "execution_count": 1,
   "id": "44d611d8",
   "metadata": {},
   "outputs": [
    {
     "name": "stderr",
     "output_type": "stream",
     "text": [
      "Skipped loading some Tensorflow models, missing a dependency. No module named 'tensorflow'\n",
      "Skipped loading modules with pytorch-geometric dependency, missing a dependency. No module named 'torch_geometric'\n",
      "Skipped loading modules with pytorch-geometric dependency, missing a dependency. cannot import name 'DMPNN' from 'deepchem.models.torch_models' (D:\\anaconda\\envs\\PI3K\\lib\\site-packages\\deepchem\\models\\torch_models\\__init__.py)\n",
      "Skipped loading modules with pytorch-lightning dependency, missing a dependency. No module named 'pytorch_lightning'\n",
      "Skipped loading some Jax models, missing a dependency. No module named 'jax'\n"
     ]
    }
   ],
   "source": [
    "import deepchem as dc\n",
    "import pandas as pd\n",
    "import numpy as np\n",
    "from rdkit import Chem\n",
    "\n",
    "from sklearn.svm import SVC\n",
    "from sklearn.model_selection import GridSearchCV,KFold\n",
    "\n",
    "from sklearn.metrics import make_scorer\n",
    "from sklearn.metrics import confusion_matrix\n",
    "from sklearn.metrics import roc_auc_score\n",
    "from sklearn.metrics import f1_score\n",
    "from sklearn.metrics import balanced_accuracy_score\n",
    "from sklearn.metrics import matthews_corrcoef"
   ]
  },
  {
   "cell_type": "code",
   "execution_count": 2,
   "id": "e5e3e951",
   "metadata": {},
   "outputs": [],
   "source": [
    "data = pd.read_csv('../../data/refined_gabaa.csv')"
   ]
  },
  {
   "cell_type": "markdown",
   "id": "22a7d059",
   "metadata": {},
   "source": [
    "# Feature extraction & Data splitting"
   ]
  },
  {
   "cell_type": "code",
   "execution_count": 3,
   "id": "b2a5153f",
   "metadata": {},
   "outputs": [],
   "source": [
    "featurizer = dc.feat.MACCSKeysFingerprint()\n",
    "features = featurizer.featurize(data['smiles'])\n",
    "dataset = dc.data.NumpyDataset(features,data['label'])"
   ]
  },
  {
   "cell_type": "code",
   "execution_count": 4,
   "id": "13a8ecac",
   "metadata": {},
   "outputs": [],
   "source": [
    "splitter = dc.splits.RandomSplitter()\n",
    "train_dataset, test_dataset = splitter.train_test_split(dataset=dataset,frac_train=0.7,seed=100)"
   ]
  },
  {
   "cell_type": "markdown",
   "id": "36e865ce",
   "metadata": {},
   "source": [
    "# GridSearchCV"
   ]
  },
  {
   "cell_type": "code",
   "execution_count": 5,
   "id": "3b1878ac",
   "metadata": {},
   "outputs": [],
   "source": [
    "scoring = {\n",
    "          'F1':make_scorer(f1_score),\n",
    "          'AUC':make_scorer(roc_auc_score),\n",
    "           'BA':make_scorer(balanced_accuracy_score),\n",
    "           'MCC':make_scorer(matthews_corrcoef)\n",
    "}\n",
    "\n",
    "param_grid = {'C': [0.1, 1, 10,100], \n",
    "              'kernel': ['linear', 'rbf','poly'],\n",
    "             'gamma':[0.1,1,10]}\n",
    "    \n",
    "svm_classifier = SVC(probability=True)\n",
    "\n",
    "cv = KFold(n_splits=5, shuffle=True, random_state=100)\n",
    "\n",
    "\n",
    "gs = GridSearchCV(\n",
    "                    svm_classifier,\n",
    "                   param_grid,\n",
    "                 scoring = scoring,\n",
    "                  cv = cv,\n",
    "                 n_jobs = -1,\n",
    "               refit = 'F1',\n",
    "               return_train_score = True)\n",
    "\n",
    "gs_fit = gs.fit(train_dataset.X, train_dataset.y.ravel())"
   ]
  },
  {
   "cell_type": "code",
   "execution_count": 6,
   "id": "df5a265c",
   "metadata": {},
   "outputs": [],
   "source": [
    "val_F1 = gs.best_score_\n",
    "val_AUC = gs.cv_results_['mean_test_AUC'][gs.best_index_]\n",
    "val_BA = gs.cv_results_['mean_test_BA'][gs.best_index_]\n",
    "val_MCC = gs.cv_results_['mean_test_MCC'][gs.best_index_]"
   ]
  },
  {
   "cell_type": "markdown",
   "id": "56cfe7bf",
   "metadata": {},
   "source": [
    "# GridSearchCV_Result"
   ]
  },
  {
   "cell_type": "code",
   "execution_count": 7,
   "id": "8cc8760a",
   "metadata": {},
   "outputs": [
    {
     "name": "stdout",
     "output_type": "stream",
     "text": [
      "Best parameters:  {'C': 10, 'gamma': 0.1, 'kernel': 'rbf'}\n",
      "Best score (F1):  0.8438847220510326\n",
      "AUC:  0.8643529790516947\n",
      "BA:  0.8643529790516947\n",
      "MCC:  0.729185091694476\n"
     ]
    }
   ],
   "source": [
    "print('Best parameters: ', gs.best_params_)\n",
    "print('Best score (F1): ', gs.best_score_)\n",
    "print('AUC: ',gs.cv_results_['mean_test_AUC'][gs.best_index_])\n",
    "print('BA: ', gs.cv_results_['mean_test_BA'][gs.best_index_])\n",
    "print('MCC: ',gs.cv_results_['mean_test_MCC'][gs.best_index_])"
   ]
  },
  {
   "cell_type": "code",
   "execution_count": 8,
   "id": "68f75104",
   "metadata": {},
   "outputs": [
    {
     "data": {
      "text/plain": [
       "SVC(C=10, gamma=0.1, probability=True)"
      ]
     },
     "execution_count": 8,
     "metadata": {},
     "output_type": "execute_result"
    }
   ],
   "source": [
    "svm_model = gs_fit.best_estimator_\n",
    "svm_model"
   ]
  },
  {
   "cell_type": "markdown",
   "id": "9e56bc78",
   "metadata": {},
   "source": [
    "# Evaluate model"
   ]
  },
  {
   "cell_type": "code",
   "execution_count": 9,
   "id": "056ec7f5",
   "metadata": {},
   "outputs": [],
   "source": [
    "y_test_pred_proba = svm_model.predict_proba(test_dataset.X)\n",
    "y_test_pred = svm_model.predict(test_dataset.X)"
   ]
  },
  {
   "cell_type": "code",
   "execution_count": 10,
   "id": "c3bfb258",
   "metadata": {},
   "outputs": [
    {
     "name": "stdout",
     "output_type": "stream",
     "text": [
      "TN: 284\n",
      "FP: 29\n",
      "FN: 39\n",
      "TP: 221\n"
     ]
    }
   ],
   "source": [
    "tn, fp, fn, tp = confusion_matrix(test_dataset.y, y_test_pred).ravel()\n",
    "print('TN:', tn)\n",
    "print('FP:', fp)\n",
    "print('FN:', fn)\n",
    "print('TP:', tp)"
   ]
  },
  {
   "cell_type": "code",
   "execution_count": 11,
   "id": "97b8bd69",
   "metadata": {},
   "outputs": [],
   "source": [
    "test_pred_list = []\n",
    "for test_score in y_test_pred_proba:\n",
    "    test_score = test_score[1]\n",
    "    test_pred_list.append(test_score)"
   ]
  },
  {
   "cell_type": "code",
   "execution_count": 12,
   "id": "f34471c9",
   "metadata": {},
   "outputs": [],
   "source": [
    "test_pred_array = np.array(test_pred_list)"
   ]
  },
  {
   "cell_type": "code",
   "execution_count": 13,
   "id": "51cea8ab",
   "metadata": {},
   "outputs": [],
   "source": [
    "test_F1 = f1_score(test_dataset.y,np.round(test_pred_array))\n",
    "test_AUC = roc_auc_score(test_dataset.y,test_pred_list)\n",
    "test_BA =  balanced_accuracy_score(test_dataset.y,np.round(test_pred_array))\n",
    "test_MCC = matthews_corrcoef(test_dataset.y,np.round(test_pred_array))"
   ]
  },
  {
   "cell_type": "markdown",
   "id": "92d3502a",
   "metadata": {},
   "source": [
    "# Finall result"
   ]
  },
  {
   "cell_type": "code",
   "execution_count": 14,
   "id": "676d7186",
   "metadata": {},
   "outputs": [],
   "source": [
    "performance_dataset = {\n",
    "    'F1':[val_F1,test_F1],\n",
    "    'AUC':[val_AUC,test_AUC],\n",
    "    'BA':[val_BA,test_BA],\n",
    "    'MCC':[val_MCC,test_MCC],\n",
    "}"
   ]
  },
  {
   "cell_type": "code",
   "execution_count": 16,
   "id": "d4867045",
   "metadata": {},
   "outputs": [
    {
     "data": {
      "text/html": [
       "<div>\n",
       "<style scoped>\n",
       "    .dataframe tbody tr th:only-of-type {\n",
       "        vertical-align: middle;\n",
       "    }\n",
       "\n",
       "    .dataframe tbody tr th {\n",
       "        vertical-align: top;\n",
       "    }\n",
       "\n",
       "    .dataframe thead th {\n",
       "        text-align: right;\n",
       "    }\n",
       "</style>\n",
       "<table border=\"1\" class=\"dataframe\">\n",
       "  <thead>\n",
       "    <tr style=\"text-align: right;\">\n",
       "      <th></th>\n",
       "      <th>F1</th>\n",
       "      <th>AUC</th>\n",
       "      <th>BA</th>\n",
       "      <th>MCC</th>\n",
       "    </tr>\n",
       "  </thead>\n",
       "  <tbody>\n",
       "    <tr>\n",
       "      <th>val</th>\n",
       "      <td>0.843885</td>\n",
       "      <td>0.864353</td>\n",
       "      <td>0.864353</td>\n",
       "      <td>0.729185</td>\n",
       "    </tr>\n",
       "    <tr>\n",
       "      <th>test</th>\n",
       "      <td>0.868369</td>\n",
       "      <td>0.915858</td>\n",
       "      <td>0.880272</td>\n",
       "      <td>0.763854</td>\n",
       "    </tr>\n",
       "  </tbody>\n",
       "</table>\n",
       "</div>"
      ],
      "text/plain": [
       "            F1       AUC        BA       MCC\n",
       "val   0.843885  0.864353  0.864353  0.729185\n",
       "test  0.868369  0.915858  0.880272  0.763854"
      ]
     },
     "execution_count": 16,
     "metadata": {},
     "output_type": "execute_result"
    }
   ],
   "source": [
    "performance = pd.DataFrame(performance_dataset,index=['val','test'])\n",
    "performance"
   ]
  },
  {
   "cell_type": "code",
   "execution_count": null,
   "id": "d1aeb183",
   "metadata": {},
   "outputs": [],
   "source": []
  }
 ],
 "metadata": {
  "kernelspec": {
   "display_name": "PI3K",
   "language": "python",
   "name": "pi3k"
  },
  "language_info": {
   "codemirror_mode": {
    "name": "ipython",
    "version": 3
   },
   "file_extension": ".py",
   "mimetype": "text/x-python",
   "name": "python",
   "nbconvert_exporter": "python",
   "pygments_lexer": "ipython3",
   "version": "3.7.11"
  }
 },
 "nbformat": 4,
 "nbformat_minor": 5
}
