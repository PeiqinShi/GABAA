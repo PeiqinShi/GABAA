{
 "cells": [
  {
   "cell_type": "code",
   "execution_count": 1,
   "id": "0c88cd85",
   "metadata": {},
   "outputs": [
    {
     "name": "stderr",
     "output_type": "stream",
     "text": [
      "Skipped loading some Tensorflow models, missing a dependency. No module named 'tensorflow'\n",
      "Skipped loading modules with pytorch-geometric dependency, missing a dependency. No module named 'torch_geometric'\n",
      "Skipped loading modules with pytorch-geometric dependency, missing a dependency. cannot import name 'DMPNN' from 'deepchem.models.torch_models' (D:\\anaconda\\envs\\PI3K\\lib\\site-packages\\deepchem\\models\\torch_models\\__init__.py)\n",
      "Skipped loading modules with pytorch-lightning dependency, missing a dependency. No module named 'pytorch_lightning'\n",
      "Skipped loading some Jax models, missing a dependency. No module named 'jax'\n"
     ]
    }
   ],
   "source": [
    "import deepchem as dc\n",
    "import pandas as pd\n",
    "import numpy as np\n",
    "from rdkit import Chem\n",
    "\n",
    "import sklearn\n",
    "from sklearn.svm import SVC\n",
    "from sklearn.model_selection import GridSearchCV,KFold\n",
    "\n",
    "from sklearn import metrics\n",
    "from sklearn.metrics import confusion_matrix\n",
    "from sklearn.metrics import make_scorer\n",
    "from sklearn.metrics import roc_auc_score\n",
    "from sklearn.metrics import f1_score\n",
    "from sklearn.metrics import accuracy_score\n",
    "from sklearn.metrics import recall_score\n",
    "from sklearn.metrics import precision_score\n",
    "\n",
    "import matplotlib.pyplot as plt"
   ]
  },
  {
   "cell_type": "code",
   "execution_count": 2,
   "id": "4b18ee46",
   "metadata": {},
   "outputs": [],
   "source": [
    "data = pd.read_csv('../../data/refined_gabaa.csv')"
   ]
  },
  {
   "cell_type": "markdown",
   "id": "4e7e5738",
   "metadata": {},
   "source": [
    "# Feature extraction & Data splitting"
   ]
  },
  {
   "cell_type": "code",
   "execution_count": 3,
   "id": "192c9d14",
   "metadata": {},
   "outputs": [],
   "source": [
    "featurizer = dc.feat.MACCSKeysFingerprint()\n",
    "features = featurizer.featurize(data['smiles'])\n",
    "dataset = dc.data.NumpyDataset(features,data['label'])"
   ]
  },
  {
   "cell_type": "code",
   "execution_count": 4,
   "id": "ff3d4fab",
   "metadata": {},
   "outputs": [],
   "source": [
    "splitter = dc.splits.RandomSplitter()\n",
    "train_dataset, test_dataset = splitter.train_test_split(dataset=dataset,frac_train=0.7,seed=500)"
   ]
  },
  {
   "cell_type": "markdown",
   "id": "ae8e3576",
   "metadata": {},
   "source": [
    "# GridSearchCV"
   ]
  },
  {
   "cell_type": "code",
   "execution_count": 5,
   "id": "2171aa39",
   "metadata": {},
   "outputs": [],
   "source": [
    "scoring = {'AUC':make_scorer(roc_auc_score),\n",
    "           'F1':make_scorer(f1_score),\n",
    "           'ACC':make_scorer(accuracy_score),\n",
    "           'Recall':make_scorer(recall_score),\n",
    "           'Precision':make_scorer(precision_score)}\n",
    "\n",
    "param_grid = {'C': [0.1, 1, 10,100], \n",
    "              'kernel': ['linear', 'rbf','poly'],\n",
    "             'gamma':[0.1,1,10]}\n",
    "    \n",
    "svm_classifier = SVC(probability=True)\n",
    "\n",
    "cv = KFold(n_splits=5, shuffle=True, random_state=500)\n",
    "\n",
    "gs = GridSearchCV(\n",
    "                    svm_classifier,\n",
    "                   param_grid,\n",
    "                 scoring = scoring,\n",
    "                  cv = cv,\n",
    "                 n_jobs = -1,\n",
    "               refit = 'AUC',\n",
    "               return_train_score = True)\n",
    "\n",
    "gs_fit = gs.fit(train_dataset.X, train_dataset.y.ravel())"
   ]
  },
  {
   "cell_type": "code",
   "execution_count": 6,
   "id": "f21b8455",
   "metadata": {},
   "outputs": [],
   "source": [
    "val_AUC = gs.best_score_\n",
    "val_F1 = gs.cv_results_['mean_test_F1'][gs.best_index_]\n",
    "val_ACC = gs.cv_results_['mean_test_ACC'][gs.best_index_]\n",
    "val_Recall = gs.cv_results_['mean_test_Recall'][gs.best_index_]\n",
    "val_Precision = gs.cv_results_['mean_test_Precision'][gs.best_index_]"
   ]
  },
  {
   "cell_type": "markdown",
   "id": "ff377c8d",
   "metadata": {},
   "source": [
    "# GridSearchCV_Result"
   ]
  },
  {
   "cell_type": "code",
   "execution_count": 7,
   "id": "8be12d9a",
   "metadata": {},
   "outputs": [
    {
     "name": "stdout",
     "output_type": "stream",
     "text": [
      "Best parameters:  {'C': 1, 'gamma': 0.1, 'kernel': 'rbf'}\n",
      "Best score (AUC):  0.8740343402174432\n",
      "F1:  0.8775669788055073\n",
      "ACC:  0.8729287953425885\n",
      "Recall:  0.9051297855447717\n",
      "Precision:  0.8540453931424299\n"
     ]
    }
   ],
   "source": [
    "print('Best parameters: ', gs.best_params_)\n",
    "print('Best score (AUC): ', gs.best_score_)\n",
    "print('F1: ', gs.cv_results_['mean_test_F1'][gs.best_index_])\n",
    "print('ACC: ', gs.cv_results_['mean_test_ACC'][gs.best_index_])\n",
    "print('Recall: ',gs.cv_results_['mean_test_Recall'][gs.best_index_])\n",
    "print('Precision: ', gs.cv_results_['mean_test_Precision'][gs.best_index_])"
   ]
  },
  {
   "cell_type": "code",
   "execution_count": 8,
   "id": "82cbc060",
   "metadata": {},
   "outputs": [
    {
     "data": {
      "text/plain": [
       "SVC(C=1, gamma=0.1, probability=True)"
      ]
     },
     "execution_count": 8,
     "metadata": {},
     "output_type": "execute_result"
    }
   ],
   "source": [
    "svm_model = gs_fit.best_estimator_\n",
    "svm_model"
   ]
  },
  {
   "cell_type": "markdown",
   "id": "e5216d85",
   "metadata": {},
   "source": [
    "# Evaluate model"
   ]
  },
  {
   "cell_type": "code",
   "execution_count": 9,
   "id": "736a50a5",
   "metadata": {},
   "outputs": [],
   "source": [
    "y_test_pred_proba = svm_model.predict_proba(test_dataset.X)"
   ]
  },
  {
   "cell_type": "code",
   "execution_count": 10,
   "id": "b31cbcbf",
   "metadata": {},
   "outputs": [],
   "source": [
    "test_pred_list = []\n",
    "for test_score in y_test_pred_proba:\n",
    "    test_score = test_score[1]\n",
    "    test_pred_list.append(test_score)"
   ]
  },
  {
   "cell_type": "code",
   "execution_count": 11,
   "id": "25b6c710",
   "metadata": {},
   "outputs": [],
   "source": [
    "test_pred_array = np.array(test_pred_list)"
   ]
  },
  {
   "cell_type": "code",
   "execution_count": 12,
   "id": "3b951424",
   "metadata": {},
   "outputs": [],
   "source": [
    "test_AUC = roc_auc_score(test_dataset.y,test_pred_list)\n",
    "test_F1 = f1_score(test_dataset.y,np.round(test_pred_array))\n",
    "test_ACC = accuracy_score(test_dataset.y,np.round(test_pred_array))\n",
    "test_Recall = recall_score(test_dataset.y,np.round(test_pred_array))\n",
    "test_Precision = precision_score(test_dataset.y,np.round(test_pred_array))"
   ]
  },
  {
   "cell_type": "markdown",
   "id": "66896afb",
   "metadata": {},
   "source": [
    "# Finall result"
   ]
  },
  {
   "cell_type": "code",
   "execution_count": 13,
   "id": "7f09cb4a",
   "metadata": {},
   "outputs": [],
   "source": [
    "performance_dataset = {\n",
    "    'AUC':[val_AUC,test_AUC],\n",
    "    'F1_score':[val_F1,test_F1],\n",
    "    'ACC':[val_ACC,test_ACC],\n",
    "    'Recall':[val_Recall,test_Recall],\n",
    "    'Precision':[val_Precision,test_Precision],\n",
    "}"
   ]
  },
  {
   "cell_type": "code",
   "execution_count": 14,
   "id": "005006fa",
   "metadata": {
    "scrolled": true
   },
   "outputs": [
    {
     "data": {
      "text/html": [
       "<div>\n",
       "<style scoped>\n",
       "    .dataframe tbody tr th:only-of-type {\n",
       "        vertical-align: middle;\n",
       "    }\n",
       "\n",
       "    .dataframe tbody tr th {\n",
       "        vertical-align: top;\n",
       "    }\n",
       "\n",
       "    .dataframe thead th {\n",
       "        text-align: right;\n",
       "    }\n",
       "</style>\n",
       "<table border=\"1\" class=\"dataframe\">\n",
       "  <thead>\n",
       "    <tr style=\"text-align: right;\">\n",
       "      <th></th>\n",
       "      <th>AUC</th>\n",
       "      <th>F1_score</th>\n",
       "      <th>ACC</th>\n",
       "      <th>Recall</th>\n",
       "      <th>Precision</th>\n",
       "    </tr>\n",
       "  </thead>\n",
       "  <tbody>\n",
       "    <tr>\n",
       "      <th>val</th>\n",
       "      <td>0.874034</td>\n",
       "      <td>0.877567</td>\n",
       "      <td>0.872929</td>\n",
       "      <td>0.905130</td>\n",
       "      <td>0.854045</td>\n",
       "    </tr>\n",
       "    <tr>\n",
       "      <th>test</th>\n",
       "      <td>0.938282</td>\n",
       "      <td>0.880808</td>\n",
       "      <td>0.881288</td>\n",
       "      <td>0.889796</td>\n",
       "      <td>0.872000</td>\n",
       "    </tr>\n",
       "  </tbody>\n",
       "</table>\n",
       "</div>"
      ],
      "text/plain": [
       "           AUC  F1_score       ACC    Recall  Precision\n",
       "val   0.874034  0.877567  0.872929  0.905130   0.854045\n",
       "test  0.938282  0.880808  0.881288  0.889796   0.872000"
      ]
     },
     "execution_count": 14,
     "metadata": {},
     "output_type": "execute_result"
    }
   ],
   "source": [
    "performance = pd.DataFrame(performance_dataset,index=['val','test'])\n",
    "performance"
   ]
  },
  {
   "cell_type": "code",
   "execution_count": null,
   "id": "6e7dc6c3",
   "metadata": {},
   "outputs": [],
   "source": []
  }
 ],
 "metadata": {
  "kernelspec": {
   "display_name": "PI3K",
   "language": "python",
   "name": "pi3k"
  },
  "language_info": {
   "codemirror_mode": {
    "name": "ipython",
    "version": 3
   },
   "file_extension": ".py",
   "mimetype": "text/x-python",
   "name": "python",
   "nbconvert_exporter": "python",
   "pygments_lexer": "ipython3",
   "version": "3.7.11"
  }
 },
 "nbformat": 4,
 "nbformat_minor": 5
}
