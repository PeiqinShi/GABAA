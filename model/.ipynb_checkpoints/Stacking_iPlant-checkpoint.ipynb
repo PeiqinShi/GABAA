{
 "cells": [
  {
   "cell_type": "code",
   "execution_count": 1,
   "id": "03efb660",
   "metadata": {},
   "outputs": [
    {
     "name": "stderr",
     "output_type": "stream",
     "text": [
      "Skipped loading some Tensorflow models, missing a dependency. No module named 'tensorflow'\n",
      "Skipped loading some PyTorch models, missing a dependency. No module named 'torch'\n",
      "Skipped loading modules with pytorch-geometric dependency, missing a dependency. No module named 'torch'\n",
      "Skipped loading modules with pytorch-lightning dependency, missing a dependency. No module named 'torch'\n",
      "Skipped loading some Jax models, missing a dependency. No module named 'jax'\n"
     ]
    }
   ],
   "source": [
    "import numpy as np\n",
    "import pandas as pd\n",
    "\n",
    "import deepchem as dc\n",
    "\n",
    "import sklearn\n",
    "from sklearn.svm import SVC\n",
    "from sklearn.ensemble import RandomForestClassifier\n",
    "#from mlxtend.classifier import StackingClassifier\n",
    "\n",
    "from sklearn.model_selection import GridSearchCV\n",
    "from sklearn.model_selection import KFold\n",
    "\n",
    "from sklearn import metrics\n",
    "from sklearn.metrics import make_scorer\n",
    "from sklearn.metrics import confusion_matrix\n",
    "from sklearn.metrics import roc_auc_score\n",
    "from sklearn.metrics import accuracy_score\n",
    "from sklearn.metrics import precision_score\n",
    "from sklearn.metrics import recall_score\n",
    "\n",
    "from functools import reduce\n",
    "\n",
    "import warnings\n",
    "warnings.filterwarnings('ignore')\n",
    "\n",
    "import pickle\n",
    "from sklearn.feature_selection import VarianceThreshold\n",
    "import matplotlib.pyplot as plt\n",
    "import seaborn as sns"
   ]
  },
  {
   "cell_type": "code",
   "execution_count": 2,
   "id": "004a896b",
   "metadata": {},
   "outputs": [],
   "source": [
    "data = pd.read_csv('../data/GABAA.csv',encoding='gb18030')"
   ]
  },
  {
   "cell_type": "markdown",
   "id": "19d50649",
   "metadata": {},
   "source": [
    "# 导入模型"
   ]
  },
  {
   "cell_type": "code",
   "execution_count": 3,
   "id": "618e7af9",
   "metadata": {},
   "outputs": [],
   "source": [
    "with open('rf_maccs_model.pkl', 'rb') as f:\n",
    "    rf_maccs_model = pickle.load(f)"
   ]
  },
  {
   "cell_type": "code",
   "execution_count": 4,
   "id": "f524d1cd",
   "metadata": {},
   "outputs": [],
   "source": [
    "with open('rf_rdkit_model.pkl', 'rb') as f:\n",
    "    rf_rdkit_model = pickle.load(f)"
   ]
  },
  {
   "cell_type": "code",
   "execution_count": 5,
   "id": "0c85d6d4",
   "metadata": {},
   "outputs": [],
   "source": [
    "with open('svm_maccs_model.pkl', 'rb') as f:\n",
    "    svm_maccs_model = pickle.load(f)"
   ]
  },
  {
   "cell_type": "code",
   "execution_count": 6,
   "id": "d4d1acec",
   "metadata": {},
   "outputs": [],
   "source": [
    "with open('xgb_maccs_model.pkl', 'rb') as f:\n",
    "    xgb_maccs_model = pickle.load(f)"
   ]
  },
  {
   "cell_type": "markdown",
   "id": "ca5f8fee",
   "metadata": {},
   "source": [
    "# 特征提取"
   ]
  },
  {
   "cell_type": "code",
   "execution_count": 65,
   "id": "a48533b3",
   "metadata": {},
   "outputs": [],
   "source": [
    "def featurizer(featname,data):\n",
    "    \n",
    "    if featname ==\"MACCS\":\n",
    "        featurizer = dc.feat.MACCSKeysFingerprint()\n",
    "        features = featurizer.featurize(data['smiles'])\n",
    "        # 初始化VarianceThreshold对象\n",
    "        vt = VarianceThreshold(threshold = (.98 * (1 - .98)))\n",
    "\n",
    "        # 进行特征选择\n",
    "        X_new = vt.fit_transform(features)\n",
    "        dataset = dc.data.NumpyDataset(X_new,data['class'])\n",
    "        splitter = dc.splits.RandomSplitter()\n",
    "        train_dataset, test_dataset = splitter.train_test_split(dataset=dataset,frac_train=0.8,seed=100)\n",
    "        \n",
    "        data_train = train_dataset.X\n",
    "        data_test = test_dataset.X\n",
    "        label_train = train_dataset.y\n",
    "        label_test = test_dataset.y\n",
    "    \n",
    "    elif featname ==\"RDkit\":\n",
    "        featurizer = dc.feat.RDKitDescriptors()\n",
    "        features = featurizer.featurize(data['smiles'])\n",
    "        # 初始化VarianceThreshold对象\n",
    "        vt = VarianceThreshold(threshold = (.98 * (1 - .98)))\n",
    "\n",
    "        # 进行特征选择\n",
    "        X_new = vt.fit_transform(features)\n",
    "        dataset = dc.data.NumpyDataset(X_new,data['class'])\n",
    "        splitter = dc.splits.RandomSplitter()\n",
    "        train_dataset, test_dataset = splitter.train_test_split(dataset=dataset,frac_train=0.8,seed=100)\n",
    "        \n",
    "        data_train = train_dataset.X\n",
    "        data_test = test_dataset.X\n",
    "        label_train = train_dataset.y\n",
    "        label_test = test_dataset.y\n",
    "     \n",
    "    else:\n",
    "        pass\n",
    "    return  data_train, data_test, label_train, label_test"
   ]
  },
  {
   "cell_type": "markdown",
   "id": "ab077ffd",
   "metadata": {},
   "source": [
    "# 定义模型"
   ]
  },
  {
   "cell_type": "code",
   "execution_count": 66,
   "id": "72c81c0c",
   "metadata": {},
   "outputs": [],
   "source": [
    "def SelectModel(modelname):\n",
    "\n",
    "    if modelname == \"rf_maccs\":\n",
    "        model = rf_maccs_model\n",
    "\n",
    "    elif modelname == \"rf_rdkit\":\n",
    "        model = rf_rdkit_model\n",
    "        \n",
    "    elif modelname == \"svm_maccs\":\n",
    "        model = svm_maccs_model\n",
    "\n",
    "    elif modelname == \"xgb_maccs\":\n",
    "        model = xgb_maccs_model\n",
    "\n",
    "    else:\n",
    "        pass\n",
    "    \n",
    "    return model"
   ]
  },
  {
   "cell_type": "code",
   "execution_count": 67,
   "id": "36d67d6b",
   "metadata": {},
   "outputs": [],
   "source": [
    "def get_oof(clf,n_folds,X_train,y_train,X_test):\n",
    "    ntrain = X_train.shape[0]\n",
    "    ntest =  X_test.shape[0]\n",
    "    classnum = len(np.unique(y_train))\n",
    "    kf = KFold(n_splits=n_folds,random_state=42,shuffle=True)\n",
    "    oof_train = np.zeros((ntrain,classnum))\n",
    "    oof_test = np.zeros((ntest,classnum))\n",
    "\n",
    "    for i,(train_index, test_index) in enumerate(kf.split(X_train)):\n",
    "        kf_X_train = X_train[train_index] # 数据\n",
    "        kf_y_train = y_train[train_index] # 标签\n",
    "\n",
    "        kf_X_test = X_train[test_index]  # k-fold的验证集\n",
    "\n",
    "        #clf.fit(kf_X_train, kf_y_train)\n",
    "        oof_train[test_index] = clf.predict_proba(kf_X_test)\n",
    "\n",
    "        oof_test += clf.predict_proba(X_test)\n",
    "    oof_test = oof_test/float(n_folds)\n",
    "    return oof_train, oof_test"
   ]
  },
  {
   "cell_type": "code",
   "execution_count": 68,
   "id": "ce044c57",
   "metadata": {},
   "outputs": [],
   "source": [
    "# 使用stacking方法的时候\n",
    "# 第一级，重构特征当做第二级的训练集\n",
    "modelist = ['rf_maccs','rf_rdkit','svm_maccs','xgb_maccs']\n",
    "newfeature_list = []\n",
    "newtestdata_list = []\n",
    "\n",
    "for modelname in modelist:\n",
    "    clf_first = SelectModel(modelname)\n",
    "    \n",
    "    if modelname == 'rf_maccs':\n",
    "        data_train, data_test, label_train, label_test = featurizer('MACCS',data)\n",
    "    elif modelname == 'rf_rdkit':\n",
    "        data_train, data_test, label_train, label_test = featurizer('RDkit',data)\n",
    "    elif modelname == 'svm_maccs':\n",
    "        data_train, data_test, label_train, label_test = featurizer('MACCS',data)\n",
    "    elif modelname == 'xgb_maccs':\n",
    "        data_train, data_test, label_train, label_test = featurizer('MACCS',data)\n",
    "    else:\n",
    "        pass\n",
    "        \n",
    "    \n",
    "    oof_train_ ,oof_test_= get_oof(clf=clf_first,n_folds=5,X_train=data_train,y_train=label_train,X_test=data_test)\n",
    "    newfeature_list.append(oof_train_)\n",
    "    newtestdata_list.append(oof_test_)"
   ]
  },
  {
   "cell_type": "code",
   "execution_count": 69,
   "id": "2f63a681",
   "metadata": {
    "scrolled": true
   },
   "outputs": [
    {
     "data": {
      "text/html": [
       "<style>#sk-container-id-5 {color: black;background-color: white;}#sk-container-id-5 pre{padding: 0;}#sk-container-id-5 div.sk-toggleable {background-color: white;}#sk-container-id-5 label.sk-toggleable__label {cursor: pointer;display: block;width: 100%;margin-bottom: 0;padding: 0.3em;box-sizing: border-box;text-align: center;}#sk-container-id-5 label.sk-toggleable__label-arrow:before {content: \"▸\";float: left;margin-right: 0.25em;color: #696969;}#sk-container-id-5 label.sk-toggleable__label-arrow:hover:before {color: black;}#sk-container-id-5 div.sk-estimator:hover label.sk-toggleable__label-arrow:before {color: black;}#sk-container-id-5 div.sk-toggleable__content {max-height: 0;max-width: 0;overflow: hidden;text-align: left;background-color: #f0f8ff;}#sk-container-id-5 div.sk-toggleable__content pre {margin: 0.2em;color: black;border-radius: 0.25em;background-color: #f0f8ff;}#sk-container-id-5 input.sk-toggleable__control:checked~div.sk-toggleable__content {max-height: 200px;max-width: 100%;overflow: auto;}#sk-container-id-5 input.sk-toggleable__control:checked~label.sk-toggleable__label-arrow:before {content: \"▾\";}#sk-container-id-5 div.sk-estimator input.sk-toggleable__control:checked~label.sk-toggleable__label {background-color: #d4ebff;}#sk-container-id-5 div.sk-label input.sk-toggleable__control:checked~label.sk-toggleable__label {background-color: #d4ebff;}#sk-container-id-5 input.sk-hidden--visually {border: 0;clip: rect(1px 1px 1px 1px);clip: rect(1px, 1px, 1px, 1px);height: 1px;margin: -1px;overflow: hidden;padding: 0;position: absolute;width: 1px;}#sk-container-id-5 div.sk-estimator {font-family: monospace;background-color: #f0f8ff;border: 1px dotted black;border-radius: 0.25em;box-sizing: border-box;margin-bottom: 0.5em;}#sk-container-id-5 div.sk-estimator:hover {background-color: #d4ebff;}#sk-container-id-5 div.sk-parallel-item::after {content: \"\";width: 100%;border-bottom: 1px solid gray;flex-grow: 1;}#sk-container-id-5 div.sk-label:hover label.sk-toggleable__label {background-color: #d4ebff;}#sk-container-id-5 div.sk-serial::before {content: \"\";position: absolute;border-left: 1px solid gray;box-sizing: border-box;top: 0;bottom: 0;left: 50%;z-index: 0;}#sk-container-id-5 div.sk-serial {display: flex;flex-direction: column;align-items: center;background-color: white;padding-right: 0.2em;padding-left: 0.2em;position: relative;}#sk-container-id-5 div.sk-item {position: relative;z-index: 1;}#sk-container-id-5 div.sk-parallel {display: flex;align-items: stretch;justify-content: center;background-color: white;position: relative;}#sk-container-id-5 div.sk-item::before, #sk-container-id-5 div.sk-parallel-item::before {content: \"\";position: absolute;border-left: 1px solid gray;box-sizing: border-box;top: 0;bottom: 0;left: 50%;z-index: -1;}#sk-container-id-5 div.sk-parallel-item {display: flex;flex-direction: column;z-index: 1;position: relative;background-color: white;}#sk-container-id-5 div.sk-parallel-item:first-child::after {align-self: flex-end;width: 50%;}#sk-container-id-5 div.sk-parallel-item:last-child::after {align-self: flex-start;width: 50%;}#sk-container-id-5 div.sk-parallel-item:only-child::after {width: 0;}#sk-container-id-5 div.sk-dashed-wrapped {border: 1px dashed gray;margin: 0 0.4em 0.5em 0.4em;box-sizing: border-box;padding-bottom: 0.4em;background-color: white;}#sk-container-id-5 div.sk-label label {font-family: monospace;font-weight: bold;display: inline-block;line-height: 1.2em;}#sk-container-id-5 div.sk-label-container {text-align: center;}#sk-container-id-5 div.sk-container {/* jupyter's `normalize.less` sets `[hidden] { display: none; }` but bootstrap.min.css set `[hidden] { display: none !important; }` so we also need the `!important` here to be able to override the default hidden behavior on the sphinx rendered scikit-learn.org. See: https://github.com/scikit-learn/scikit-learn/issues/21755 */display: inline-block !important;position: relative;}#sk-container-id-5 div.sk-text-repr-fallback {display: none;}</style><div id=\"sk-container-id-5\" class=\"sk-top-container\"><div class=\"sk-text-repr-fallback\"><pre>RandomForestClassifier()</pre><b>In a Jupyter environment, please rerun this cell to show the HTML representation or trust the notebook. <br />On GitHub, the HTML representation is unable to render, please try loading this page with nbviewer.org.</b></div><div class=\"sk-container\" hidden><div class=\"sk-item\"><div class=\"sk-estimator sk-toggleable\"><input class=\"sk-toggleable__control sk-hidden--visually\" id=\"sk-estimator-id-5\" type=\"checkbox\" checked><label for=\"sk-estimator-id-5\" class=\"sk-toggleable__label sk-toggleable__label-arrow\">RandomForestClassifier</label><div class=\"sk-toggleable__content\"><pre>RandomForestClassifier()</pre></div></div></div></div></div>"
      ],
      "text/plain": [
       "RandomForestClassifier()"
      ]
     },
     "execution_count": 69,
     "metadata": {},
     "output_type": "execute_result"
    }
   ],
   "source": [
    "# 特征组合\n",
    "newfeature = reduce(lambda x,y:np.concatenate((x,y),axis=1),newfeature_list)    \n",
    "newtestdata = reduce(lambda x,y:np.concatenate((x,y),axis=1),newtestdata_list)\n",
    "\n",
    "# 第二级，使用上一级输出的当做训练集\n",
    "clf_second1 = RandomForestClassifier()\n",
    "clf_second1.fit(newfeature, label_train)"
   ]
  },
  {
   "cell_type": "markdown",
   "id": "39fa4b89",
   "metadata": {},
   "source": [
    "# seed=100"
   ]
  },
  {
   "cell_type": "code",
   "execution_count": 70,
   "id": "e0b8edb6",
   "metadata": {},
   "outputs": [],
   "source": [
    "pred_proba = clf_second1.predict_proba(newtestdata)\n",
    "y_test_pred = clf_second1.predict(newtestdata)"
   ]
  },
  {
   "cell_type": "code",
   "execution_count": 71,
   "id": "235fdb6a",
   "metadata": {},
   "outputs": [
    {
     "data": {
      "image/png": "[encoded data removed]",
      "text/plain": [
       "<Figure size 600x400 with 2 Axes>"
      ]
     },
     "metadata": {},
     "output_type": "display_data"
    }
   ],
   "source": [
    "confusion_mat_1 = confusion_matrix(label_test, y_test_pred)\n",
    "plt.figure(figsize=(6, 4))\n",
    "sns.heatmap(confusion_mat_1, annot=True, fmt=\"d\", cmap=\"Blues\")\n",
    "plt.xlabel(\"Predicted labels\")\n",
    "plt.ylabel(\"True labels\")\n",
    "plt.title(\"Confusion Matrix\")\n",
    "plt.show()"
   ]
  },
  {
   "cell_type": "code",
   "execution_count": 72,
   "id": "f8ab4ed0",
   "metadata": {},
   "outputs": [],
   "source": [
    "test_pred_list = []\n",
    "for test_score in pred_proba:\n",
    "    test_score = test_score[1]\n",
    "    test_pred_list.append(test_score)"
   ]
  },
  {
   "cell_type": "code",
   "execution_count": 73,
   "id": "55375cb1",
   "metadata": {},
   "outputs": [],
   "source": [
    "test_pred_array = np.array(test_pred_list)"
   ]
  },
  {
   "cell_type": "code",
   "execution_count": 74,
   "id": "9d52c4b6",
   "metadata": {},
   "outputs": [
    {
     "name": "stdout",
     "output_type": "stream",
     "text": [
      "0.9795833333333333 0.9183673469387755 0.9 0.9375\n"
     ]
    }
   ],
   "source": [
    "auc = roc_auc_score(label_test, test_pred_array)\n",
    "acc = accuracy_score(label_test, np.round(test_pred_array))\n",
    "pre = precision_score(label_test, np.round(test_pred_array))\n",
    "rec = recall_score(label_test, np.round(test_pred_array))\n",
    "\n",
    "print(auc,acc,pre,rec)"
   ]
  },
  {
   "cell_type": "code",
   "execution_count": 76,
   "id": "ceb25623",
   "metadata": {},
   "outputs": [
    {
     "data": {
      "text/plain": [
       "98"
      ]
     },
     "execution_count": 76,
     "metadata": {},
     "output_type": "execute_result"
    }
   ],
   "source": [
    "len(test_pred_list)"
   ]
  },
  {
   "cell_type": "markdown",
   "id": "46c7aac2",
   "metadata": {},
   "source": [
    "# seed=200"
   ]
  },
  {
   "cell_type": "code",
   "execution_count": 54,
   "id": "51f2f3af",
   "metadata": {},
   "outputs": [],
   "source": [
    "pred_proba = clf_second1.predict_proba(newtestdata)\n",
    "y_test_pred = clf_second1.predict(newtestdata)"
   ]
  },
  {
   "cell_type": "code",
   "execution_count": 62,
   "id": "f474ab0e",
   "metadata": {},
   "outputs": [
    {
     "data": {
      "image/png": "[encoded data removed]",
      "text/plain": [
       "<Figure size 600x400 with 2 Axes>"
      ]
     },
     "metadata": {},
     "output_type": "display_data"
    }
   ],
   "source": [
    "confusion_mat_2 = confusion_matrix(label_test, y_test_pred)\n",
    "plt.figure(figsize=(6, 4))\n",
    "sns.heatmap(confusion_mat_2, annot=True, fmt=\"d\", cmap=\"Blues\")\n",
    "plt.xlabel(\"Predicted labels\")\n",
    "plt.ylabel(\"True labels\")\n",
    "plt.title(\"Confusion Matrix\")\n",
    "plt.show()"
   ]
  },
  {
   "cell_type": "code",
   "execution_count": 56,
   "id": "8a60df57",
   "metadata": {},
   "outputs": [],
   "source": [
    "test_pred_list = []\n",
    "for test_score in pred_proba:\n",
    "    test_score = test_score[1]\n",
    "    test_pred_list.append(test_score)"
   ]
  },
  {
   "cell_type": "code",
   "execution_count": 57,
   "id": "9ff94195",
   "metadata": {},
   "outputs": [],
   "source": [
    "test_pred_array = np.array(test_pred_list)"
   ]
  },
  {
   "cell_type": "code",
   "execution_count": 58,
   "id": "15861336",
   "metadata": {},
   "outputs": [
    {
     "name": "stdout",
     "output_type": "stream",
     "text": [
      "0.9993729096989966 0.9795918367346939 0.9629629629629629 1.0\n"
     ]
    }
   ],
   "source": [
    "auc = roc_auc_score(label_test, test_pred_array)\n",
    "acc = accuracy_score(label_test, np.round(test_pred_array))\n",
    "pre = precision_score(label_test, np.round(test_pred_array))\n",
    "rec = recall_score(label_test, np.round(test_pred_array))\n",
    "\n",
    "print(auc,acc,pre,rec)"
   ]
  },
  {
   "cell_type": "code",
   "execution_count": null,
   "id": "ac8c7a9d",
   "metadata": {},
   "outputs": [],
   "source": []
  },
  {
   "cell_type": "markdown",
   "id": "df512a44",
   "metadata": {},
   "source": [
    "# seed=300"
   ]
  },
  {
   "cell_type": "code",
   "execution_count": 31,
   "id": "d01723bb",
   "metadata": {},
   "outputs": [],
   "source": [
    "pred_proba = clf_second1.predict_proba(newtestdata)\n",
    "y_test_pred = clf_second1.predict(newtestdata)"
   ]
  },
  {
   "cell_type": "code",
   "execution_count": 32,
   "id": "4666a3b7",
   "metadata": {},
   "outputs": [
    {
     "data": {
      "image/png": "[encoded data removed]",
      "text/plain": [
       "<Figure size 600x400 with 2 Axes>"
      ]
     },
     "metadata": {},
     "output_type": "display_data"
    }
   ],
   "source": [
    "confusion_mat_3 = confusion_matrix(label_test, y_test_pred)\n",
    "plt.figure(figsize=(6, 4))\n",
    "sns.heatmap(confusion_mat, annot=True, fmt=\"d\", cmap=\"Blues\")\n",
    "plt.xlabel(\"Predicted labels\")\n",
    "plt.ylabel(\"True labels\")\n",
    "plt.title(\"Confusion Matrix\")\n",
    "plt.show()"
   ]
  },
  {
   "cell_type": "code",
   "execution_count": 33,
   "id": "6ebd5ede",
   "metadata": {},
   "outputs": [],
   "source": [
    "test_pred_list = []\n",
    "for test_score in pred_proba:\n",
    "    test_score = test_score[1]\n",
    "    test_pred_list.append(test_score)"
   ]
  },
  {
   "cell_type": "code",
   "execution_count": 34,
   "id": "7ea36ca2",
   "metadata": {},
   "outputs": [],
   "source": [
    "test_pred_array = np.array(test_pred_list)"
   ]
  },
  {
   "cell_type": "code",
   "execution_count": 35,
   "id": "637de9f3",
   "metadata": {},
   "outputs": [
    {
     "name": "stdout",
     "output_type": "stream",
     "text": [
      "0.9983086680761099 0.9693877551020408 0.9814814814814815 0.9636363636363636\n"
     ]
    }
   ],
   "source": [
    "auc = roc_auc_score(label_test, test_pred_array)\n",
    "acc = accuracy_score(label_test, np.round(test_pred_array))\n",
    "pre = precision_score(label_test, np.round(test_pred_array))\n",
    "rec = recall_score(label_test, np.round(test_pred_array))\n",
    "\n",
    "print(auc,acc,pre,rec)"
   ]
  },
  {
   "cell_type": "markdown",
   "id": "64b0c523",
   "metadata": {},
   "source": [
    "# seed=400"
   ]
  },
  {
   "cell_type": "code",
   "execution_count": 114,
   "id": "5f2fff79",
   "metadata": {},
   "outputs": [],
   "source": [
    "pred_proba = clf_second1.predict_proba(newtestdata)\n",
    "y_test_pred = clf_second1.predict(newtestdata)"
   ]
  },
  {
   "cell_type": "code",
   "execution_count": 115,
   "id": "b6c2af4c",
   "metadata": {},
   "outputs": [
    {
     "data": {
      "image/png": "[encoded data removed]",
      "text/plain": [
       "<Figure size 600x400 with 2 Axes>"
      ]
     },
     "metadata": {},
     "output_type": "display_data"
    }
   ],
   "source": [
    "confusion_mat_4 = confusion_matrix(label_test, y_test_pred)\n",
    "plt.figure(figsize=(6, 4))\n",
    "sns.heatmap(confusion_mat, annot=True, fmt=\"d\", cmap=\"Blues\")\n",
    "plt.xlabel(\"Predicted labels\")\n",
    "plt.ylabel(\"True labels\")\n",
    "plt.title(\"Confusion Matrix\")\n",
    "plt.show()"
   ]
  },
  {
   "cell_type": "code",
   "execution_count": 116,
   "id": "b367c6b7",
   "metadata": {},
   "outputs": [],
   "source": [
    "test_pred_list = []\n",
    "for test_score in pred_proba:\n",
    "    test_score = test_score[1]\n",
    "    test_pred_list.append(test_score)"
   ]
  },
  {
   "cell_type": "code",
   "execution_count": 117,
   "id": "458fa7aa",
   "metadata": {},
   "outputs": [],
   "source": [
    "test_pred_array = np.array(test_pred_list)"
   ]
  },
  {
   "cell_type": "code",
   "execution_count": 118,
   "id": "d95473a8",
   "metadata": {},
   "outputs": [
    {
     "name": "stdout",
     "output_type": "stream",
     "text": [
      "0.9978858350951374 0.9693877551020408 0.9761904761904762 0.9534883720930233\n"
     ]
    }
   ],
   "source": [
    "auc = roc_auc_score(label_test, test_pred_array)\n",
    "acc = accuracy_score(label_test, np.round(test_pred_array))\n",
    "pre = precision_score(label_test, np.round(test_pred_array))\n",
    "rec = recall_score(label_test, np.round(test_pred_array))\n",
    "\n",
    "print(auc,acc,pre,rec)"
   ]
  },
  {
   "cell_type": "code",
   "execution_count": null,
   "id": "aba0d05e",
   "metadata": {},
   "outputs": [],
   "source": []
  },
  {
   "cell_type": "markdown",
   "id": "0cbbbc06",
   "metadata": {},
   "source": [
    "# seed=500"
   ]
  },
  {
   "cell_type": "code",
   "execution_count": 100,
   "id": "ec8d8254",
   "metadata": {},
   "outputs": [],
   "source": [
    "pred_proba = clf_second1.predict_proba(newtestdata)\n",
    "y_test_pred = clf_second1.predict(newtestdata)"
   ]
  },
  {
   "cell_type": "code",
   "execution_count": 105,
   "id": "e9638646",
   "metadata": {},
   "outputs": [
    {
     "data": {
      "image/png": "[encoded data removed]",
      "text/plain": [
       "<Figure size 600x400 with 2 Axes>"
      ]
     },
     "metadata": {},
     "output_type": "display_data"
    }
   ],
   "source": [
    "confusion_mat_5 = confusion_matrix(label_test, y_test_pred)\n",
    "plt.figure(figsize=(6, 4))\n",
    "sns.heatmap(confusion_mat, annot=True, fmt=\"d\", cmap=\"Blues\")\n",
    "plt.xlabel(\"Predicted labels\")\n",
    "plt.ylabel(\"True labels\")\n",
    "plt.title(\"Confusion Matrix\")\n",
    "plt.show()"
   ]
  },
  {
   "cell_type": "code",
   "execution_count": 106,
   "id": "01f7e88c",
   "metadata": {},
   "outputs": [],
   "source": [
    "test_pred_list = []\n",
    "for test_score in pred_proba:\n",
    "    test_score = test_score[1]\n",
    "    test_pred_list.append(test_score)"
   ]
  },
  {
   "cell_type": "code",
   "execution_count": 107,
   "id": "0b572fc7",
   "metadata": {},
   "outputs": [],
   "source": [
    "test_pred_array = np.array(test_pred_list)"
   ]
  },
  {
   "cell_type": "code",
   "execution_count": 108,
   "id": "752a92c9",
   "metadata": {},
   "outputs": [
    {
     "name": "stdout",
     "output_type": "stream",
     "text": [
      "0.995748299319728 0.9693877551020408 0.9649122807017544 0.9821428571428571\n"
     ]
    }
   ],
   "source": [
    "auc = roc_auc_score(label_test, test_pred_array)\n",
    "acc = accuracy_score(label_test, np.round(test_pred_array))\n",
    "pre = precision_score(label_test, np.round(test_pred_array))\n",
    "rec = recall_score(label_test, np.round(test_pred_array))\n",
    "\n",
    "print(auc,acc,pre,rec)"
   ]
  },
  {
   "cell_type": "code",
   "execution_count": 37,
   "id": "49ed985a",
   "metadata": {},
   "outputs": [
    {
     "data": {
      "text/plain": [
       "array([[42,  1],\n",
       "       [ 2, 53]], dtype=int64)"
      ]
     },
     "execution_count": 37,
     "metadata": {},
     "output_type": "execute_result"
    }
   ],
   "source": [
    "confusion_mat"
   ]
  },
  {
   "cell_type": "code",
   "execution_count": null,
   "id": "ab846548",
   "metadata": {},
   "outputs": [],
   "source": []
  }
 ],
 "metadata": {
  "kernelspec": {
   "display_name": "GABA",
   "language": "python",
   "name": "gaba"
  },
  "language_info": {
   "codemirror_mode": {
    "name": "ipython",
    "version": 3
   },
   "file_extension": ".py",
   "mimetype": "text/x-python",
   "name": "python",
   "nbconvert_exporter": "python",
   "pygments_lexer": "ipython3",
   "version": "3.8.16"
  }
 },
 "nbformat": 4,
 "nbformat_minor": 5
}
