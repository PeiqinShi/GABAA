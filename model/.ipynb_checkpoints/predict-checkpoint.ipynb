{
 "cells": [
  {
   "cell_type": "code",
   "execution_count": 1,
   "id": "4a62c2cd",
   "metadata": {},
   "outputs": [
    {
     "name": "stderr",
     "output_type": "stream",
     "text": [
      "Skipped loading some Tensorflow models, missing a dependency. No module named 'tensorflow'\n",
      "Skipped loading some PyTorch models, missing a dependency. No module named 'torch'\n",
      "Skipped loading modules with pytorch-geometric dependency, missing a dependency. No module named 'torch'\n",
      "Skipped loading modules with pytorch-lightning dependency, missing a dependency. No module named 'torch'\n",
      "Skipped loading some Jax models, missing a dependency. No module named 'jax'\n"
     ]
    }
   ],
   "source": [
    "import numpy as np\n",
    "import pandas as pd\n",
    "\n",
    "import deepchem as dc\n",
    "\n",
    "import sklearn\n",
    "from sklearn.svm import SVC\n",
    "from sklearn.ensemble import RandomForestClassifier\n",
    "from mlxtend.classifier import StackingClassifier\n",
    "\n",
    "from sklearn.model_selection import GridSearchCV\n",
    "from sklearn.model_selection import KFold\n",
    "\n",
    "from sklearn import metrics\n",
    "from sklearn.metrics import make_scorer\n",
    "from sklearn.metrics import confusion_matrix\n",
    "from sklearn.metrics import roc_auc_score\n",
    "from sklearn.metrics import accuracy_score\n",
    "from sklearn.metrics import precision_score\n",
    "from sklearn.metrics import recall_score\n",
    "\n",
    "from functools import reduce\n",
    "\n",
    "import warnings\n",
    "warnings.filterwarnings('ignore')\n",
    "\n",
    "import pickle\n",
    "from sklearn.feature_selection import VarianceThreshold\n",
    "import matplotlib.pyplot as plt\n",
    "import seaborn as sns"
   ]
  },
  {
   "cell_type": "markdown",
   "id": "1065acdf",
   "metadata": {},
   "source": [
    "# 导入模型"
   ]
  },
  {
   "cell_type": "code",
   "execution_count": 2,
   "id": "618e7af9",
   "metadata": {},
   "outputs": [],
   "source": [
    "with open('rf_maccs_model.pkl', 'rb') as f:\n",
    "    rf_maccs_model = pickle.load(f)"
   ]
  },
  {
   "cell_type": "code",
   "execution_count": 3,
   "id": "cfd69736",
   "metadata": {},
   "outputs": [],
   "source": [
    "with open('rf_rdkit_model.pkl', 'rb') as f:\n",
    "    rf_rdkit_model = pickle.load(f)"
   ]
  },
  {
   "cell_type": "code",
   "execution_count": 4,
   "id": "0c85d6d4",
   "metadata": {},
   "outputs": [],
   "source": [
    "with open('svm_maccs_model.pkl', 'rb') as f:\n",
    "    svm_maccs_model = pickle.load(f)"
   ]
  },
  {
   "cell_type": "code",
   "execution_count": 5,
   "id": "d4d1acec",
   "metadata": {},
   "outputs": [],
   "source": [
    "with open('xgb_maccs_model.pkl', 'rb') as f:\n",
    "    xgb_maccs_model = pickle.load(f)"
   ]
  },
  {
   "cell_type": "markdown",
   "id": "d5ae00ae",
   "metadata": {},
   "source": [
    "# 导入数据"
   ]
  },
  {
   "cell_type": "code",
   "execution_count": 6,
   "id": "7ac62aad",
   "metadata": {},
   "outputs": [],
   "source": [
    "data = pd.read_csv('../data/GABAA.csv',encoding='gb18030')\n",
    "plant = pd.read_csv('../data/AD_results(0.6).csv',encoding='gb18030')"
   ]
  },
  {
   "cell_type": "code",
   "execution_count": 8,
   "id": "6e58593b",
   "metadata": {},
   "outputs": [
    {
     "data": {
      "text/html": [
       "<div>\n",
       "<style scoped>\n",
       "    .dataframe tbody tr th:only-of-type {\n",
       "        vertical-align: middle;\n",
       "    }\n",
       "\n",
       "    .dataframe tbody tr th {\n",
       "        vertical-align: top;\n",
       "    }\n",
       "\n",
       "    .dataframe thead th {\n",
       "        text-align: right;\n",
       "    }\n",
       "</style>\n",
       "<table border=\"1\" class=\"dataframe\">\n",
       "  <thead>\n",
       "    <tr style=\"text-align: right;\">\n",
       "      <th></th>\n",
       "      <th>SMILES</th>\n",
       "      <th>InDomain</th>\n",
       "      <th>Volatile_compounds</th>\n",
       "      <th>Analysis_method</th>\n",
       "      <th>Cite</th>\n",
       "      <th>smiles</th>\n",
       "      <th>final_pred</th>\n",
       "    </tr>\n",
       "  </thead>\n",
       "  <tbody>\n",
       "    <tr>\n",
       "      <th>0</th>\n",
       "      <td>CCCCCO</td>\n",
       "      <td>True</td>\n",
       "      <td>1-Pentanol</td>\n",
       "      <td>GC-MS</td>\n",
       "      <td>Morteza-Semnani K, Saeedi M, Akbarzadeh M. Che...</td>\n",
       "      <td>CCCCCO</td>\n",
       "      <td>1</td>\n",
       "    </tr>\n",
       "    <tr>\n",
       "      <th>1</th>\n",
       "      <td>CCCCCCCCCCCCCCCC(=O)O</td>\n",
       "      <td>True</td>\n",
       "      <td>Palmitic Acid</td>\n",
       "      <td>GC-MS</td>\n",
       "      <td>Morteza-Semnani K, Saeedi M, Akbarzadeh M. Che...</td>\n",
       "      <td>CCCCCCCCCCCCCCCC(=O)O</td>\n",
       "      <td>1</td>\n",
       "    </tr>\n",
       "    <tr>\n",
       "      <th>2</th>\n",
       "      <td>CCCCCCCCCCCCCCCC(=O)OC</td>\n",
       "      <td>True</td>\n",
       "      <td>Methyl palmitate</td>\n",
       "      <td>GC-MS</td>\n",
       "      <td>Morteza-Semnani K, Saeedi M, Akbarzadeh M. Che...</td>\n",
       "      <td>CCCCCCCCCCCCCCCC(=O)OC</td>\n",
       "      <td>1</td>\n",
       "    </tr>\n",
       "    <tr>\n",
       "      <th>3</th>\n",
       "      <td>CC=CC(=O)C1=C(CCCC1(C)C)C</td>\n",
       "      <td>True</td>\n",
       "      <td>(Z)-1-(2,6,6-Trimethyl-1-cyclohexen-1-yl)-2-bu...</td>\n",
       "      <td>GC-MS</td>\n",
       "      <td>Morteza-Semnani K, Saeedi M, Akbarzadeh M. Che...</td>\n",
       "      <td>CC=CC(=O)C1=C(CCCC1(C)C)C</td>\n",
       "      <td>1</td>\n",
       "    </tr>\n",
       "    <tr>\n",
       "      <th>4</th>\n",
       "      <td>CC1(C2CCC1(C(C2)OC=O)C)C</td>\n",
       "      <td>True</td>\n",
       "      <td>Bornyl formate</td>\n",
       "      <td>GC-MS</td>\n",
       "      <td>El-Sayed Z I A. Chemical composition, antimicr...</td>\n",
       "      <td>CC1(C2CCC1(C(C2)OC=O)C)C</td>\n",
       "      <td>1</td>\n",
       "    </tr>\n",
       "    <tr>\n",
       "      <th>...</th>\n",
       "      <td>...</td>\n",
       "      <td>...</td>\n",
       "      <td>...</td>\n",
       "      <td>...</td>\n",
       "      <td>...</td>\n",
       "      <td>...</td>\n",
       "      <td>...</td>\n",
       "    </tr>\n",
       "    <tr>\n",
       "      <th>2391</th>\n",
       "      <td>CC1CCCC(=C1)C</td>\n",
       "      <td>False</td>\n",
       "      <td>1,3-Dimethylcyclohexene</td>\n",
       "      <td>GC-MS</td>\n",
       "      <td>Liang J, Shao Y, Wu H, et al. Chemical constit...</td>\n",
       "      <td>CC1CCCC(=C1)C</td>\n",
       "      <td>1</td>\n",
       "    </tr>\n",
       "    <tr>\n",
       "      <th>2392</th>\n",
       "      <td>CN1C=CC=CC1=O</td>\n",
       "      <td>False</td>\n",
       "      <td>1-Methyl-2-pyridone</td>\n",
       "      <td>GC-MS</td>\n",
       "      <td>Kim S S, Oh H J, Baik J S, et al. Chemical com...</td>\n",
       "      <td>CN1C=CC=CC1=O</td>\n",
       "      <td>0</td>\n",
       "    </tr>\n",
       "    <tr>\n",
       "      <th>2393</th>\n",
       "      <td>CC1=CCC2C1C3C2(CCC3C(C)C)C</td>\n",
       "      <td>False</td>\n",
       "      <td>alpha-Bourbonene</td>\n",
       "      <td>GC-MS</td>\n",
       "      <td>Kim S S, Oh H J, Baik J S, et al. Chemical com...</td>\n",
       "      <td>CC1=CCC2C1C3C2(CCC3C(C)C)C</td>\n",
       "      <td>1</td>\n",
       "    </tr>\n",
       "    <tr>\n",
       "      <th>2394</th>\n",
       "      <td>CC1=C2CC(C(CC2OC1=O)(C)C=C)C(=C)C(=O)OC</td>\n",
       "      <td>False</td>\n",
       "      <td>Deoxysericealactone</td>\n",
       "      <td>GC-MS</td>\n",
       "      <td>Chou S T, Lai C C, Lai C P, et al. Chemical co...</td>\n",
       "      <td>CC1=C2CC(C(CC2OC1=O)(C)C=C)C(=C)C(=O)OC</td>\n",
       "      <td>1</td>\n",
       "    </tr>\n",
       "    <tr>\n",
       "      <th>2395</th>\n",
       "      <td>CC1=CCCC(C1=CCC(=O)C)(C)C</td>\n",
       "      <td>False</td>\n",
       "      <td>2-Butanone, 4-(2,6,6-trimethyl-2-cyclohexen-1-...</td>\n",
       "      <td>GC-MS</td>\n",
       "      <td>Chou S T, Lai C C, Lai C P, et al. Chemical co...</td>\n",
       "      <td>CC1=CCCC(C1=CCC(=O)C)(C)C</td>\n",
       "      <td>1</td>\n",
       "    </tr>\n",
       "  </tbody>\n",
       "</table>\n",
       "<p>2396 rows × 7 columns</p>\n",
       "</div>"
      ],
      "text/plain": [
       "                                       SMILES  InDomain   \n",
       "0                                      CCCCCO      True  \\\n",
       "1                       CCCCCCCCCCCCCCCC(=O)O      True   \n",
       "2                      CCCCCCCCCCCCCCCC(=O)OC      True   \n",
       "3                   CC=CC(=O)C1=C(CCCC1(C)C)C      True   \n",
       "4                    CC1(C2CCC1(C(C2)OC=O)C)C      True   \n",
       "...                                       ...       ...   \n",
       "2391                            CC1CCCC(=C1)C     False   \n",
       "2392                            CN1C=CC=CC1=O     False   \n",
       "2393               CC1=CCC2C1C3C2(CCC3C(C)C)C     False   \n",
       "2394  CC1=C2CC(C(CC2OC1=O)(C)C=C)C(=C)C(=O)OC     False   \n",
       "2395                CC1=CCCC(C1=CCC(=O)C)(C)C     False   \n",
       "\n",
       "                                     Volatile_compounds Analysis_method   \n",
       "0                                            1-Pentanol           GC-MS  \\\n",
       "1                                         Palmitic Acid           GC-MS   \n",
       "2                                      Methyl palmitate           GC-MS   \n",
       "3     (Z)-1-(2,6,6-Trimethyl-1-cyclohexen-1-yl)-2-bu...           GC-MS   \n",
       "4                                        Bornyl formate           GC-MS   \n",
       "...                                                 ...             ...   \n",
       "2391                           1,3-Dimethylcyclohexene            GC-MS   \n",
       "2392                                1-Methyl-2-pyridone           GC-MS   \n",
       "2393                                   alpha-Bourbonene           GC-MS   \n",
       "2394                               Deoxysericealactone            GC-MS   \n",
       "2395  2-Butanone, 4-(2,6,6-trimethyl-2-cyclohexen-1-...           GC-MS   \n",
       "\n",
       "                                                   Cite   \n",
       "0     Morteza-Semnani K, Saeedi M, Akbarzadeh M. Che...  \\\n",
       "1     Morteza-Semnani K, Saeedi M, Akbarzadeh M. Che...   \n",
       "2     Morteza-Semnani K, Saeedi M, Akbarzadeh M. Che...   \n",
       "3     Morteza-Semnani K, Saeedi M, Akbarzadeh M. Che...   \n",
       "4     El-Sayed Z I A. Chemical composition, antimicr...   \n",
       "...                                                 ...   \n",
       "2391  Liang J, Shao Y, Wu H, et al. Chemical constit...   \n",
       "2392  Kim S S, Oh H J, Baik J S, et al. Chemical com...   \n",
       "2393  Kim S S, Oh H J, Baik J S, et al. Chemical com...   \n",
       "2394  Chou S T, Lai C C, Lai C P, et al. Chemical co...   \n",
       "2395  Chou S T, Lai C C, Lai C P, et al. Chemical co...   \n",
       "\n",
       "                                       smiles  final_pred  \n",
       "0                                      CCCCCO           1  \n",
       "1                       CCCCCCCCCCCCCCCC(=O)O           1  \n",
       "2                      CCCCCCCCCCCCCCCC(=O)OC           1  \n",
       "3                   CC=CC(=O)C1=C(CCCC1(C)C)C           1  \n",
       "4                    CC1(C2CCC1(C(C2)OC=O)C)C           1  \n",
       "...                                       ...         ...  \n",
       "2391                            CC1CCCC(=C1)C           1  \n",
       "2392                            CN1C=CC=CC1=O           0  \n",
       "2393               CC1=CCC2C1C3C2(CCC3C(C)C)C           1  \n",
       "2394  CC1=C2CC(C(CC2OC1=O)(C)C=C)C(=C)C(=O)OC           1  \n",
       "2395                CC1=CCCC(C1=CCC(=O)C)(C)C           1  \n",
       "\n",
       "[2396 rows x 7 columns]"
      ]
     },
     "execution_count": 8,
     "metadata": {},
     "output_type": "execute_result"
    }
   ],
   "source": [
    "plant"
   ]
  },
  {
   "cell_type": "markdown",
   "id": "e48271c2",
   "metadata": {},
   "source": [
    "# 特征提取"
   ]
  },
  {
   "cell_type": "code",
   "execution_count": 7,
   "id": "ec792a76",
   "metadata": {},
   "outputs": [],
   "source": [
    "def featurizer(featname):\n",
    "    \n",
    "    if featname ==\"MACCS\":\n",
    "        featurizer = dc.feat.MACCSKeysFingerprint()\n",
    "        features = featurizer.featurize(data['smiles'])\n",
    "        # 初始化VarianceThreshold对象\n",
    "        vt = VarianceThreshold(threshold = (.98 * (1 - .98)))\n",
    "\n",
    "        # 进行特征选择\n",
    "        X_new = vt.fit_transform(features)\n",
    "        dataset = dc.data.NumpyDataset(X_new,data['class'])\n",
    "        splitter = dc.splits.RandomSplitter()\n",
    "        train_dataset, test_dataset = splitter.train_test_split(dataset=dataset,frac_train=0.8,seed=100)\n",
    "        \n",
    "        data_train = train_dataset.X\n",
    "        data_test = test_dataset.X\n",
    "        label_train = train_dataset.y\n",
    "        label_test = test_dataset.y\n",
    "    \n",
    "    elif featname ==\"RDkit\":\n",
    "        featurizer = dc.feat.RDKitDescriptors()\n",
    "        features = featurizer.featurize(data['smiles'])\n",
    "        # 初始化VarianceThreshold对象\n",
    "        vt = VarianceThreshold(threshold = (.98 * (1 - .98)))\n",
    "\n",
    "        # 进行特征选择\n",
    "        X_new = vt.fit_transform(features)\n",
    "        dataset = dc.data.NumpyDataset(X_new,data['class'])\n",
    "        splitter = dc.splits.RandomSplitter()\n",
    "        train_dataset, test_dataset = splitter.train_test_split(dataset=dataset,frac_train=0.8,seed=100)\n",
    "        \n",
    "        data_train = train_dataset.X\n",
    "        data_test = test_dataset.X\n",
    "        label_train = train_dataset.y\n",
    "        label_test = test_dataset.y\n",
    "     \n",
    "    else:\n",
    "        pass\n",
    "    return  data_train, data_test, label_train, label_test"
   ]
  },
  {
   "cell_type": "markdown",
   "id": "ab077ffd",
   "metadata": {},
   "source": [
    "# 定义模型"
   ]
  },
  {
   "cell_type": "code",
   "execution_count": 8,
   "id": "abe02743",
   "metadata": {},
   "outputs": [],
   "source": [
    "def SelectModel(modelname):\n",
    "\n",
    "    if modelname == \"rf_maccs\":\n",
    "        model = rf_maccs_model\n",
    "\n",
    "    elif modelname == \"rf_rdkit\":\n",
    "        model = rf_rdkit_model\n",
    "        \n",
    "    elif modelname == \"svm_maccs\":\n",
    "        model = svm_maccs_model\n",
    "\n",
    "    elif modelname == \"xgb_maccs\":\n",
    "        model = xgb_maccs_model\n",
    "\n",
    "    else:\n",
    "        pass\n",
    "    \n",
    "    return model"
   ]
  },
  {
   "cell_type": "code",
   "execution_count": 9,
   "id": "c28c8094",
   "metadata": {},
   "outputs": [],
   "source": [
    "def get_oof(clf,n_folds,X_train,y_train,X_test):\n",
    "    ntrain = X_train.shape[0]\n",
    "    ntest =  X_test.shape[0]\n",
    "    classnum = len(np.unique(y_train))\n",
    "    kf = KFold(n_splits=n_folds,random_state=42,shuffle=True)\n",
    "    oof_train = np.zeros((ntrain,classnum))\n",
    "    oof_test = np.zeros((ntest,classnum))\n",
    "\n",
    "    for i,(train_index, test_index) in enumerate(kf.split(X_train)):\n",
    "        kf_X_train = X_train[train_index] # 数据\n",
    "        kf_y_train = y_train[train_index] # 标签\n",
    "\n",
    "        kf_X_test = X_train[test_index]  # k-fold的验证集\n",
    "\n",
    "        #clf.fit(kf_X_train, kf_y_train)\n",
    "        oof_train[test_index] = clf.predict_proba(kf_X_test)\n",
    "\n",
    "        oof_test += clf.predict_proba(X_test)\n",
    "    oof_test = oof_test/float(n_folds)\n",
    "    return oof_train, oof_test"
   ]
  },
  {
   "cell_type": "code",
   "execution_count": 10,
   "id": "5bb86534",
   "metadata": {},
   "outputs": [],
   "source": [
    "# 使用stacking方法的时候\n",
    "# 第一级，重构特征当做第二级的训练集\n",
    "modelist = ['rf_maccs','rf_rdkit','svm_maccs','xgb_maccs']\n",
    "newfeature_list = []\n",
    "newtestdata_list = []\n",
    "\n",
    "for modelname in modelist:\n",
    "    clf_first = SelectModel(modelname)\n",
    "    \n",
    "    if modelname == 'rf_maccs':\n",
    "        data_train, data_test, label_train, label_test = featurizer('MACCS')\n",
    "    elif modelname == 'rf_rdkit':\n",
    "        data_train, data_test, label_train, label_test = featurizer('RDkit')\n",
    "    elif modelname == 'svm_maccs':\n",
    "        data_train, data_test, label_train, label_test = featurizer('MACCS')\n",
    "    elif modelname == 'xgb_maccs':\n",
    "        data_train, data_test, label_train, label_test = featurizer('MACCS')\n",
    "    else:\n",
    "        pass\n",
    "        \n",
    "    \n",
    "    oof_train_ ,oof_test_= get_oof(clf=clf_first,n_folds=5,X_train=data_train,y_train=label_train,X_test=data_test)\n",
    "    newfeature_list.append(oof_train_)\n",
    "    newtestdata_list.append(oof_test_)\n"
   ]
  },
  {
   "cell_type": "code",
   "execution_count": 11,
   "id": "116846c7",
   "metadata": {},
   "outputs": [
    {
     "data": {
      "text/html": [
       "<style>#sk-container-id-1 {color: black;background-color: white;}#sk-container-id-1 pre{padding: 0;}#sk-container-id-1 div.sk-toggleable {background-color: white;}#sk-container-id-1 label.sk-toggleable__label {cursor: pointer;display: block;width: 100%;margin-bottom: 0;padding: 0.3em;box-sizing: border-box;text-align: center;}#sk-container-id-1 label.sk-toggleable__label-arrow:before {content: \"▸\";float: left;margin-right: 0.25em;color: #696969;}#sk-container-id-1 label.sk-toggleable__label-arrow:hover:before {color: black;}#sk-container-id-1 div.sk-estimator:hover label.sk-toggleable__label-arrow:before {color: black;}#sk-container-id-1 div.sk-toggleable__content {max-height: 0;max-width: 0;overflow: hidden;text-align: left;background-color: #f0f8ff;}#sk-container-id-1 div.sk-toggleable__content pre {margin: 0.2em;color: black;border-radius: 0.25em;background-color: #f0f8ff;}#sk-container-id-1 input.sk-toggleable__control:checked~div.sk-toggleable__content {max-height: 200px;max-width: 100%;overflow: auto;}#sk-container-id-1 input.sk-toggleable__control:checked~label.sk-toggleable__label-arrow:before {content: \"▾\";}#sk-container-id-1 div.sk-estimator input.sk-toggleable__control:checked~label.sk-toggleable__label {background-color: #d4ebff;}#sk-container-id-1 div.sk-label input.sk-toggleable__control:checked~label.sk-toggleable__label {background-color: #d4ebff;}#sk-container-id-1 input.sk-hidden--visually {border: 0;clip: rect(1px 1px 1px 1px);clip: rect(1px, 1px, 1px, 1px);height: 1px;margin: -1px;overflow: hidden;padding: 0;position: absolute;width: 1px;}#sk-container-id-1 div.sk-estimator {font-family: monospace;background-color: #f0f8ff;border: 1px dotted black;border-radius: 0.25em;box-sizing: border-box;margin-bottom: 0.5em;}#sk-container-id-1 div.sk-estimator:hover {background-color: #d4ebff;}#sk-container-id-1 div.sk-parallel-item::after {content: \"\";width: 100%;border-bottom: 1px solid gray;flex-grow: 1;}#sk-container-id-1 div.sk-label:hover label.sk-toggleable__label {background-color: #d4ebff;}#sk-container-id-1 div.sk-serial::before {content: \"\";position: absolute;border-left: 1px solid gray;box-sizing: border-box;top: 0;bottom: 0;left: 50%;z-index: 0;}#sk-container-id-1 div.sk-serial {display: flex;flex-direction: column;align-items: center;background-color: white;padding-right: 0.2em;padding-left: 0.2em;position: relative;}#sk-container-id-1 div.sk-item {position: relative;z-index: 1;}#sk-container-id-1 div.sk-parallel {display: flex;align-items: stretch;justify-content: center;background-color: white;position: relative;}#sk-container-id-1 div.sk-item::before, #sk-container-id-1 div.sk-parallel-item::before {content: \"\";position: absolute;border-left: 1px solid gray;box-sizing: border-box;top: 0;bottom: 0;left: 50%;z-index: -1;}#sk-container-id-1 div.sk-parallel-item {display: flex;flex-direction: column;z-index: 1;position: relative;background-color: white;}#sk-container-id-1 div.sk-parallel-item:first-child::after {align-self: flex-end;width: 50%;}#sk-container-id-1 div.sk-parallel-item:last-child::after {align-self: flex-start;width: 50%;}#sk-container-id-1 div.sk-parallel-item:only-child::after {width: 0;}#sk-container-id-1 div.sk-dashed-wrapped {border: 1px dashed gray;margin: 0 0.4em 0.5em 0.4em;box-sizing: border-box;padding-bottom: 0.4em;background-color: white;}#sk-container-id-1 div.sk-label label {font-family: monospace;font-weight: bold;display: inline-block;line-height: 1.2em;}#sk-container-id-1 div.sk-label-container {text-align: center;}#sk-container-id-1 div.sk-container {/* jupyter's `normalize.less` sets `[hidden] { display: none; }` but bootstrap.min.css set `[hidden] { display: none !important; }` so we also need the `!important` here to be able to override the default hidden behavior on the sphinx rendered scikit-learn.org. See: https://github.com/scikit-learn/scikit-learn/issues/21755 */display: inline-block !important;position: relative;}#sk-container-id-1 div.sk-text-repr-fallback {display: none;}</style><div id=\"sk-container-id-1\" class=\"sk-top-container\"><div class=\"sk-text-repr-fallback\"><pre>RandomForestClassifier()</pre><b>In a Jupyter environment, please rerun this cell to show the HTML representation or trust the notebook. <br />On GitHub, the HTML representation is unable to render, please try loading this page with nbviewer.org.</b></div><div class=\"sk-container\" hidden><div class=\"sk-item\"><div class=\"sk-estimator sk-toggleable\"><input class=\"sk-toggleable__control sk-hidden--visually\" id=\"sk-estimator-id-1\" type=\"checkbox\" checked><label for=\"sk-estimator-id-1\" class=\"sk-toggleable__label sk-toggleable__label-arrow\">RandomForestClassifier</label><div class=\"sk-toggleable__content\"><pre>RandomForestClassifier()</pre></div></div></div></div></div>"
      ],
      "text/plain": [
       "RandomForestClassifier()"
      ]
     },
     "execution_count": 11,
     "metadata": {},
     "output_type": "execute_result"
    }
   ],
   "source": [
    "# 特征组合\n",
    "newfeature = reduce(lambda x,y:np.concatenate((x,y),axis=1),newfeature_list)    \n",
    "newtestdata = reduce(lambda x,y:np.concatenate((x,y),axis=1),newtestdata_list)\n",
    "\n",
    "# 第二级，使用上一级输出的当做训练集\n",
    "clf_second1 = RandomForestClassifier()\n",
    "clf_second1.fit(newfeature, label_train)"
   ]
  },
  {
   "cell_type": "code",
   "execution_count": null,
   "id": "324422a8",
   "metadata": {},
   "outputs": [],
   "source": []
  },
  {
   "cell_type": "code",
   "execution_count": null,
   "id": "66324a14",
   "metadata": {},
   "outputs": [],
   "source": []
  },
  {
   "cell_type": "code",
   "execution_count": null,
   "id": "53a0e9d8",
   "metadata": {},
   "outputs": [],
   "source": []
  },
  {
   "cell_type": "code",
   "execution_count": null,
   "id": "a5f9b85c",
   "metadata": {},
   "outputs": [],
   "source": []
  },
  {
   "cell_type": "markdown",
   "id": "e2873eb8",
   "metadata": {},
   "source": [
    "# 定义特征"
   ]
  },
  {
   "cell_type": "code",
   "execution_count": 9,
   "id": "a77bd1a6",
   "metadata": {},
   "outputs": [],
   "source": [
    "featurizer_maccs = dc.feat.MACCSKeysFingerprint()\n",
    "featurizer_rdkit = dc.feat.RDKitDescriptors()"
   ]
  },
  {
   "cell_type": "code",
   "execution_count": 10,
   "id": "d7390e6a",
   "metadata": {},
   "outputs": [],
   "source": [
    "data_features_maccs = featurizer_maccs.featurize(data['smiles'])\n",
    "data_features_rdkit = featurizer_rdkit.featurize(data['smiles'])"
   ]
  },
  {
   "cell_type": "code",
   "execution_count": 10,
   "id": "df00a566",
   "metadata": {},
   "outputs": [],
   "source": [
    "plant_features_maccs = featurizer_maccs.featurize(plant['smiles'])\n",
    "plant_features_rdkit = featurizer_rdkit.featurize(plant['smiles'])"
   ]
  },
  {
   "cell_type": "markdown",
   "id": "d1ca4c80",
   "metadata": {},
   "source": [
    "# 获得方差过滤后的特征maccs"
   ]
  },
  {
   "cell_type": "code",
   "execution_count": 11,
   "id": "744b625b",
   "metadata": {},
   "outputs": [],
   "source": [
    "# 初始化VarianceThreshold对象\n",
    "vt_maccs = VarianceThreshold(threshold = (.98 * (1 - .98)))\n",
    "\n",
    "# 进行特征选择\n",
    "data_maccs_new = vt_maccs.fit_transform(data_features_maccs)"
   ]
  },
  {
   "cell_type": "code",
   "execution_count": 12,
   "id": "a178470d",
   "metadata": {},
   "outputs": [],
   "source": [
    "data_maccs_mask = vt_maccs.get_support(indices=True)"
   ]
  },
  {
   "cell_type": "code",
   "execution_count": 13,
   "id": "27a5e979",
   "metadata": {},
   "outputs": [],
   "source": [
    "plant_maccs_features = plant_features_maccs[:, data_maccs_mask]"
   ]
  },
  {
   "cell_type": "code",
   "execution_count": 14,
   "id": "5bb8e45b",
   "metadata": {
    "scrolled": true
   },
   "outputs": [
    {
     "data": {
      "text/plain": [
       "(488, 129)"
      ]
     },
     "execution_count": 14,
     "metadata": {},
     "output_type": "execute_result"
    }
   ],
   "source": [
    "data_maccs_new.shape"
   ]
  },
  {
   "cell_type": "code",
   "execution_count": 15,
   "id": "88e45168",
   "metadata": {
    "scrolled": true
   },
   "outputs": [
    {
     "data": {
      "text/plain": [
       "(2396, 129)"
      ]
     },
     "execution_count": 15,
     "metadata": {},
     "output_type": "execute_result"
    }
   ],
   "source": [
    "plant_maccs_features.shape"
   ]
  },
  {
   "cell_type": "markdown",
   "id": "81e05fb3",
   "metadata": {},
   "source": [
    "# 获得方差过滤后的特征rdkit"
   ]
  },
  {
   "cell_type": "code",
   "execution_count": 16,
   "id": "6d1c28bb",
   "metadata": {},
   "outputs": [],
   "source": [
    "# 初始化VarianceThreshold对象\n",
    "vt_rdkit = VarianceThreshold(threshold = (.98 * (1 - .98)))\n",
    "\n",
    "# 进行特征选择\n",
    "data_rdkit_new = vt_rdkit.fit_transform(data_features_rdkit)"
   ]
  },
  {
   "cell_type": "code",
   "execution_count": 17,
   "id": "bd8152bf",
   "metadata": {},
   "outputs": [],
   "source": [
    "data_rdkit_mask = vt_rdkit.get_support(indices=True)"
   ]
  },
  {
   "cell_type": "code",
   "execution_count": 18,
   "id": "0f1f228a",
   "metadata": {},
   "outputs": [],
   "source": [
    "plant_rdkit_features = plant_features_rdkit[:, data_rdkit_mask]"
   ]
  },
  {
   "cell_type": "code",
   "execution_count": 19,
   "id": "35cb0179",
   "metadata": {},
   "outputs": [
    {
     "data": {
      "text/plain": [
       "(488, 164)"
      ]
     },
     "execution_count": 19,
     "metadata": {},
     "output_type": "execute_result"
    }
   ],
   "source": [
    "data_rdkit_new.shape"
   ]
  },
  {
   "cell_type": "code",
   "execution_count": 20,
   "id": "816a2eca",
   "metadata": {},
   "outputs": [
    {
     "data": {
      "text/plain": [
       "(2396, 164)"
      ]
     },
     "execution_count": 20,
     "metadata": {},
     "output_type": "execute_result"
    }
   ],
   "source": [
    "plant_rdkit_features.shape"
   ]
  },
  {
   "cell_type": "markdown",
   "id": "a96896a1",
   "metadata": {},
   "source": [
    "# iPlant"
   ]
  },
  {
   "cell_type": "code",
   "execution_count": 21,
   "id": "0c229f43",
   "metadata": {},
   "outputs": [],
   "source": [
    "# 对 MACCS 特征进行预测\n",
    "pred_rf_maccs = rf_maccs_model.predict(plant_maccs_features)\n",
    "pred_rf_rdkit = rf_rdkit_model.predict(plant_rdkit_features)\n",
    "pred_svm_maccs = svm_maccs_model.predict(plant_maccs_features)\n",
    "pred_xgb_maccs = xgb_maccs_model.predict(plant_maccs_features)"
   ]
  },
  {
   "cell_type": "code",
   "execution_count": 22,
   "id": "347ab17f",
   "metadata": {},
   "outputs": [],
   "source": [
    "# 进行投票\n",
    "pred_count = [pred_rf_maccs, pred_rf_rdkit, pred_svm_maccs, pred_xgb_maccs]\n",
    "num_ones = sum(pred_count)  # 统计预测结果为1的个数"
   ]
  },
  {
   "cell_type": "code",
   "execution_count": 51,
   "id": "7d2f431e",
   "metadata": {},
   "outputs": [],
   "source": [
    "final_prediction = [1 if num == 4 else 0 for num in num_ones]"
   ]
  },
  {
   "cell_type": "code",
   "execution_count": 53,
   "id": "ec7c424b",
   "metadata": {},
   "outputs": [
    {
     "data": {
      "text/plain": [
       "list"
      ]
     },
     "execution_count": 53,
     "metadata": {},
     "output_type": "execute_result"
    }
   ],
   "source": [
    "final_prediction"
   ]
  },
  {
   "cell_type": "code",
   "execution_count": 56,
   "id": "25eea0a4",
   "metadata": {},
   "outputs": [],
   "source": [
    "# 创建 DataFrame\n",
    "df = pd.DataFrame({\n",
    "    'name':plant['Volatile_compounds'],\n",
    "    'smiles':plant['smiles'],\n",
    "    'final_pred':final_prediction\n",
    "})"
   ]
  },
  {
   "cell_type": "code",
   "execution_count": 63,
   "id": "70874aaf",
   "metadata": {
    "scrolled": true
   },
   "outputs": [
    {
     "data": {
      "text/plain": [
       "0      1\n",
       "1      1\n",
       "2      1\n",
       "3      1\n",
       "4      1\n",
       "      ..\n",
       "456    0\n",
       "457    0\n",
       "458    1\n",
       "459    1\n",
       "460    1\n",
       "Name: final_pred, Length: 461, dtype: int64"
      ]
     },
     "execution_count": 63,
     "metadata": {},
     "output_type": "execute_result"
    }
   ],
   "source": []
  },
  {
   "cell_type": "code",
   "execution_count": 64,
   "id": "ccf65c21",
   "metadata": {},
   "outputs": [
    {
     "name": "stdout",
     "output_type": "stream",
     "text": [
      "Number of 1s: 418\n",
      "Number of 0s: 43\n"
     ]
    }
   ],
   "source": [
    "# 假设您的DataFrame为df\n",
    "final_pred_counts = df['final_pred'][:461].value_counts()\n",
    "\n",
    "# 提取1和0的计数\n",
    "num_ones = final_pred_counts[1]\n",
    "num_zeros = final_pred_counts[0]\n",
    "\n",
    "print(\"Number of 1s:\", num_ones)\n",
    "print(\"Number of 0s:\", num_zeros)"
   ]
  },
  {
   "cell_type": "code",
   "execution_count": 58,
   "id": "40ac1f05",
   "metadata": {},
   "outputs": [],
   "source": [
    "df.to_csv('pred_result_AD(0.7).csv')"
   ]
  },
  {
   "cell_type": "code",
   "execution_count": null,
   "id": "c676ebe9",
   "metadata": {},
   "outputs": [],
   "source": []
  },
  {
   "cell_type": "code",
   "execution_count": 1,
   "id": "2425f9e7",
   "metadata": {},
   "outputs": [
    {
     "name": "stderr",
     "output_type": "stream",
     "text": [
      "Skipped loading some Tensorflow models, missing a dependency. No module named 'tensorflow'\n",
      "Skipped loading some PyTorch models, missing a dependency. No module named 'torch'\n",
      "Skipped loading modules with pytorch-geometric dependency, missing a dependency. No module named 'torch'\n",
      "Skipped loading modules with pytorch-lightning dependency, missing a dependency. No module named 'torch'\n",
      "Skipped loading some Jax models, missing a dependency. No module named 'jax'\n"
     ]
    }
   ],
   "source": [
    "import numpy as np\n",
    "import pandas as pd\n",
    "\n",
    "import deepchem as dc\n",
    "\n",
    "import sklearn\n",
    "from sklearn.svm import SVC\n",
    "from sklearn.ensemble import RandomForestClassifier\n",
    "from mlxtend.classifier import StackingClassifier\n",
    "\n",
    "from sklearn.model_selection import GridSearchCV\n",
    "from sklearn.model_selection import KFold\n",
    "\n",
    "from sklearn import metrics\n",
    "from sklearn.metrics import make_scorer\n",
    "from sklearn.metrics import confusion_matrix\n",
    "from sklearn.metrics import roc_auc_score\n",
    "from sklearn.metrics import accuracy_score\n",
    "from sklearn.metrics import precision_score\n",
    "from sklearn.metrics import recall_score\n",
    "\n",
    "from functools import reduce\n",
    "\n",
    "import warnings\n",
    "warnings.filterwarnings('ignore')\n",
    "\n",
    "import pickle\n",
    "from sklearn.feature_selection import VarianceThreshold\n",
    "import matplotlib.pyplot as plt\n",
    "import seaborn as sns"
   ]
  },
  {
   "cell_type": "markdown",
   "id": "c7a18e87",
   "metadata": {},
   "source": [
    "# 导入模型"
   ]
  },
  {
   "cell_type": "code",
   "execution_count": 2,
   "id": "618e7af9",
   "metadata": {},
   "outputs": [],
   "source": [
    "with open('rf_maccs_model.pkl', 'rb') as f:\n",
    "    rf_maccs_model = pickle.load(f)"
   ]
  },
  {
   "cell_type": "code",
   "execution_count": 3,
   "id": "60efbe0a",
   "metadata": {},
   "outputs": [],
   "source": [
    "with open('rf_rdkit_model.pkl', 'rb') as f:\n",
    "    rf_rdkit_model = pickle.load(f)"
   ]
  },
  {
   "cell_type": "code",
   "execution_count": 4,
   "id": "0c85d6d4",
   "metadata": {},
   "outputs": [],
   "source": [
    "with open('svm_maccs_model.pkl', 'rb') as f:\n",
    "    svm_maccs_model = pickle.load(f)"
   ]
  },
  {
   "cell_type": "code",
   "execution_count": 5,
   "id": "d4d1acec",
   "metadata": {},
   "outputs": [],
   "source": [
    "with open('xgb_maccs_model.pkl', 'rb') as f:\n",
    "    xgb_maccs_model = pickle.load(f)"
   ]
  },
  {
   "cell_type": "markdown",
   "id": "d5ae00ae",
   "metadata": {},
   "source": [
    "# 导入数据"
   ]
  },
  {
   "cell_type": "code",
   "execution_count": 6,
   "id": "069677be",
   "metadata": {},
   "outputs": [],
   "source": [
    "data = pd.read_csv('../data/GABAA.csv',encoding='gb18030')\n",
    "plant = pd.read_csv('../data/AD_results(0.6).csv',encoding='gb18030')"
   ]
  },
  {
   "cell_type": "code",
   "execution_count": 7,
   "id": "7e12395b",
   "metadata": {},
   "outputs": [
    {
     "data": {
      "text/html": [
       "<div>\n",
       "<style scoped>\n",
       "    .dataframe tbody tr th:only-of-type {\n",
       "        vertical-align: middle;\n",
       "    }\n",
       "\n",
       "    .dataframe tbody tr th {\n",
       "        vertical-align: top;\n",
       "    }\n",
       "\n",
       "    .dataframe thead th {\n",
       "        text-align: right;\n",
       "    }\n",
       "</style>\n",
       "<table border=\"1\" class=\"dataframe\">\n",
       "  <thead>\n",
       "    <tr style=\"text-align: right;\">\n",
       "      <th></th>\n",
       "      <th>name</th>\n",
       "      <th>origin</th>\n",
       "      <th>label</th>\n",
       "      <th>smiles</th>\n",
       "      <th>class</th>\n",
       "    </tr>\n",
       "  </thead>\n",
       "  <tbody>\n",
       "    <tr>\n",
       "      <th>0</th>\n",
       "      <td>gamma-Aminobutyric acid</td>\n",
       "      <td>10.3390/molecules24152678</td>\n",
       "      <td>GABAA agonist</td>\n",
       "      <td>C(CC(=O)O)CN</td>\n",
       "      <td>1</td>\n",
       "    </tr>\n",
       "    <tr>\n",
       "      <th>1</th>\n",
       "      <td>Menthol</td>\n",
       "      <td>10.1111/bph.12602</td>\n",
       "      <td>GABAA agonist</td>\n",
       "      <td>CC1CCC(C(C1)O)C(C)C</td>\n",
       "      <td>1</td>\n",
       "    </tr>\n",
       "    <tr>\n",
       "      <th>2</th>\n",
       "      <td>phenobarbital</td>\n",
       "      <td>10.1002/ana.24967</td>\n",
       "      <td>GABAA agonist</td>\n",
       "      <td>CCC1(C(=O)NC(=O)NC1=O)C2=CC=CC=C2</td>\n",
       "      <td>1</td>\n",
       "    </tr>\n",
       "    <tr>\n",
       "      <th>3</th>\n",
       "      <td>isoguvacine oxide</td>\n",
       "      <td>10.1002/chir.530070608</td>\n",
       "      <td>GABAA agonist</td>\n",
       "      <td>C1CNCC2C1(O2)C(=O)O</td>\n",
       "      <td>1</td>\n",
       "    </tr>\n",
       "    <tr>\n",
       "      <th>4</th>\n",
       "      <td>Clomethiazole</td>\n",
       "      <td>10.1016/s0014-2999(02)02233-1</td>\n",
       "      <td>GABAA agonist</td>\n",
       "      <td>CC1=C(CCCl)SC=N1</td>\n",
       "      <td>1</td>\n",
       "    </tr>\n",
       "    <tr>\n",
       "      <th>...</th>\n",
       "      <td>...</td>\n",
       "      <td>...</td>\n",
       "      <td>...</td>\n",
       "      <td>...</td>\n",
       "      <td>...</td>\n",
       "    </tr>\n",
       "    <tr>\n",
       "      <th>483</th>\n",
       "      <td>chlorogenic acid</td>\n",
       "      <td>10.1021/jf0303971</td>\n",
       "      <td>GABAA inhibition</td>\n",
       "      <td>C1C(C(C(CC1(C(=O)O)O)OC(=O)C=CC2=CC(=C(C=C2)O)...</td>\n",
       "      <td>0</td>\n",
       "    </tr>\n",
       "    <tr>\n",
       "      <th>484</th>\n",
       "      <td>maltol</td>\n",
       "      <td>10.1021/jf0303971</td>\n",
       "      <td>GABAA inhibition</td>\n",
       "      <td>CC1=C(C(=O)C=CO1)O</td>\n",
       "      <td>0</td>\n",
       "    </tr>\n",
       "    <tr>\n",
       "      <th>485</th>\n",
       "      <td>Theobromine</td>\n",
       "      <td>10.1021/jf0303971</td>\n",
       "      <td>GABAA inhibition</td>\n",
       "      <td>CN1C=NC2=C1C(=O)NC(=O)N2C</td>\n",
       "      <td>0</td>\n",
       "    </tr>\n",
       "    <tr>\n",
       "      <th>486</th>\n",
       "      <td>2,3,5-trimethylpyrazine</td>\n",
       "      <td>10.1021/jf0303971</td>\n",
       "      <td>GABAA inhibition</td>\n",
       "      <td>CN1C2=C(C(=O)N(C1=O)C)NC=N2</td>\n",
       "      <td>0</td>\n",
       "    </tr>\n",
       "    <tr>\n",
       "      <th>487</th>\n",
       "      <td>benzothiazole</td>\n",
       "      <td>10.1021/jf0303971</td>\n",
       "      <td>GABAA inhibition</td>\n",
       "      <td>CC1=CN=C(C(=N1)C)C</td>\n",
       "      <td>0</td>\n",
       "    </tr>\n",
       "  </tbody>\n",
       "</table>\n",
       "<p>488 rows × 5 columns</p>\n",
       "</div>"
      ],
      "text/plain": [
       "                        name                         origin             label   \n",
       "0    gamma-Aminobutyric acid      10.3390/molecules24152678     GABAA agonist  \\\n",
       "1                    Menthol              10.1111/bph.12602     GABAA agonist   \n",
       "2              phenobarbital              10.1002/ana.24967     GABAA agonist   \n",
       "3          isoguvacine oxide         10.1002/chir.530070608     GABAA agonist   \n",
       "4              Clomethiazole  10.1016/s0014-2999(02)02233-1     GABAA agonist   \n",
       "..                       ...                            ...               ...   \n",
       "483         chlorogenic acid              10.1021/jf0303971  GABAA inhibition   \n",
       "484                   maltol              10.1021/jf0303971  GABAA inhibition   \n",
       "485              Theobromine              10.1021/jf0303971  GABAA inhibition   \n",
       "486  2,3,5-trimethylpyrazine              10.1021/jf0303971  GABAA inhibition   \n",
       "487            benzothiazole              10.1021/jf0303971  GABAA inhibition   \n",
       "\n",
       "                                                smiles  class  \n",
       "0                                         C(CC(=O)O)CN      1  \n",
       "1                                  CC1CCC(C(C1)O)C(C)C      1  \n",
       "2                    CCC1(C(=O)NC(=O)NC1=O)C2=CC=CC=C2      1  \n",
       "3                                  C1CNCC2C1(O2)C(=O)O      1  \n",
       "4                                     CC1=C(CCCl)SC=N1      1  \n",
       "..                                                 ...    ...  \n",
       "483  C1C(C(C(CC1(C(=O)O)O)OC(=O)C=CC2=CC(=C(C=C2)O)...      0  \n",
       "484                                 CC1=C(C(=O)C=CO1)O      0  \n",
       "485                          CN1C=NC2=C1C(=O)NC(=O)N2C      0  \n",
       "486                        CN1C2=C(C(=O)N(C1=O)C)NC=N2      0  \n",
       "487                                 CC1=CN=C(C(=N1)C)C      0  \n",
       "\n",
       "[488 rows x 5 columns]"
      ]
     },
     "execution_count": 7,
     "metadata": {},
     "output_type": "execute_result"
    }
   ],
   "source": [
    "data"
   ]
  },
  {
   "cell_type": "code",
   "execution_count": 8,
   "id": "6725afaf",
   "metadata": {},
   "outputs": [],
   "source": [
    "featurizer_maccs = dc.feat.MACCSKeysFingerprint()\n",
    "data_features_maccs = featurizer_maccs.featurize(data['smiles'])\n",
    "plant_features_maccs = featurizer_maccs.featurize(plant['smiles'])\n",
    "# 初始化VarianceThreshold对象\n",
    "vt_maccs = VarianceThreshold(threshold = (.98 * (1 - .98)))\n",
    "\n",
    "# 进行特征选择\n",
    "data_maccs_new = vt_maccs.fit_transform(data_features_maccs)\n",
    "data_maccs_mask = vt_maccs.get_support(indices=True)\n",
    "plant_maccs_features = plant_features_maccs[:, data_maccs_mask]\n",
    "\n",
    "dataset = dc.data.NumpyDataset(data_maccs_new,data['class'])\n",
    "\n",
    "splitter = dc.splits.RandomSplitter()\n",
    "train_dataset, test_dataset = splitter.train_test_split(dataset=dataset,frac_train=0.8)\n",
    "\n",
    "data_train = train_dataset.X\n",
    "data_test = plant_maccs_features\n",
    "label_train = train_dataset.y"
   ]
  },
  {
   "cell_type": "code",
   "execution_count": 11,
   "id": "b996c12b",
   "metadata": {},
   "outputs": [],
   "source": [
    "X_train=data_train"
   ]
  },
  {
   "cell_type": "code",
   "execution_count": 13,
   "id": "c3dc008a",
   "metadata": {},
   "outputs": [],
   "source": [
    "y_train=label_train"
   ]
  },
  {
   "cell_type": "code",
   "execution_count": 14,
   "id": "596b2fc0",
   "metadata": {},
   "outputs": [],
   "source": [
    "X_test=data_test"
   ]
  },
  {
   "cell_type": "code",
   "execution_count": 16,
   "id": "bafd3448",
   "metadata": {},
   "outputs": [],
   "source": [
    "ntrain = X_train.shape[0]\n",
    "ntest =  X_test.shape[0]\n",
    "classnum = len(np.unique(y_train))\n",
    "kf = KFold(n_splits=5,random_state=42,shuffle=True)\n",
    "oof_train = np.zeros((ntrain,classnum))\n",
    "oof_test = np.zeros((ntest,classnum))"
   ]
  },
  {
   "cell_type": "code",
   "execution_count": 17,
   "id": "e9437d13",
   "metadata": {},
   "outputs": [
    {
     "data": {
      "text/plain": [
       "390"
      ]
     },
     "execution_count": 17,
     "metadata": {},
     "output_type": "execute_result"
    }
   ],
   "source": [
    "ntrain"
   ]
  },
  {
   "cell_type": "code",
   "execution_count": 18,
   "id": "dd3bddbf",
   "metadata": {},
   "outputs": [
    {
     "data": {
      "text/plain": [
       "2396"
      ]
     },
     "execution_count": 18,
     "metadata": {},
     "output_type": "execute_result"
    }
   ],
   "source": [
    "ntest"
   ]
  },
  {
   "cell_type": "code",
   "execution_count": 23,
   "id": "4d65a9c0",
   "metadata": {},
   "outputs": [
    {
     "data": {
      "text/plain": [
       "0.0"
      ]
     },
     "execution_count": 23,
     "metadata": {},
     "output_type": "execute_result"
    }
   ],
   "source": [
    "oof_train[0][0]"
   ]
  },
  {
   "cell_type": "code",
   "execution_count": 24,
   "id": "994cb6cf",
   "metadata": {},
   "outputs": [
    {
     "data": {
      "text/plain": [
       "<generator object _BaseKFold.split at 0x0000025896F4C5F0>"
      ]
     },
     "execution_count": 24,
     "metadata": {},
     "output_type": "execute_result"
    }
   ],
   "source": [
    "kf.split(X_train)"
   ]
  },
  {
   "cell_type": "code",
   "execution_count": 26,
   "id": "cbdf8c11",
   "metadata": {},
   "outputs": [],
   "source": [
    "clf = xgb_maccs_model"
   ]
  },
  {
   "cell_type": "code",
   "execution_count": 29,
   "id": "1afca024",
   "metadata": {},
   "outputs": [
    {
     "data": {
      "text/plain": [
       "array([[0, 0, 0, ..., 1, 0, 0],\n",
       "       [0, 0, 0, ..., 1, 0, 0],\n",
       "       [0, 0, 0, ..., 1, 0, 0],\n",
       "       ...,\n",
       "       [0, 1, 0, ..., 0, 1, 0],\n",
       "       [0, 0, 0, ..., 1, 1, 0],\n",
       "       [0, 0, 0, ..., 1, 1, 0]])"
      ]
     },
     "execution_count": 29,
     "metadata": {},
     "output_type": "execute_result"
    }
   ],
   "source": [
    "X_test"
   ]
  },
  {
   "cell_type": "code",
   "execution_count": 32,
   "id": "231b1506",
   "metadata": {
    "scrolled": true
   },
   "outputs": [
    {
     "name": "stdout",
     "output_type": "stream",
     "text": [
      "[[0 0 0 ... 0 1 0]\n",
      " [0 0 0 ... 1 1 0]\n",
      " [0 0 0 ... 1 1 0]\n",
      " ...\n",
      " [0 0 0 ... 1 1 0]\n",
      " [0 1 0 ... 0 1 0]\n",
      " [0 0 0 ... 1 1 0]]\n",
      "[[0 0 0 ... 1 1 0]\n",
      " [0 0 0 ... 1 1 0]\n",
      " [0 0 0 ... 1 1 0]\n",
      " ...\n",
      " [0 0 0 ... 1 1 0]\n",
      " [0 0 0 ... 1 1 0]\n",
      " [0 0 0 ... 1 1 0]]\n",
      "[[0 0 0 ... 1 1 0]\n",
      " [0 0 0 ... 1 1 0]\n",
      " [0 0 0 ... 1 1 0]\n",
      " ...\n",
      " [0 1 0 ... 0 1 0]\n",
      " [0 0 0 ... 1 0 0]\n",
      " [1 1 0 ... 1 1 0]]\n",
      "[[0 0 0 ... 1 0 0]\n",
      " [0 0 0 ... 1 1 0]\n",
      " [0 0 0 ... 0 1 0]\n",
      " ...\n",
      " [0 0 0 ... 1 1 0]\n",
      " [0 0 0 ... 1 1 0]\n",
      " [0 0 0 ... 1 1 0]]\n",
      "[[0 0 0 ... 1 1 0]\n",
      " [0 0 0 ... 1 1 0]\n",
      " [0 0 0 ... 1 1 0]\n",
      " ...\n",
      " [0 0 0 ... 1 0 0]\n",
      " [1 0 0 ... 1 1 0]\n",
      " [0 0 0 ... 1 1 0]]\n"
     ]
    }
   ],
   "source": [
    "for i,(train_index, test_index) in enumerate(kf.split(X_train)):\n",
    "        kf_X_train = X_train[train_index] # 数据\n",
    "        kf_y_train = y_train[train_index] # 标签\n",
    "\n",
    "        kf_X_test = X_train[test_index]  # k-fold的验证集\n",
    "\n",
    "        #clf.fit(kf_X_train, kf_y_train)\n",
    "        oof_train[test_index] = clf.predict_proba(kf_X_test)\n",
    "        print(kf_X_test)\n",
    "        oof_test += clf.predict_proba(X_test)"
   ]
  },
  {
   "cell_type": "code",
   "execution_count": 39,
   "id": "fcde327e",
   "metadata": {
    "scrolled": true
   },
   "outputs": [
    {
     "data": {
      "text/plain": [
       "(78, 2)"
      ]
     },
     "execution_count": 39,
     "metadata": {},
     "output_type": "execute_result"
    }
   ],
   "source": [
    "oof_train[test_index].shape"
   ]
  },
  {
   "cell_type": "code",
   "execution_count": 34,
   "id": "637278f6",
   "metadata": {},
   "outputs": [],
   "source": [
    "oof_test = oof_test/float(5)"
   ]
  },
  {
   "cell_type": "code",
   "execution_count": 36,
   "id": "4f051b7b",
   "metadata": {},
   "outputs": [],
   "source": [
    "oof_test = oof_test/float(5)"
   ]
  },
  {
   "cell_type": "code",
   "execution_count": 37,
   "id": "c111fe13",
   "metadata": {},
   "outputs": [
    {
     "data": {
      "text/plain": [
       "array([[0.09501219, 0.90498781],\n",
       "       [0.09796995, 0.90203005],\n",
       "       [0.10022324, 0.89977676],\n",
       "       ...,\n",
       "       [0.28692394, 0.71307606],\n",
       "       [0.33634263, 0.66365737],\n",
       "       [0.11645609, 0.88354391]])"
      ]
     },
     "execution_count": 37,
     "metadata": {},
     "output_type": "execute_result"
    }
   ],
   "source": [
    "oof_test"
   ]
  },
  {
   "cell_type": "code",
   "execution_count": null,
   "id": "2358ce28",
   "metadata": {},
   "outputs": [],
   "source": [
    "oof_train[test_index] = clf.predict_proba(kf_X_test)"
   ]
  },
  {
   "cell_type": "markdown",
   "id": "fd9ea61e",
   "metadata": {},
   "source": [
    "# Feature extraction & Data splitting"
   ]
  },
  {
   "cell_type": "code",
   "execution_count": 19,
   "id": "b577fb21",
   "metadata": {},
   "outputs": [],
   "source": [
    "def featurizer(featname):\n",
    "    \n",
    "    if featname ==\"MACCS\":\n",
    "        featurizer_maccs = dc.feat.MACCSKeysFingerprint()\n",
    "        data_features_maccs = featurizer_maccs.featurize(data['smiles'])\n",
    "        plant_features_maccs = featurizer_maccs.featurize(plant['smiles'])\n",
    "        # 初始化VarianceThreshold对象\n",
    "        vt_maccs = VarianceThreshold(threshold = (.98 * (1 - .98)))\n",
    "\n",
    "        # 进行特征选择\n",
    "        data_maccs_new = vt_maccs.fit_transform(data_features_maccs)\n",
    "        data_maccs_mask = vt_maccs.get_support(indices=True)\n",
    "        plant_maccs_features = plant_features_maccs[:, data_maccs_mask]\n",
    "        \n",
    "        dataset = dc.data.NumpyDataset(data_maccs_new,data['class'])\n",
    "        \n",
    "        splitter = dc.splits.RandomSplitter()\n",
    "        train_dataset, test_dataset = splitter.train_test_split(dataset=dataset,frac_train=0.8)\n",
    "        \n",
    "        data_train = train_dataset.X\n",
    "        data_test = plant_maccs_features\n",
    "        label_train = train_dataset.y\n",
    "        \n",
    "        \n",
    "        \n",
    "    elif featname ==\"RDkit\":\n",
    "        featurizer_rdkit = dc.feat.RDKitDescriptors()\n",
    "        data_features_rdkit = featurizer_rdkit.featurize(data['smiles'])\n",
    "        plant_features_rdkit = featurizer_rdkit.featurize(plant['smiles'])\n",
    "        \n",
    "        # 初始化VarianceThreshold对象\n",
    "        vt_rdkit = VarianceThreshold(threshold = (.98 * (1 - .98)))\n",
    "\n",
    "        # 进行特征选择\n",
    "        data_rdkit_new = vt_rdkit.fit_transform(data_features_rdkit)\n",
    "        data_rdkit_mask = vt_rdkit.get_support(indices=True)\n",
    "        plant_rdkit_features = plant_features_rdkit[:, data_rdkit_mask]\n",
    "        \n",
    "        dataset = dc.data.NumpyDataset(data_rdkit_new,data['class'])\n",
    "        \n",
    "        splitter = dc.splits.RandomSplitter()\n",
    "        train_dataset, test_dataset = splitter.train_test_split(dataset=dataset,frac_train=0.8)\n",
    "        \n",
    "        data_train = train_dataset.X\n",
    "        data_test = plant_rdkit_features\n",
    "        label_train = train_dataset.y\n",
    "     \n",
    "    else:\n",
    "        pass\n",
    "    return  data_train, data_test, label_train"
   ]
  },
  {
   "cell_type": "markdown",
   "id": "7f12f6c6",
   "metadata": {},
   "source": [
    "# 定义模型"
   ]
  },
  {
   "cell_type": "code",
   "execution_count": 20,
   "id": "6bc975c8",
   "metadata": {},
   "outputs": [],
   "source": [
    "def SelectModel(modelname):\n",
    "\n",
    "    if modelname == \"rf_maccs\":\n",
    "        model = rf_maccs_model\n",
    "\n",
    "    elif modelname == \"rf_rdkit\":\n",
    "        model = rf_rdkit_model\n",
    "        \n",
    "    elif modelname == \"svm_maccs\":\n",
    "        model = svm_maccs_model\n",
    "\n",
    "    elif modelname == \"xgb_maccs\":\n",
    "        model = xgb_maccs_model\n",
    "\n",
    "    else:\n",
    "        pass\n",
    "    \n",
    "    return model"
   ]
  },
  {
   "cell_type": "code",
   "execution_count": 33,
   "id": "bd7980d0",
   "metadata": {},
   "outputs": [],
   "source": [
    "def get_oof(clf,n_folds,X_train,y_train,X_test):\n",
    "    ntrain = X_train.shape[0]\n",
    "    ntest =  X_test.shape[0]\n",
    "    classnum = len(np.unique(y_train))\n",
    "    kf = KFold(n_splits=n_folds,random_state=42,shuffle=True)\n",
    "    oof_train = np.zeros((ntrain,classnum))\n",
    "    oof_test = np.zeros((ntest,classnum))\n",
    "\n",
    "    for i,(train_index, test_index) in enumerate(kf.split(X_train)):\n",
    "        kf_X_train = X_train[train_index] # 数据\n",
    "        kf_y_train = y_train[train_index] # 标签\n",
    "\n",
    "        kf_X_test = X_train[test_index]  # k-fold的验证集\n",
    "\n",
    "        #clf.fit(kf_X_train, kf_y_train)\n",
    "        oof_train[test_index] = clf.predict_proba(kf_X_test)\n",
    "\n",
    "        oof_test += clf.predict_proba(X_test)\n",
    "    oof_test = oof_test/float(n_folds)\n",
    "    return oof_train, oof_test"
   ]
  },
  {
   "cell_type": "code",
   "execution_count": null,
   "id": "a7b8ec75",
   "metadata": {},
   "outputs": [],
   "source": []
  },
  {
   "cell_type": "code",
   "execution_count": 22,
   "id": "44ec3718",
   "metadata": {},
   "outputs": [],
   "source": [
    "# 使用stacking方法的时候\n",
    "# 第一级，重构特征当做第二级的训练集\n",
    "modelist = ['rf_maccs','rf_rdkit','svm_maccs','xgb_maccs']\n",
    "newfeature_list = []\n",
    "newtestdata_list = []\n",
    "\n",
    "for modelname in modelist:\n",
    "    clf_first = SelectModel(modelname)\n",
    "    \n",
    "    if modelname == 'rf_maccs':\n",
    "        data_train, data_test, label_train = featurizer('MACCS')\n",
    "    elif modelname == 'rf_rdkit':\n",
    "        data_train, data_test, label_train = featurizer('RDkit')\n",
    "    elif modelname == 'svm_maccs':\n",
    "        data_train, data_test, label_train = featurizer('MACCS')\n",
    "    elif modelname == 'xgb_maccs':\n",
    "        data_train, data_test, label_train = featurizer('MACCS')\n",
    "    else:\n",
    "        pass\n",
    "        \n",
    "    \n",
    "    oof_train_ ,oof_test_= get_oof(clf=clf_first,n_folds=5,X_train=data_train,y_train=label_train,X_test=data_test)\n",
    "    newfeature_list.append(oof_train_)\n",
    "    newtestdata_list.append(oof_test_)"
   ]
  },
  {
   "cell_type": "code",
   "execution_count": 24,
   "id": "f2b09c4b",
   "metadata": {},
   "outputs": [
    {
     "data": {
      "text/html": [
       "<style>#sk-container-id-1 {color: black;background-color: white;}#sk-container-id-1 pre{padding: 0;}#sk-container-id-1 div.sk-toggleable {background-color: white;}#sk-container-id-1 label.sk-toggleable__label {cursor: pointer;display: block;width: 100%;margin-bottom: 0;padding: 0.3em;box-sizing: border-box;text-align: center;}#sk-container-id-1 label.sk-toggleable__label-arrow:before {content: \"▸\";float: left;margin-right: 0.25em;color: #696969;}#sk-container-id-1 label.sk-toggleable__label-arrow:hover:before {color: black;}#sk-container-id-1 div.sk-estimator:hover label.sk-toggleable__label-arrow:before {color: black;}#sk-container-id-1 div.sk-toggleable__content {max-height: 0;max-width: 0;overflow: hidden;text-align: left;background-color: #f0f8ff;}#sk-container-id-1 div.sk-toggleable__content pre {margin: 0.2em;color: black;border-radius: 0.25em;background-color: #f0f8ff;}#sk-container-id-1 input.sk-toggleable__control:checked~div.sk-toggleable__content {max-height: 200px;max-width: 100%;overflow: auto;}#sk-container-id-1 input.sk-toggleable__control:checked~label.sk-toggleable__label-arrow:before {content: \"▾\";}#sk-container-id-1 div.sk-estimator input.sk-toggleable__control:checked~label.sk-toggleable__label {background-color: #d4ebff;}#sk-container-id-1 div.sk-label input.sk-toggleable__control:checked~label.sk-toggleable__label {background-color: #d4ebff;}#sk-container-id-1 input.sk-hidden--visually {border: 0;clip: rect(1px 1px 1px 1px);clip: rect(1px, 1px, 1px, 1px);height: 1px;margin: -1px;overflow: hidden;padding: 0;position: absolute;width: 1px;}#sk-container-id-1 div.sk-estimator {font-family: monospace;background-color: #f0f8ff;border: 1px dotted black;border-radius: 0.25em;box-sizing: border-box;margin-bottom: 0.5em;}#sk-container-id-1 div.sk-estimator:hover {background-color: #d4ebff;}#sk-container-id-1 div.sk-parallel-item::after {content: \"\";width: 100%;border-bottom: 1px solid gray;flex-grow: 1;}#sk-container-id-1 div.sk-label:hover label.sk-toggleable__label {background-color: #d4ebff;}#sk-container-id-1 div.sk-serial::before {content: \"\";position: absolute;border-left: 1px solid gray;box-sizing: border-box;top: 0;bottom: 0;left: 50%;z-index: 0;}#sk-container-id-1 div.sk-serial {display: flex;flex-direction: column;align-items: center;background-color: white;padding-right: 0.2em;padding-left: 0.2em;position: relative;}#sk-container-id-1 div.sk-item {position: relative;z-index: 1;}#sk-container-id-1 div.sk-parallel {display: flex;align-items: stretch;justify-content: center;background-color: white;position: relative;}#sk-container-id-1 div.sk-item::before, #sk-container-id-1 div.sk-parallel-item::before {content: \"\";position: absolute;border-left: 1px solid gray;box-sizing: border-box;top: 0;bottom: 0;left: 50%;z-index: -1;}#sk-container-id-1 div.sk-parallel-item {display: flex;flex-direction: column;z-index: 1;position: relative;background-color: white;}#sk-container-id-1 div.sk-parallel-item:first-child::after {align-self: flex-end;width: 50%;}#sk-container-id-1 div.sk-parallel-item:last-child::after {align-self: flex-start;width: 50%;}#sk-container-id-1 div.sk-parallel-item:only-child::after {width: 0;}#sk-container-id-1 div.sk-dashed-wrapped {border: 1px dashed gray;margin: 0 0.4em 0.5em 0.4em;box-sizing: border-box;padding-bottom: 0.4em;background-color: white;}#sk-container-id-1 div.sk-label label {font-family: monospace;font-weight: bold;display: inline-block;line-height: 1.2em;}#sk-container-id-1 div.sk-label-container {text-align: center;}#sk-container-id-1 div.sk-container {/* jupyter's `normalize.less` sets `[hidden] { display: none; }` but bootstrap.min.css set `[hidden] { display: none !important; }` so we also need the `!important` here to be able to override the default hidden behavior on the sphinx rendered scikit-learn.org. See: https://github.com/scikit-learn/scikit-learn/issues/21755 */display: inline-block !important;position: relative;}#sk-container-id-1 div.sk-text-repr-fallback {display: none;}</style><div id=\"sk-container-id-1\" class=\"sk-top-container\"><div class=\"sk-text-repr-fallback\"><pre>RandomForestClassifier()</pre><b>In a Jupyter environment, please rerun this cell to show the HTML representation or trust the notebook. <br />On GitHub, the HTML representation is unable to render, please try loading this page with nbviewer.org.</b></div><div class=\"sk-container\" hidden><div class=\"sk-item\"><div class=\"sk-estimator sk-toggleable\"><input class=\"sk-toggleable__control sk-hidden--visually\" id=\"sk-estimator-id-1\" type=\"checkbox\" checked><label for=\"sk-estimator-id-1\" class=\"sk-toggleable__label sk-toggleable__label-arrow\">RandomForestClassifier</label><div class=\"sk-toggleable__content\"><pre>RandomForestClassifier()</pre></div></div></div></div></div>"
      ],
      "text/plain": [
       "RandomForestClassifier()"
      ]
     },
     "execution_count": 24,
     "metadata": {},
     "output_type": "execute_result"
    }
   ],
   "source": [
    "# 特征组合\n",
    "newfeature = reduce(lambda x,y:np.concatenate((x,y),axis=1),newfeature_list)    \n",
    "newtestdata = reduce(lambda x,y:np.concatenate((x,y),axis=1),newtestdata_list)\n",
    "\n",
    "# 第二级，使用上一级输出的当做训练集\n",
    "clf_second1 = RandomForestClassifier()\n",
    "clf_second1.fit(newfeature, label_train)"
   ]
  },
  {
   "cell_type": "code",
   "execution_count": 25,
   "id": "60c9759b",
   "metadata": {},
   "outputs": [],
   "source": [
    "pred_proba = clf_second1.predict_proba(newtestdata)"
   ]
  },
  {
   "cell_type": "code",
   "execution_count": 26,
   "id": "7ecc7550",
   "metadata": {},
   "outputs": [],
   "source": [
    "test_pred_list = []\n",
    "for test_score in pred_proba:\n",
    "    test_score = test_score[1]\n",
    "    test_pred_list.append(test_score)"
   ]
  },
  {
   "cell_type": "code",
   "execution_count": 27,
   "id": "ced70b26",
   "metadata": {},
   "outputs": [],
   "source": [
    "test_pred_array = np.array(test_pred_list)"
   ]
  },
  {
   "cell_type": "code",
   "execution_count": 28,
   "id": "07551cdb",
   "metadata": {},
   "outputs": [
    {
     "data": {
      "text/plain": [
       "array([0.94, 0.95, 0.96, ..., 0.96, 0.91, 0.99])"
      ]
     },
     "execution_count": 28,
     "metadata": {},
     "output_type": "execute_result"
    }
   ],
   "source": [
    "test_pred_array"
   ]
  },
  {
   "cell_type": "code",
   "execution_count": 29,
   "id": "ae31d125",
   "metadata": {},
   "outputs": [],
   "source": [
    "# 创建 DataFrame\n",
    "df = pd.DataFrame({\n",
    "    'name':plant['Volatile_compounds'],\n",
    "    'smiles':plant['smiles'],\n",
    "    'final_pred':test_pred_array\n",
    "})"
   ]
  },
  {
   "cell_type": "code",
   "execution_count": 30,
   "id": "0fa38895",
   "metadata": {},
   "outputs": [
    {
     "data": {
      "text/html": [
       "<div>\n",
       "<style scoped>\n",
       "    .dataframe tbody tr th:only-of-type {\n",
       "        vertical-align: middle;\n",
       "    }\n",
       "\n",
       "    .dataframe tbody tr th {\n",
       "        vertical-align: top;\n",
       "    }\n",
       "\n",
       "    .dataframe thead th {\n",
       "        text-align: right;\n",
       "    }\n",
       "</style>\n",
       "<table border=\"1\" class=\"dataframe\">\n",
       "  <thead>\n",
       "    <tr style=\"text-align: right;\">\n",
       "      <th></th>\n",
       "      <th>name</th>\n",
       "      <th>smiles</th>\n",
       "      <th>final_pred</th>\n",
       "    </tr>\n",
       "  </thead>\n",
       "  <tbody>\n",
       "    <tr>\n",
       "      <th>0</th>\n",
       "      <td>1-Pentanol</td>\n",
       "      <td>CCCCCO</td>\n",
       "      <td>0.94</td>\n",
       "    </tr>\n",
       "    <tr>\n",
       "      <th>1</th>\n",
       "      <td>Palmitic Acid</td>\n",
       "      <td>CCCCCCCCCCCCCCCC(=O)O</td>\n",
       "      <td>0.95</td>\n",
       "    </tr>\n",
       "    <tr>\n",
       "      <th>2</th>\n",
       "      <td>Methyl palmitate</td>\n",
       "      <td>CCCCCCCCCCCCCCCC(=O)OC</td>\n",
       "      <td>0.96</td>\n",
       "    </tr>\n",
       "    <tr>\n",
       "      <th>3</th>\n",
       "      <td>(Z)-1-(2,6,6-Trimethyl-1-cyclohexen-1-yl)-2-bu...</td>\n",
       "      <td>CC=CC(=O)C1=C(CCCC1(C)C)C</td>\n",
       "      <td>0.98</td>\n",
       "    </tr>\n",
       "    <tr>\n",
       "      <th>4</th>\n",
       "      <td>Bornyl formate</td>\n",
       "      <td>CC1(C2CCC1(C(C2)OC=O)C)C</td>\n",
       "      <td>0.91</td>\n",
       "    </tr>\n",
       "    <tr>\n",
       "      <th>...</th>\n",
       "      <td>...</td>\n",
       "      <td>...</td>\n",
       "      <td>...</td>\n",
       "    </tr>\n",
       "    <tr>\n",
       "      <th>2391</th>\n",
       "      <td>1,3-Dimethylcyclohexene</td>\n",
       "      <td>CC1CCCC(=C1)C</td>\n",
       "      <td>0.98</td>\n",
       "    </tr>\n",
       "    <tr>\n",
       "      <th>2392</th>\n",
       "      <td>1-Methyl-2-pyridone</td>\n",
       "      <td>CN1C=CC=CC1=O</td>\n",
       "      <td>0.16</td>\n",
       "    </tr>\n",
       "    <tr>\n",
       "      <th>2393</th>\n",
       "      <td>alpha-Bourbonene</td>\n",
       "      <td>CC1=CCC2C1C3C2(CCC3C(C)C)C</td>\n",
       "      <td>0.96</td>\n",
       "    </tr>\n",
       "    <tr>\n",
       "      <th>2394</th>\n",
       "      <td>Deoxysericealactone</td>\n",
       "      <td>CC1=C2CC(C(CC2OC1=O)(C)C=C)C(=C)C(=O)OC</td>\n",
       "      <td>0.91</td>\n",
       "    </tr>\n",
       "    <tr>\n",
       "      <th>2395</th>\n",
       "      <td>2-Butanone, 4-(2,6,6-trimethyl-2-cyclohexen-1-...</td>\n",
       "      <td>CC1=CCCC(C1=CCC(=O)C)(C)C</td>\n",
       "      <td>0.99</td>\n",
       "    </tr>\n",
       "  </tbody>\n",
       "</table>\n",
       "<p>2396 rows × 3 columns</p>\n",
       "</div>"
      ],
      "text/plain": [
       "                                                   name   \n",
       "0                                            1-Pentanol  \\\n",
       "1                                         Palmitic Acid   \n",
       "2                                      Methyl palmitate   \n",
       "3     (Z)-1-(2,6,6-Trimethyl-1-cyclohexen-1-yl)-2-bu...   \n",
       "4                                        Bornyl formate   \n",
       "...                                                 ...   \n",
       "2391                           1,3-Dimethylcyclohexene    \n",
       "2392                                1-Methyl-2-pyridone   \n",
       "2393                                   alpha-Bourbonene   \n",
       "2394                               Deoxysericealactone    \n",
       "2395  2-Butanone, 4-(2,6,6-trimethyl-2-cyclohexen-1-...   \n",
       "\n",
       "                                       smiles  final_pred  \n",
       "0                                      CCCCCO        0.94  \n",
       "1                       CCCCCCCCCCCCCCCC(=O)O        0.95  \n",
       "2                      CCCCCCCCCCCCCCCC(=O)OC        0.96  \n",
       "3                   CC=CC(=O)C1=C(CCCC1(C)C)C        0.98  \n",
       "4                    CC1(C2CCC1(C(C2)OC=O)C)C        0.91  \n",
       "...                                       ...         ...  \n",
       "2391                            CC1CCCC(=C1)C        0.98  \n",
       "2392                            CN1C=CC=CC1=O        0.16  \n",
       "2393               CC1=CCC2C1C3C2(CCC3C(C)C)C        0.96  \n",
       "2394  CC1=C2CC(C(CC2OC1=O)(C)C=C)C(=C)C(=O)OC        0.91  \n",
       "2395                CC1=CCCC(C1=CCC(=O)C)(C)C        0.99  \n",
       "\n",
       "[2396 rows x 3 columns]"
      ]
     },
     "execution_count": 30,
     "metadata": {},
     "output_type": "execute_result"
    }
   ],
   "source": [
    "df"
   ]
  },
  {
   "cell_type": "code",
   "execution_count": 31,
   "id": "fa13a46f",
   "metadata": {},
   "outputs": [],
   "source": [
    "df.to_csv('iplant(0.6).csv')"
   ]
  },
  {
   "cell_type": "code",
   "execution_count": null,
   "id": "2339ee2a",
   "metadata": {},
   "outputs": [],
   "source": []
  },
  {
   "cell_type": "code",
   "execution_count": null,
   "id": "015c324f",
   "metadata": {},
   "outputs": [],
   "source": []
  },
  {
   "cell_type": "code",
   "execution_count": null,
   "id": "ab44edc4",
   "metadata": {},
   "outputs": [],
   "source": []
  },
  {
   "cell_type": "code",
   "execution_count": null,
   "id": "90f1c290",
   "metadata": {},
   "outputs": [],
   "source": []
  }
 ],
 "metadata": {
  "kernelspec": {
   "display_name": "GABA",
   "language": "python",
   "name": "gaba"
  },
  "language_info": {
   "codemirror_mode": {
    "name": "ipython",
    "version": 3
   },
   "file_extension": ".py",
   "mimetype": "text/x-python",
   "name": "python",
   "nbconvert_exporter": "python",
   "pygments_lexer": "ipython3",
   "version": "3.8.16"
  }
 },
 "nbformat": 4,
 "nbformat_minor": 5
}
