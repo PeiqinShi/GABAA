{
 "cells": [
  {
   "cell_type": "code",
   "execution_count": 1,
   "id": "a0c82d5c",
   "metadata": {},
   "outputs": [
    {
     "name": "stderr",
     "output_type": "stream",
     "text": [
      "Skipped loading some Tensorflow models, missing a dependency. No module named 'tensorflow'\n",
      "Skipped loading modules with pytorch-geometric dependency, missing a dependency. No module named 'torch_geometric'\n",
      "Skipped loading modules with pytorch-geometric dependency, missing a dependency. cannot import name 'DMPNN' from 'deepchem.models.torch_models' (D:\\anaconda\\envs\\PI3K\\lib\\site-packages\\deepchem\\models\\torch_models\\__init__.py)\n",
      "Skipped loading modules with pytorch-lightning dependency, missing a dependency. No module named 'pytorch_lightning'\n",
      "Skipped loading some Jax models, missing a dependency. No module named 'jax'\n"
     ]
    }
   ],
   "source": [
    "import deepchem as dc\n",
    "import pandas as pd\n",
    "import numpy as np\n",
    "\n",
    "import xgboost as xgb\n",
    "from sklearn.model_selection import GridSearchCV,KFold\n",
    "\n",
    "from sklearn.metrics import make_scorer\n",
    "from sklearn.metrics import confusion_matrix\n",
    "from sklearn.metrics import roc_auc_score\n",
    "from sklearn.metrics import f1_score\n",
    "from sklearn.metrics import balanced_accuracy_score\n",
    "from sklearn.metrics import matthews_corrcoef"
   ]
  },
  {
   "cell_type": "code",
   "execution_count": 2,
   "id": "44f03c02",
   "metadata": {},
   "outputs": [],
   "source": [
    "data = pd.read_csv('../../data/refined_gabaa.csv')"
   ]
  },
  {
   "cell_type": "markdown",
   "id": "75ee29fc",
   "metadata": {},
   "source": [
    "# Feature extraction & Data splitting"
   ]
  },
  {
   "cell_type": "code",
   "execution_count": 3,
   "id": "624994b4",
   "metadata": {},
   "outputs": [],
   "source": [
    "featurizer = dc.feat.MACCSKeysFingerprint()\n",
    "X = featurizer.featurize(data['smiles'])\n",
    "Y = data['label']\n",
    "dataset = dc.data.DiskDataset.from_numpy(X=X,y=Y,ids=data['smiles'])"
   ]
  },
  {
   "cell_type": "code",
   "execution_count": 6,
   "id": "8cb86086",
   "metadata": {},
   "outputs": [],
   "source": [
    "splitter = dc.splits.ScaffoldSplitter()\n",
    "train_dataset,test_dataset = splitter.train_test_split(dataset=dataset,frac_train=0.7,seed=200)"
   ]
  },
  {
   "cell_type": "markdown",
   "id": "e6ae37cd",
   "metadata": {},
   "source": [
    "# GridSearchCV"
   ]
  },
  {
   "cell_type": "code",
   "execution_count": 7,
   "id": "7f48b76b",
   "metadata": {},
   "outputs": [
    {
     "name": "stderr",
     "output_type": "stream",
     "text": [
      "D:\\anaconda\\envs\\PI3K\\lib\\site-packages\\xgboost\\sklearn.py:1224: UserWarning: The use of label encoder in XGBClassifier is deprecated and will be removed in a future release. To remove this warning, do the following: 1) Pass option use_label_encoder=False when constructing XGBClassifier object; and 2) Encode your labels (y) as integers starting with 0, i.e. 0, 1, 2, ..., [num_class - 1].\n",
      "  warnings.warn(label_encoder_deprecation_msg, UserWarning)\n"
     ]
    },
    {
     "name": "stdout",
     "output_type": "stream",
     "text": [
      "[15:26:01] WARNING: ..\\src\\learner.cc:1115: Starting in XGBoost 1.3.0, the default evaluation metric used with the objective 'binary:logistic' was changed from 'error' to 'logloss'. Explicitly set eval_metric if you'd like to restore the old behavior.\n"
     ]
    }
   ],
   "source": [
    "scoring = {\n",
    "          'F1':make_scorer(f1_score),\n",
    "          'AUC':make_scorer(roc_auc_score),\n",
    "           'BA':make_scorer(balanced_accuracy_score),\n",
    "           'MCC':make_scorer(matthews_corrcoef)\n",
    "}\n",
    "\n",
    "\n",
    "param_grid = {'n_estimators':[200],\n",
    "                  'max_depth':[3,5,7,9],\n",
    "                  'colsample_bytree':[0.5,0.7,0.9],\n",
    "                 'learning_rate':[0.01,0.05, 0.1,0.15,0.2]\n",
    "                 }\n",
    "\n",
    "xgb_classifier = xgb.XGBClassifier()\n",
    "\n",
    "cv = KFold(n_splits=5, shuffle=True, random_state=200)\n",
    "\n",
    "gs = GridSearchCV(\n",
    "                   xgb_classifier,\n",
    "                   param_grid,\n",
    "                 scoring = scoring,\n",
    "                  cv = cv,\n",
    "                 n_jobs = -1,\n",
    "               refit = 'F1',\n",
    "               return_train_score = True)\n",
    "\n",
    "gs_fit = gs.fit(train_dataset.X, train_dataset.y.ravel())"
   ]
  },
  {
   "cell_type": "code",
   "execution_count": 8,
   "id": "a8128feb",
   "metadata": {},
   "outputs": [],
   "source": [
    "val_F1 = gs.best_score_\n",
    "val_AUC = gs.cv_results_['mean_test_AUC'][gs.best_index_]\n",
    "val_BA = gs.cv_results_['mean_test_BA'][gs.best_index_]\n",
    "val_MCC = gs.cv_results_['mean_test_MCC'][gs.best_index_]"
   ]
  },
  {
   "cell_type": "markdown",
   "id": "56cfe7bf",
   "metadata": {},
   "source": [
    "# GridSearchCV_Result"
   ]
  },
  {
   "cell_type": "code",
   "execution_count": 9,
   "id": "d5f26011",
   "metadata": {},
   "outputs": [
    {
     "name": "stdout",
     "output_type": "stream",
     "text": [
      "Best parameters:  {'colsample_bytree': 0.5, 'learning_rate': 0.15, 'max_depth': 9, 'n_estimators': 200}\n",
      "Best score (F1):  0.8127029010346719\n",
      "AUC:  0.8593102963326789\n",
      "BA:  0.8593102963326789\n",
      "MCC:  0.7256191218627507\n"
     ]
    }
   ],
   "source": [
    "print('Best parameters: ', gs.best_params_)\n",
    "print('Best score (F1): ', gs.best_score_)\n",
    "print('AUC: ',gs.cv_results_['mean_test_AUC'][gs.best_index_])\n",
    "print('BA: ', gs.cv_results_['mean_test_BA'][gs.best_index_])\n",
    "print('MCC: ',gs.cv_results_['mean_test_MCC'][gs.best_index_])"
   ]
  },
  {
   "cell_type": "code",
   "execution_count": 10,
   "id": "19b19762",
   "metadata": {},
   "outputs": [
    {
     "data": {
      "text/plain": [
       "XGBClassifier(base_score=0.5, booster='gbtree', colsample_bylevel=1,\n",
       "              colsample_bynode=1, colsample_bytree=0.5,\n",
       "              enable_categorical=False, gamma=0, gpu_id=-1,\n",
       "              importance_type=None, interaction_constraints='',\n",
       "              learning_rate=0.15, max_delta_step=0, max_depth=9,\n",
       "              min_child_weight=1, missing=nan, monotone_constraints='()',\n",
       "              n_estimators=200, n_jobs=8, num_parallel_tree=1, predictor='auto',\n",
       "              random_state=0, reg_alpha=0, reg_lambda=1, scale_pos_weight=1,\n",
       "              subsample=1, tree_method='exact', validate_parameters=1,\n",
       "              verbosity=None)"
      ]
     },
     "execution_count": 10,
     "metadata": {},
     "output_type": "execute_result"
    }
   ],
   "source": [
    "xgb_model = gs_fit.best_estimator_\n",
    "xgb_model"
   ]
  },
  {
   "cell_type": "markdown",
   "id": "9e56bc78",
   "metadata": {},
   "source": [
    "# Evaluate model"
   ]
  },
  {
   "cell_type": "code",
   "execution_count": 11,
   "id": "056ec7f5",
   "metadata": {},
   "outputs": [],
   "source": [
    "y_test_pred_proba = xgb_model.predict_proba(test_dataset.X)\n",
    "y_test_pred = xgb_model.predict(test_dataset.X)"
   ]
  },
  {
   "cell_type": "code",
   "execution_count": 12,
   "id": "8c51f701",
   "metadata": {},
   "outputs": [
    {
     "name": "stdout",
     "output_type": "stream",
     "text": [
      "TN: 158\n",
      "FP: 20\n",
      "FN: 130\n",
      "TP: 265\n"
     ]
    }
   ],
   "source": [
    "tn, fp, fn, tp = confusion_matrix(test_dataset.y, y_test_pred).ravel()\n",
    "print('TN:', tn)\n",
    "print('FP:', fp)\n",
    "print('FN:', fn)\n",
    "print('TP:', tp)"
   ]
  },
  {
   "cell_type": "code",
   "execution_count": 13,
   "id": "97b8bd69",
   "metadata": {},
   "outputs": [],
   "source": [
    "test_pred_list = []\n",
    "for test_score in y_test_pred_proba:\n",
    "    test_score = test_score[1]\n",
    "    test_pred_list.append(test_score)"
   ]
  },
  {
   "cell_type": "code",
   "execution_count": 14,
   "id": "f34471c9",
   "metadata": {},
   "outputs": [],
   "source": [
    "test_pred_array = np.array(test_pred_list)"
   ]
  },
  {
   "cell_type": "code",
   "execution_count": 15,
   "id": "51cea8ab",
   "metadata": {},
   "outputs": [],
   "source": [
    "test_F1 = f1_score(test_dataset.y,np.round(test_pred_array))\n",
    "test_AUC = roc_auc_score(test_dataset.y,test_pred_list)\n",
    "test_BA =  balanced_accuracy_score(test_dataset.y,np.round(test_pred_array))\n",
    "test_MCC = matthews_corrcoef(test_dataset.y,np.round(test_pred_array))"
   ]
  },
  {
   "cell_type": "markdown",
   "id": "92d3502a",
   "metadata": {},
   "source": [
    "# Finall result"
   ]
  },
  {
   "cell_type": "code",
   "execution_count": 16,
   "id": "676d7186",
   "metadata": {},
   "outputs": [],
   "source": [
    "performance_dataset = {\n",
    "    'F1':[val_F1,test_F1],\n",
    "    'AUC':[val_AUC,test_AUC],\n",
    "    'BA':[val_BA,test_BA],\n",
    "    'MCC':[val_MCC,test_MCC],\n",
    "}"
   ]
  },
  {
   "cell_type": "code",
   "execution_count": 17,
   "id": "e30c6b51",
   "metadata": {},
   "outputs": [
    {
     "data": {
      "text/html": [
       "<div>\n",
       "<style scoped>\n",
       "    .dataframe tbody tr th:only-of-type {\n",
       "        vertical-align: middle;\n",
       "    }\n",
       "\n",
       "    .dataframe tbody tr th {\n",
       "        vertical-align: top;\n",
       "    }\n",
       "\n",
       "    .dataframe thead th {\n",
       "        text-align: right;\n",
       "    }\n",
       "</style>\n",
       "<table border=\"1\" class=\"dataframe\">\n",
       "  <thead>\n",
       "    <tr style=\"text-align: right;\">\n",
       "      <th></th>\n",
       "      <th>F1</th>\n",
       "      <th>AUC</th>\n",
       "      <th>BA</th>\n",
       "      <th>MCC</th>\n",
       "    </tr>\n",
       "  </thead>\n",
       "  <tbody>\n",
       "    <tr>\n",
       "      <th>val</th>\n",
       "      <td>0.812703</td>\n",
       "      <td>0.859310</td>\n",
       "      <td>0.859310</td>\n",
       "      <td>0.725619</td>\n",
       "    </tr>\n",
       "    <tr>\n",
       "      <th>test</th>\n",
       "      <td>0.779412</td>\n",
       "      <td>0.884085</td>\n",
       "      <td>0.779263</td>\n",
       "      <td>0.516932</td>\n",
       "    </tr>\n",
       "  </tbody>\n",
       "</table>\n",
       "</div>"
      ],
      "text/plain": [
       "            F1       AUC        BA       MCC\n",
       "val   0.812703  0.859310  0.859310  0.725619\n",
       "test  0.779412  0.884085  0.779263  0.516932"
      ]
     },
     "execution_count": 17,
     "metadata": {},
     "output_type": "execute_result"
    }
   ],
   "source": [
    "performance = pd.DataFrame(performance_dataset,index=['val','test'])\n",
    "performance"
   ]
  }
 ],
 "metadata": {
  "kernelspec": {
   "display_name": "PI3K",
   "language": "python",
   "name": "pi3k"
  },
  "language_info": {
   "codemirror_mode": {
    "name": "ipython",
    "version": 3
   },
   "file_extension": ".py",
   "mimetype": "text/x-python",
   "name": "python",
   "nbconvert_exporter": "python",
   "pygments_lexer": "ipython3",
   "version": "3.7.11"
  }
 },
 "nbformat": 4,
 "nbformat_minor": 5
}
