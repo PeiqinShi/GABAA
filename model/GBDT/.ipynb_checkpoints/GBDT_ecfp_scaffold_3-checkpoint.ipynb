{
 "cells": [
  {
   "cell_type": "code",
   "execution_count": 1,
   "id": "42ef371c",
   "metadata": {},
   "outputs": [
    {
     "name": "stderr",
     "output_type": "stream",
     "text": [
      "Skipped loading some Tensorflow models, missing a dependency. No module named 'tensorflow'\n",
      "Skipped loading modules with pytorch-lightning dependency, missing a dependency. No module named 'pytorch_lightning'\n",
      "Skipped loading some Jax models, missing a dependency. jax requires jaxlib to be installed. See https://github.com/google/jax#installation for installation instructions.\n"
     ]
    }
   ],
   "source": [
    "import deepchem as dc\n",
    "import pandas as pd\n",
    "import numpy as np\n",
    "from rdkit import Chem\n",
    "\n",
    "import sklearn\n",
    "from sklearn.ensemble import GradientBoostingClassifier\n",
    "from sklearn.model_selection import GridSearchCV,KFold\n",
    "\n",
    "from sklearn import metrics\n",
    "from sklearn.metrics import confusion_matrix\n",
    "from sklearn.metrics import make_scorer\n",
    "from sklearn.metrics import roc_auc_score\n",
    "from sklearn.metrics import f1_score\n",
    "from sklearn.metrics import accuracy_score\n",
    "from sklearn.metrics import recall_score\n",
    "from sklearn.metrics import precision_score\n",
    "\n",
    "import matplotlib.pyplot as plt\n",
    "\n",
    "import warnings\n",
    "warnings.filterwarnings('ignore')"
   ]
  },
  {
   "cell_type": "code",
   "execution_count": 2,
   "id": "76240be2",
   "metadata": {},
   "outputs": [],
   "source": [
    "data = pd.read_csv('../../data/refined_gabaa.csv')"
   ]
  },
  {
   "cell_type": "markdown",
   "id": "453a3c52",
   "metadata": {},
   "source": [
    "# Feature extraction & Data splitting"
   ]
  },
  {
   "cell_type": "code",
   "execution_count": 3,
   "id": "8bafb88d",
   "metadata": {},
   "outputs": [],
   "source": [
    "featurizer = dc.feat.CircularFingerprint(size=1024,radius=4)\n",
    "X = featurizer.featurize(data['smiles'])\n",
    "Y = data['label']\n",
    "dataset = dc.data.DiskDataset.from_numpy(X=X,y=Y,ids=data['smiles'])"
   ]
  },
  {
   "cell_type": "code",
   "execution_count": 4,
   "id": "3a3cc8e4",
   "metadata": {},
   "outputs": [],
   "source": [
    "splitter = dc.splits.ScaffoldSplitter()\n",
    "train_dataset, test_dataset = splitter.train_test_split(dataset=dataset,frac_train=0.7,seed=400)"
   ]
  },
  {
   "cell_type": "markdown",
   "id": "a9466420",
   "metadata": {},
   "source": [
    "# GridSearchCV"
   ]
  },
  {
   "cell_type": "code",
   "execution_count": 5,
   "id": "e91094d5",
   "metadata": {},
   "outputs": [],
   "source": [
    "scoring = {'AUC':make_scorer(roc_auc_score),\n",
    "           'F1':make_scorer(f1_score),\n",
    "           'ACC':make_scorer(accuracy_score),\n",
    "           'Recall':make_scorer(recall_score),\n",
    "           'Precision':make_scorer(precision_score)}\n",
    "\n",
    "\n",
    "param_grid = {'learning_rate': [0.1,0.3,0.5,0.7,0.9],\n",
    "              'n_estimators':[50,100,150,200],\n",
    "              'max_depth': [ 4, 5, 6, 7, 8]}\n",
    "\n",
    "\n",
    "gbdt_classifier = GradientBoostingClassifier(random_state=42)\n",
    "\n",
    "cv = KFold(n_splits=5, shuffle=True, random_state=400)\n",
    "\n",
    "gs = GridSearchCV(\n",
    "                    gbdt_classifier,\n",
    "                   param_grid,\n",
    "                 scoring = scoring,\n",
    "                  cv = cv,\n",
    "                 n_jobs = -1,\n",
    "               refit = 'AUC',\n",
    "               return_train_score = True)\n",
    "\n",
    "gs_fit = gs.fit(train_dataset.X, train_dataset.y.ravel())"
   ]
  },
  {
   "cell_type": "code",
   "execution_count": 6,
   "id": "85c2f369",
   "metadata": {},
   "outputs": [],
   "source": [
    "val_AUC = gs.best_score_\n",
    "val_F1 = gs.cv_results_['mean_test_F1'][gs.best_index_]\n",
    "val_ACC = gs.cv_results_['mean_test_ACC'][gs.best_index_]\n",
    "val_Recall = gs.cv_results_['mean_test_Recall'][gs.best_index_]\n",
    "val_Precision = gs.cv_results_['mean_test_Precision'][gs.best_index_]"
   ]
  },
  {
   "cell_type": "markdown",
   "id": "56cfe7bf",
   "metadata": {},
   "source": [
    "# GridSearchCV_Result"
   ]
  },
  {
   "cell_type": "code",
   "execution_count": 7,
   "id": "453b548a",
   "metadata": {},
   "outputs": [
    {
     "name": "stdout",
     "output_type": "stream",
     "text": [
      "Best parameters:  {'learning_rate': 0.5, 'max_depth': 8, 'n_estimators': 200}\n",
      "Best score (AUC):  0.8751134525468262\n",
      "F1:  0.8425754951981712\n",
      "ACC:  0.8867517539931333\n",
      "Recall:  0.8303739051496036\n",
      "Precision:  0.8571884368543309\n"
     ]
    }
   ],
   "source": [
    "print('Best parameters: ', gs.best_params_)\n",
    "print('Best score (AUC): ', gs.best_score_)\n",
    "print('F1: ', gs.cv_results_['mean_test_F1'][gs.best_index_])\n",
    "print('ACC: ', gs.cv_results_['mean_test_ACC'][gs.best_index_])\n",
    "print('Recall: ',gs.cv_results_['mean_test_Recall'][gs.best_index_])\n",
    "print('Precision: ', gs.cv_results_['mean_test_Precision'][gs.best_index_])"
   ]
  },
  {
   "cell_type": "code",
   "execution_count": 8,
   "id": "68f75104",
   "metadata": {},
   "outputs": [
    {
     "data": {
      "text/plain": [
       "GradientBoostingClassifier(learning_rate=0.5, max_depth=8, n_estimators=200,\n",
       "                           random_state=42)"
      ]
     },
     "execution_count": 8,
     "metadata": {},
     "output_type": "execute_result"
    }
   ],
   "source": [
    "gbdt_model = gs_fit.best_estimator_\n",
    "gbdt_model"
   ]
  },
  {
   "cell_type": "markdown",
   "id": "9e56bc78",
   "metadata": {},
   "source": [
    "# Evaluate model"
   ]
  },
  {
   "cell_type": "code",
   "execution_count": 9,
   "id": "056ec7f5",
   "metadata": {},
   "outputs": [],
   "source": [
    "y_test_pred_proba = gbdt_model.predict_proba(test_dataset.X)"
   ]
  },
  {
   "cell_type": "code",
   "execution_count": 10,
   "id": "97b8bd69",
   "metadata": {},
   "outputs": [],
   "source": [
    "test_pred_list = []\n",
    "for test_score in y_test_pred_proba:\n",
    "    test_score = test_score[1]\n",
    "    test_pred_list.append(test_score)"
   ]
  },
  {
   "cell_type": "code",
   "execution_count": 11,
   "id": "f34471c9",
   "metadata": {},
   "outputs": [],
   "source": [
    "test_pred_array = np.array(test_pred_list)"
   ]
  },
  {
   "cell_type": "code",
   "execution_count": 12,
   "id": "51cea8ab",
   "metadata": {},
   "outputs": [],
   "source": [
    "test_AUC = roc_auc_score(test_dataset.y,test_pred_list)\n",
    "test_F1 = f1_score(test_dataset.y,np.round(test_pred_array))\n",
    "test_ACC = accuracy_score(test_dataset.y,np.round(test_pred_array))\n",
    "test_Recall = recall_score(test_dataset.y,np.round(test_pred_array))\n",
    "test_Precision = precision_score(test_dataset.y,np.round(test_pred_array))"
   ]
  },
  {
   "cell_type": "markdown",
   "id": "92d3502a",
   "metadata": {},
   "source": [
    "# Finall result"
   ]
  },
  {
   "cell_type": "code",
   "execution_count": 13,
   "id": "676d7186",
   "metadata": {},
   "outputs": [],
   "source": [
    "performance_dataset = {\n",
    "    'AUC':[val_AUC,test_AUC],\n",
    "    'F1_score':[val_F1,test_F1],\n",
    "    'ACC':[val_ACC,test_ACC],\n",
    "    'Recall':[val_Recall,test_Recall],\n",
    "    'Precision':[val_Precision,test_Precision],\n",
    "}"
   ]
  },
  {
   "cell_type": "code",
   "execution_count": 14,
   "id": "28dd4e64",
   "metadata": {},
   "outputs": [
    {
     "data": {
      "text/html": [
       "<div>\n",
       "<style scoped>\n",
       "    .dataframe tbody tr th:only-of-type {\n",
       "        vertical-align: middle;\n",
       "    }\n",
       "\n",
       "    .dataframe tbody tr th {\n",
       "        vertical-align: top;\n",
       "    }\n",
       "\n",
       "    .dataframe thead th {\n",
       "        text-align: right;\n",
       "    }\n",
       "</style>\n",
       "<table border=\"1\" class=\"dataframe\">\n",
       "  <thead>\n",
       "    <tr style=\"text-align: right;\">\n",
       "      <th></th>\n",
       "      <th>AUC</th>\n",
       "      <th>F1_score</th>\n",
       "      <th>ACC</th>\n",
       "      <th>Recall</th>\n",
       "      <th>Precision</th>\n",
       "    </tr>\n",
       "  </thead>\n",
       "  <tbody>\n",
       "    <tr>\n",
       "      <th>val</th>\n",
       "      <td>0.875113</td>\n",
       "      <td>0.842575</td>\n",
       "      <td>0.886752</td>\n",
       "      <td>0.830374</td>\n",
       "      <td>0.857188</td>\n",
       "    </tr>\n",
       "    <tr>\n",
       "      <th>test</th>\n",
       "      <td>0.801720</td>\n",
       "      <td>0.707883</td>\n",
       "      <td>0.619718</td>\n",
       "      <td>0.571072</td>\n",
       "      <td>0.930894</td>\n",
       "    </tr>\n",
       "  </tbody>\n",
       "</table>\n",
       "</div>"
      ],
      "text/plain": [
       "           AUC  F1_score       ACC    Recall  Precision\n",
       "val   0.875113  0.842575  0.886752  0.830374   0.857188\n",
       "test  0.801720  0.707883  0.619718  0.571072   0.930894"
      ]
     },
     "execution_count": 14,
     "metadata": {},
     "output_type": "execute_result"
    }
   ],
   "source": [
    "performance = pd.DataFrame(performance_dataset,index=['val','test'])\n",
    "performance"
   ]
  },
  {
   "cell_type": "code",
   "execution_count": null,
   "id": "0252ea17",
   "metadata": {},
   "outputs": [],
   "source": []
  },
  {
   "cell_type": "code",
   "execution_count": null,
   "id": "642eab9e",
   "metadata": {},
   "outputs": [],
   "source": []
  }
 ],
 "metadata": {
  "kernelspec": {
   "display_name": "attentivefp",
   "language": "python",
   "name": "attentivefp"
  },
  "language_info": {
   "codemirror_mode": {
    "name": "ipython",
    "version": 3
   },
   "file_extension": ".py",
   "mimetype": "text/x-python",
   "name": "python",
   "nbconvert_exporter": "python",
   "pygments_lexer": "ipython3",
   "version": "3.7.11"
  }
 },
 "nbformat": 4,
 "nbformat_minor": 5
}
